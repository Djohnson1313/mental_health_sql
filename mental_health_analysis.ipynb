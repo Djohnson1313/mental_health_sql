{
 "cells": [
  {
   "cell_type": "markdown",
   "id": "a47d55da-aee1-426f-9c2c-05747400012d",
   "metadata": {},
   "source": [
    "# Mental Health in the Tech Industry Analysis"
   ]
  },
  {
   "cell_type": "markdown",
   "id": "ea82fdcc-b9a5-461e-a360-d0c5e6f4d83d",
   "metadata": {},
   "source": [
    "---\n",
    "## Sources and Links\n",
    "Kaggle dataset : [Mental Health in the Tech Industry](https://www.kaggle.com/datasets/anth7310/mental-health-in-the-tech-industry)\n",
    "\n",
    "Website used to create ERD : [dbdiagram.io](https://dbdiagram.io)"
   ]
  },
  {
   "cell_type": "markdown",
   "id": "4a4d022a-a836-404e-af6f-fa58d0bf8551",
   "metadata": {},
   "source": [
    "---\n",
    "# Overview"
   ]
  },
  {
   "cell_type": "markdown",
   "id": "38f5f3e9-f591-4400-bd42-194659959521",
   "metadata": {},
   "source": [
    "- title\n",
    "- sources and links\n",
    "- overview\n",
    "- imports\n",
    "\n",
    "- business understanding\n",
    "    - business objectives\n",
    "    - situation assesment\n",
    "    - data mining goals\n",
    "    \n",
    "    - project plan\n",
    "- data understanding\n",
    "    - data properties\n",
    "    \n",
    "    - ERD\n",
    "- methodoligy\n",
    "- functions\n",
    "- exploritory data analysis\n",
    "- data insight\n",
    "    - gender and age spread\n",
    "    - industry representation\n",
    "    \n",
    "    - mental health\n",
    "        - age\n",
    "        - gender\n",
    "        \n",
    "        - job type"
   ]
  },
  {
   "cell_type": "markdown",
   "id": "7d51a764-d70b-4758-8d1a-c7015c86dc5f",
   "metadata": {},
   "source": [
    "---\n",
    "# Imports\n",
    "\n",
    "Here we import the necessary libraries to understand the data as well as alter it."
   ]
  },
  {
   "cell_type": "code",
   "execution_count": 1,
   "id": "fe10cad3-5ace-4563-998a-127ab5820854",
   "metadata": {},
   "outputs": [],
   "source": [
    "import pandas as pd\n",
    "import numpy as np\n",
    "import matplotlib.pyplot as plt\n",
    "import sqlite3\n",
    "from pandasql import sqldf\n",
    "from datetime import datetime"
   ]
  },
  {
   "cell_type": "code",
   "execution_count": 2,
   "id": "515af583-75b6-4054-ad5e-3943626f552d",
   "metadata": {},
   "outputs": [
    {
     "name": "stdout",
     "output_type": "stream",
     "text": [
      "This notebook was last updated at : 2025-07-31 15:47:03.689224 PST\n"
     ]
    }
   ],
   "source": [
    "# this cell is just to show the last time this notebook was updated\n",
    "now = datetime.now()\n",
    "print(f'This notebook was last updated at : {now} PST')"
   ]
  },
  {
   "cell_type": "markdown",
   "id": "3f1a2e5a-96b7-48dd-bc12-a7df671c794e",
   "metadata": {},
   "source": [
    "---\n",
    "# Business understanding\n",
    "\n",
    "This notebook is designed to look into the mental health of those who primarily work within the tech industry. This data then can be used to assist thoese who are struggling with mental health issues and get them the help they need. \n",
    "\n",
    "- business objectives \n",
    "    - quantify mental health within the workplace\n",
    "        - success is identifying patterns that cause issues and minimizing said causes\n",
    "- situation assesment \n",
    "    - resources available\n",
    "        - survey answers from 2693 individuals\n",
    "    - resources unavailable\n",
    "        - metadata on encoded data such as what 1, 0 and -1 mean\n",
    "        - whether this data is real or created\n",
    "        - specific location on where this data was gathered\n",
    "- data mining goals\n",
    "    - asses and understand the data provided\n",
    "- project plan\n",
    "    - utilize this survey to understand the needs of those struggling with mental health"
   ]
  },
  {
   "cell_type": "markdown",
   "id": "d786d8a4-d7c6-4d03-8d5c-d93a2a381d69",
   "metadata": {},
   "source": [
    "---\n",
    "# Data Understanding\n",
    "\n",
    "The data within this notebook is gathered from [Kaggle](https://www.kaggle.com). The data is as follows :\n",
    "\n",
    "- data properties \n",
    "    - this data is stored as a `sqlite` file, meaning it is comprised of multiple tables that all relate to each other\n",
    "    - the tables consist of :\n",
    "        - `Answer`\n",
    "            - _AnswerText_\n",
    "                - response given by the user\n",
    "            - _SurveyID_\n",
    "                - survey id is the year the survey took place\n",
    "            - _UserID_\n",
    "                - identifier of who took the survey\n",
    "            - _QuestionID_\n",
    "                - id of the specific question\n",
    "        - `Question`\n",
    "            - _QuestionText_\n",
    "                - the question the user answered\n",
    "            - _QuestionId_\n",
    "                - id of the specific question\n",
    "        - `Survey`\n",
    "            - _SurveyID_\n",
    "                - survey id is the year the survey took place\n",
    "            - _Description_\n",
    "                - description of the survey"
   ]
  },
  {
   "cell_type": "markdown",
   "id": "d2e6eaf1-9e7e-4387-8a91-ffda754fb1f0",
   "metadata": {},
   "source": [
    "Here we have an `Entity Relationship Diagram` or `ERD` for short. This is a visual representation of how the tables in our SQL file are connected. Link above in the _sources and links_ section."
   ]
  },
  {
   "attachments": {
    "53cb1a69-c30a-4f54-98a4-3359700ba7a4.png": {
     "image/png": "[encoded data removed]"
    }
   },
   "cell_type": "markdown",
   "id": "493a3be4-d841-470a-b2f6-f29643bd1922",
   "metadata": {},
   "source": [
    "![mental health ERD.png](attachment:53cb1a69-c30a-4f54-98a4-3359700ba7a4.png)"
   ]
  },
  {
   "cell_type": "markdown",
   "id": "5707a41c-b174-4f45-b7c6-d4e7aa0aba59",
   "metadata": {},
   "source": [
    "---\n",
    "# Methodoligy"
   ]
  },
  {
   "cell_type": "markdown",
   "id": "131e8a59-6edd-446d-b130-d726140611bc",
   "metadata": {},
   "source": [
    "---\n",
    "# Functions\n",
    "\n",
    "Here we have a collection of custom functions that allow us to automate repetative code blocks. When a function is used, a note will be placed above the section it is used in."
   ]
  },
  {
   "cell_type": "code",
   "execution_count": 3,
   "id": "2c6d29c5-875f-4f23-a60b-856d4d80c622",
   "metadata": {},
   "outputs": [],
   "source": [
    "def normalize_gender(gender):\n",
    "    '''\n",
    "    ---\n",
    "    this function replaces the wide range of answers given for `What is your gender?` to a smaller set of answers:\n",
    "    male, female, trans, non_binary, prefer not to say and other.\n",
    "    ---\n",
    "    this function is to be used with the .apply() function and must be used with the `AnswerText` column.\n",
    "    ---\n",
    "    '''\n",
    "\n",
    "    g = gender.lower().strip()\n",
    "    if g in ['male', 'man', 'cis male', 'cis man', 'masculine', 'm', 'mail', 'cis-male', 'cis-man', 'cis-mail']:\n",
    "        return 'male'\n",
    "    elif g in ['female', 'f', 'woman', 'cis female', 'cis woman', 'femanine', 'cis-female', 'cis-woman', 'cis-femail']:\n",
    "        return 'female'\n",
    "    elif 'trans' in g:\n",
    "        return 'trans'\n",
    "    elif 'non-binary' in g or 'genderqueer' in g or 'genderfluid' in g:\n",
    "        return 'non-binary'\n",
    "    elif g in ['na', 'n/a', '', 'none', 'no']:\n",
    "        return 'prefer not to say'\n",
    "    else:\n",
    "        return 'other'"
   ]
  },
  {
   "cell_type": "code",
   "execution_count": 4,
   "id": "d8b72311-2589-4ad4-9f80-a22c4d134866",
   "metadata": {},
   "outputs": [],
   "source": [
    "def calc_percent(df, col):\n",
    "    '''\n",
    "    ---\n",
    "    this function is used to calculate the percentage in a given column for each unique input. \n",
    "    ---\n",
    "    example : engineer is 20% of the answers given.\n",
    "    ---\n",
    "    requirements : what df(str) to act upon. this df must be created from the given sql file and MUST have count() as count in the query, \n",
    "    as the code relies on a count column. col(str).\n",
    "    ---\n",
    "    '''\n",
    "    \n",
    "    df = df\n",
    "    \n",
    "    for index, row in df.iterrows():\n",
    "        data = row[col]\n",
    "        s = df[df[col] == data]['count'].values[0]\n",
    "        l = sum(df['count'])\n",
    "        t = round((s / l) * 100, 2)\n",
    "        print(f'{data} is {t} % of this survey, siting at {s} in total.\\n---')"
   ]
  },
  {
   "cell_type": "code",
   "execution_count": 5,
   "id": "c4ba5267-72ce-4f25-9cfe-a74f3e3b75a1",
   "metadata": {},
   "outputs": [],
   "source": [
    "def calc_percent_gender(df, col):\n",
    "    '''\n",
    "    ---\n",
    "    this function works identically to calc_percent, however had to be modified for gender calculations as the query used to create\n",
    "    the gender df was not working properly when using count when attempting to create a plot with the data.\n",
    "    ---\n",
    "    example : male is 40% of the answers given in this survey.\n",
    "    ---\n",
    "    requirments : what df(str) to act upon. when this df is created with an sql query, it CANNOT have count used in the select statement,\n",
    "    as this causes issues with plotting. col(str).\n",
    "    ---\n",
    "    '''\n",
    "    \n",
    "    counts = df[col].value_counts()\n",
    "\n",
    "    t = len(df)\n",
    "\n",
    "    for val in counts.index:\n",
    "        count = counts[val]\n",
    "        p = round((count / t) * 100, 2)\n",
    "        print(f'{val} is {p} % of this survey, sitting at {count} in total.\\n---')"
   ]
  },
  {
   "cell_type": "markdown",
   "id": "99de578a-8ec1-4794-8254-44d3f08ad0ad",
   "metadata": {},
   "source": [
    "# Exploritory Data Analysis"
   ]
  },
  {
   "cell_type": "code",
   "execution_count": 6,
   "id": "fe5425ef-7922-4623-8624-2d1385eef25f",
   "metadata": {},
   "outputs": [],
   "source": [
    "conn = sqlite3.connect('mental_health.sqlite')"
   ]
  },
  {
   "cell_type": "code",
   "execution_count": 7,
   "id": "bf8d203f-433b-4c50-b66b-26d11ec97953",
   "metadata": {
    "scrolled": true
   },
   "outputs": [
    {
     "data": {
      "text/html": [
       "<div>\n",
       "<style scoped>\n",
       "    .dataframe tbody tr th:only-of-type {\n",
       "        vertical-align: middle;\n",
       "    }\n",
       "\n",
       "    .dataframe tbody tr th {\n",
       "        vertical-align: top;\n",
       "    }\n",
       "\n",
       "    .dataframe thead th {\n",
       "        text-align: right;\n",
       "    }\n",
       "</style>\n",
       "<table border=\"1\" class=\"dataframe\">\n",
       "  <thead>\n",
       "    <tr style=\"text-align: right;\">\n",
       "      <th></th>\n",
       "      <th>name</th>\n",
       "    </tr>\n",
       "  </thead>\n",
       "  <tbody>\n",
       "    <tr>\n",
       "      <th>0</th>\n",
       "      <td>Answer</td>\n",
       "    </tr>\n",
       "    <tr>\n",
       "      <th>1</th>\n",
       "      <td>Question</td>\n",
       "    </tr>\n",
       "    <tr>\n",
       "      <th>2</th>\n",
       "      <td>Survey</td>\n",
       "    </tr>\n",
       "  </tbody>\n",
       "</table>\n",
       "</div>"
      ],
      "text/plain": [
       "       name\n",
       "0    Answer\n",
       "1  Question\n",
       "2    Survey"
      ]
     },
     "execution_count": 7,
     "metadata": {},
     "output_type": "execute_result"
    }
   ],
   "source": [
    "tables_query = \"select name from sqlite_master where type = 'table';\"\n",
    "tables = pd.read_sql(tables_query, conn)\n",
    "tables"
   ]
  },
  {
   "cell_type": "code",
   "execution_count": 8,
   "id": "f6607cb3-f95d-40ff-8d16-82ff514a88ca",
   "metadata": {},
   "outputs": [
    {
     "data": {
      "text/html": [
       "<div>\n",
       "<style scoped>\n",
       "    .dataframe tbody tr th:only-of-type {\n",
       "        vertical-align: middle;\n",
       "    }\n",
       "\n",
       "    .dataframe tbody tr th {\n",
       "        vertical-align: top;\n",
       "    }\n",
       "\n",
       "    .dataframe thead th {\n",
       "        text-align: right;\n",
       "    }\n",
       "</style>\n",
       "<table border=\"1\" class=\"dataframe\">\n",
       "  <thead>\n",
       "    <tr style=\"text-align: right;\">\n",
       "      <th></th>\n",
       "      <th>questiontext</th>\n",
       "      <th>questionid</th>\n",
       "    </tr>\n",
       "  </thead>\n",
       "  <tbody>\n",
       "    <tr>\n",
       "      <th>0</th>\n",
       "      <td>What is your age?</td>\n",
       "      <td>1</td>\n",
       "    </tr>\n",
       "    <tr>\n",
       "      <th>1</th>\n",
       "      <td>What is your gender?</td>\n",
       "      <td>2</td>\n",
       "    </tr>\n",
       "    <tr>\n",
       "      <th>2</th>\n",
       "      <td>What country do you live in?</td>\n",
       "      <td>3</td>\n",
       "    </tr>\n",
       "    <tr>\n",
       "      <th>3</th>\n",
       "      <td>If you live in the United States, which state ...</td>\n",
       "      <td>4</td>\n",
       "    </tr>\n",
       "    <tr>\n",
       "      <th>4</th>\n",
       "      <td>Are you self-employed?</td>\n",
       "      <td>5</td>\n",
       "    </tr>\n",
       "    <tr>\n",
       "      <th>...</th>\n",
       "      <td>...</td>\n",
       "      <td>...</td>\n",
       "    </tr>\n",
       "    <tr>\n",
       "      <th>100</th>\n",
       "      <td>Do you think that team members/co-workers woul...</td>\n",
       "      <td>114</td>\n",
       "    </tr>\n",
       "    <tr>\n",
       "      <th>101</th>\n",
       "      <td>If yes, what condition(s) have you been diagno...</td>\n",
       "      <td>115</td>\n",
       "    </tr>\n",
       "    <tr>\n",
       "      <th>102</th>\n",
       "      <td>If maybe, what condition(s) do you believe you...</td>\n",
       "      <td>116</td>\n",
       "    </tr>\n",
       "    <tr>\n",
       "      <th>103</th>\n",
       "      <td>Which of the following best describes your wor...</td>\n",
       "      <td>117</td>\n",
       "    </tr>\n",
       "    <tr>\n",
       "      <th>104</th>\n",
       "      <td>Do you work remotely?</td>\n",
       "      <td>118</td>\n",
       "    </tr>\n",
       "  </tbody>\n",
       "</table>\n",
       "<p>105 rows × 2 columns</p>\n",
       "</div>"
      ],
      "text/plain": [
       "                                          questiontext  questionid\n",
       "0                                    What is your age?           1\n",
       "1                                 What is your gender?           2\n",
       "2                         What country do you live in?           3\n",
       "3    If you live in the United States, which state ...           4\n",
       "4                               Are you self-employed?           5\n",
       "..                                                 ...         ...\n",
       "100  Do you think that team members/co-workers woul...         114\n",
       "101  If yes, what condition(s) have you been diagno...         115\n",
       "102  If maybe, what condition(s) do you believe you...         116\n",
       "103  Which of the following best describes your wor...         117\n",
       "104                              Do you work remotely?         118\n",
       "\n",
       "[105 rows x 2 columns]"
      ]
     },
     "execution_count": 8,
     "metadata": {},
     "output_type": "execute_result"
    }
   ],
   "source": [
    "pd.read_sql('''\n",
    "select *\n",
    "from Question;\n",
    "''', conn)"
   ]
  },
  {
   "cell_type": "code",
   "execution_count": 9,
   "id": "1380d32f-2110-448e-b4b6-8a25eab74162",
   "metadata": {},
   "outputs": [
    {
     "data": {
      "text/html": [
       "<div>\n",
       "<style scoped>\n",
       "    .dataframe tbody tr th:only-of-type {\n",
       "        vertical-align: middle;\n",
       "    }\n",
       "\n",
       "    .dataframe tbody tr th {\n",
       "        vertical-align: top;\n",
       "    }\n",
       "\n",
       "    .dataframe thead th {\n",
       "        text-align: right;\n",
       "    }\n",
       "</style>\n",
       "<table border=\"1\" class=\"dataframe\">\n",
       "  <thead>\n",
       "    <tr style=\"text-align: right;\">\n",
       "      <th></th>\n",
       "      <th>AnswerText</th>\n",
       "      <th>SurveyID</th>\n",
       "      <th>UserID</th>\n",
       "      <th>QuestionID</th>\n",
       "    </tr>\n",
       "  </thead>\n",
       "  <tbody>\n",
       "    <tr>\n",
       "      <th>0</th>\n",
       "      <td>37</td>\n",
       "      <td>2014</td>\n",
       "      <td>1</td>\n",
       "      <td>1</td>\n",
       "    </tr>\n",
       "    <tr>\n",
       "      <th>1</th>\n",
       "      <td>44</td>\n",
       "      <td>2014</td>\n",
       "      <td>2</td>\n",
       "      <td>1</td>\n",
       "    </tr>\n",
       "    <tr>\n",
       "      <th>2</th>\n",
       "      <td>32</td>\n",
       "      <td>2014</td>\n",
       "      <td>3</td>\n",
       "      <td>1</td>\n",
       "    </tr>\n",
       "    <tr>\n",
       "      <th>3</th>\n",
       "      <td>31</td>\n",
       "      <td>2014</td>\n",
       "      <td>4</td>\n",
       "      <td>1</td>\n",
       "    </tr>\n",
       "    <tr>\n",
       "      <th>4</th>\n",
       "      <td>31</td>\n",
       "      <td>2014</td>\n",
       "      <td>5</td>\n",
       "      <td>1</td>\n",
       "    </tr>\n",
       "    <tr>\n",
       "      <th>...</th>\n",
       "      <td>...</td>\n",
       "      <td>...</td>\n",
       "      <td>...</td>\n",
       "      <td>...</td>\n",
       "    </tr>\n",
       "    <tr>\n",
       "      <th>236893</th>\n",
       "      <td>Other</td>\n",
       "      <td>2016</td>\n",
       "      <td>2689</td>\n",
       "      <td>117</td>\n",
       "    </tr>\n",
       "    <tr>\n",
       "      <th>236894</th>\n",
       "      <td>Support</td>\n",
       "      <td>2016</td>\n",
       "      <td>2690</td>\n",
       "      <td>117</td>\n",
       "    </tr>\n",
       "    <tr>\n",
       "      <th>236895</th>\n",
       "      <td>Back-end Developer</td>\n",
       "      <td>2016</td>\n",
       "      <td>2691</td>\n",
       "      <td>117</td>\n",
       "    </tr>\n",
       "    <tr>\n",
       "      <th>236896</th>\n",
       "      <td>DevOps/SysAdmin</td>\n",
       "      <td>2016</td>\n",
       "      <td>2692</td>\n",
       "      <td>117</td>\n",
       "    </tr>\n",
       "    <tr>\n",
       "      <th>236897</th>\n",
       "      <td>Other</td>\n",
       "      <td>2016</td>\n",
       "      <td>2693</td>\n",
       "      <td>117</td>\n",
       "    </tr>\n",
       "  </tbody>\n",
       "</table>\n",
       "<p>236898 rows × 4 columns</p>\n",
       "</div>"
      ],
      "text/plain": [
       "                AnswerText  SurveyID  UserID  QuestionID\n",
       "0                       37      2014       1           1\n",
       "1                       44      2014       2           1\n",
       "2                       32      2014       3           1\n",
       "3                       31      2014       4           1\n",
       "4                       31      2014       5           1\n",
       "...                    ...       ...     ...         ...\n",
       "236893               Other      2016    2689         117\n",
       "236894             Support      2016    2690         117\n",
       "236895  Back-end Developer      2016    2691         117\n",
       "236896     DevOps/SysAdmin      2016    2692         117\n",
       "236897               Other      2016    2693         117\n",
       "\n",
       "[236898 rows x 4 columns]"
      ]
     },
     "execution_count": 9,
     "metadata": {},
     "output_type": "execute_result"
    }
   ],
   "source": [
    "pd.read_sql('''\n",
    "select *\n",
    "from Answer;\n",
    "''', conn)"
   ]
  },
  {
   "cell_type": "code",
   "execution_count": 10,
   "id": "07377497-4e0c-43cf-aa41-5b96a86df69a",
   "metadata": {},
   "outputs": [
    {
     "data": {
      "text/html": [
       "<div>\n",
       "<style scoped>\n",
       "    .dataframe tbody tr th:only-of-type {\n",
       "        vertical-align: middle;\n",
       "    }\n",
       "\n",
       "    .dataframe tbody tr th {\n",
       "        vertical-align: top;\n",
       "    }\n",
       "\n",
       "    .dataframe thead th {\n",
       "        text-align: right;\n",
       "    }\n",
       "</style>\n",
       "<table border=\"1\" class=\"dataframe\">\n",
       "  <thead>\n",
       "    <tr style=\"text-align: right;\">\n",
       "      <th></th>\n",
       "      <th>SurveyID</th>\n",
       "      <th>Description</th>\n",
       "    </tr>\n",
       "  </thead>\n",
       "  <tbody>\n",
       "    <tr>\n",
       "      <th>0</th>\n",
       "      <td>2014</td>\n",
       "      <td>mental health survey for 2014</td>\n",
       "    </tr>\n",
       "    <tr>\n",
       "      <th>1</th>\n",
       "      <td>2016</td>\n",
       "      <td>mental health survey for 2016</td>\n",
       "    </tr>\n",
       "    <tr>\n",
       "      <th>2</th>\n",
       "      <td>2017</td>\n",
       "      <td>mental health survey for 2017</td>\n",
       "    </tr>\n",
       "    <tr>\n",
       "      <th>3</th>\n",
       "      <td>2018</td>\n",
       "      <td>mental health survey for 2018</td>\n",
       "    </tr>\n",
       "    <tr>\n",
       "      <th>4</th>\n",
       "      <td>2019</td>\n",
       "      <td>mental health survey for 2019</td>\n",
       "    </tr>\n",
       "  </tbody>\n",
       "</table>\n",
       "</div>"
      ],
      "text/plain": [
       "   SurveyID                    Description\n",
       "0      2014  mental health survey for 2014\n",
       "1      2016  mental health survey for 2016\n",
       "2      2017  mental health survey for 2017\n",
       "3      2018  mental health survey for 2018\n",
       "4      2019  mental health survey for 2019"
      ]
     },
     "execution_count": 10,
     "metadata": {},
     "output_type": "execute_result"
    }
   ],
   "source": [
    "pd.read_sql('''\n",
    "select *\n",
    "from Survey;\n",
    "''', conn)"
   ]
  },
  {
   "cell_type": "code",
   "execution_count": 11,
   "id": "1c4397f1-9333-4d7b-adaa-ea8e8a26e8e6",
   "metadata": {},
   "outputs": [
    {
     "data": {
      "text/html": [
       "<div>\n",
       "<style scoped>\n",
       "    .dataframe tbody tr th:only-of-type {\n",
       "        vertical-align: middle;\n",
       "    }\n",
       "\n",
       "    .dataframe tbody tr th {\n",
       "        vertical-align: top;\n",
       "    }\n",
       "\n",
       "    .dataframe thead th {\n",
       "        text-align: right;\n",
       "    }\n",
       "</style>\n",
       "<table border=\"1\" class=\"dataframe\">\n",
       "  <thead>\n",
       "    <tr style=\"text-align: right;\">\n",
       "      <th></th>\n",
       "      <th>UserID</th>\n",
       "    </tr>\n",
       "  </thead>\n",
       "  <tbody>\n",
       "    <tr>\n",
       "      <th>0</th>\n",
       "      <td>1</td>\n",
       "    </tr>\n",
       "    <tr>\n",
       "      <th>1</th>\n",
       "      <td>2</td>\n",
       "    </tr>\n",
       "    <tr>\n",
       "      <th>2</th>\n",
       "      <td>3</td>\n",
       "    </tr>\n",
       "    <tr>\n",
       "      <th>3</th>\n",
       "      <td>4</td>\n",
       "    </tr>\n",
       "    <tr>\n",
       "      <th>4</th>\n",
       "      <td>5</td>\n",
       "    </tr>\n",
       "    <tr>\n",
       "      <th>...</th>\n",
       "      <td>...</td>\n",
       "    </tr>\n",
       "    <tr>\n",
       "      <th>236893</th>\n",
       "      <td>2689</td>\n",
       "    </tr>\n",
       "    <tr>\n",
       "      <th>236894</th>\n",
       "      <td>2690</td>\n",
       "    </tr>\n",
       "    <tr>\n",
       "      <th>236895</th>\n",
       "      <td>2691</td>\n",
       "    </tr>\n",
       "    <tr>\n",
       "      <th>236896</th>\n",
       "      <td>2692</td>\n",
       "    </tr>\n",
       "    <tr>\n",
       "      <th>236897</th>\n",
       "      <td>2693</td>\n",
       "    </tr>\n",
       "  </tbody>\n",
       "</table>\n",
       "<p>236898 rows × 1 columns</p>\n",
       "</div>"
      ],
      "text/plain": [
       "        UserID\n",
       "0            1\n",
       "1            2\n",
       "2            3\n",
       "3            4\n",
       "4            5\n",
       "...        ...\n",
       "236893    2689\n",
       "236894    2690\n",
       "236895    2691\n",
       "236896    2692\n",
       "236897    2693\n",
       "\n",
       "[236898 rows x 1 columns]"
      ]
     },
     "execution_count": 11,
     "metadata": {},
     "output_type": "execute_result"
    }
   ],
   "source": [
    "pd.read_sql('''\n",
    "select userid\n",
    "from answer\n",
    "''',conn)"
   ]
  },
  {
   "cell_type": "code",
   "execution_count": 12,
   "id": "86acd00d-cf56-4d8b-9743-826a75d9bcf7",
   "metadata": {},
   "outputs": [
    {
     "data": {
      "text/html": [
       "<div>\n",
       "<style scoped>\n",
       "    .dataframe tbody tr th:only-of-type {\n",
       "        vertical-align: middle;\n",
       "    }\n",
       "\n",
       "    .dataframe tbody tr th {\n",
       "        vertical-align: top;\n",
       "    }\n",
       "\n",
       "    .dataframe thead th {\n",
       "        text-align: right;\n",
       "    }\n",
       "</style>\n",
       "<table border=\"1\" class=\"dataframe\">\n",
       "  <thead>\n",
       "    <tr style=\"text-align: right;\">\n",
       "      <th></th>\n",
       "      <th>answer</th>\n",
       "      <th>count</th>\n",
       "    </tr>\n",
       "  </thead>\n",
       "  <tbody>\n",
       "    <tr>\n",
       "      <th>0</th>\n",
       "      <td>Male</td>\n",
       "      <td>2830</td>\n",
       "    </tr>\n",
       "    <tr>\n",
       "      <th>1</th>\n",
       "      <td>Female</td>\n",
       "      <td>914</td>\n",
       "    </tr>\n",
       "    <tr>\n",
       "      <th>2</th>\n",
       "      <td>male</td>\n",
       "      <td>212</td>\n",
       "    </tr>\n",
       "    <tr>\n",
       "      <th>3</th>\n",
       "      <td>female</td>\n",
       "      <td>110</td>\n",
       "    </tr>\n",
       "    <tr>\n",
       "      <th>4</th>\n",
       "      <td>-1</td>\n",
       "      <td>24</td>\n",
       "    </tr>\n",
       "    <tr>\n",
       "      <th>...</th>\n",
       "      <td>...</td>\n",
       "      <td>...</td>\n",
       "    </tr>\n",
       "    <tr>\n",
       "      <th>96</th>\n",
       "      <td>Agender/genderfluid</td>\n",
       "      <td>1</td>\n",
       "    </tr>\n",
       "    <tr>\n",
       "      <th>97</th>\n",
       "      <td>Agender trans woman</td>\n",
       "      <td>1</td>\n",
       "    </tr>\n",
       "    <tr>\n",
       "      <th>98</th>\n",
       "      <td>AFAB</td>\n",
       "      <td>1</td>\n",
       "    </tr>\n",
       "    <tr>\n",
       "      <th>99</th>\n",
       "      <td>A little about you</td>\n",
       "      <td>1</td>\n",
       "    </tr>\n",
       "    <tr>\n",
       "      <th>100</th>\n",
       "      <td>43</td>\n",
       "      <td>1</td>\n",
       "    </tr>\n",
       "  </tbody>\n",
       "</table>\n",
       "<p>101 rows × 2 columns</p>\n",
       "</div>"
      ],
      "text/plain": [
       "                  answer  count\n",
       "0                   Male   2830\n",
       "1                 Female    914\n",
       "2                   male    212\n",
       "3                 female    110\n",
       "4                     -1     24\n",
       "..                   ...    ...\n",
       "96   Agender/genderfluid      1\n",
       "97   Agender trans woman      1\n",
       "98                  AFAB      1\n",
       "99    A little about you      1\n",
       "100                   43      1\n",
       "\n",
       "[101 rows x 2 columns]"
      ]
     },
     "execution_count": 12,
     "metadata": {},
     "output_type": "execute_result"
    }
   ],
   "source": [
    "pd.read_sql('''\n",
    "select answertext as answer, count(*) as count\n",
    "from answer as a\n",
    "left join question as q\n",
    "on a.questionid = q.questionid\n",
    "where questiontext = 'What is your gender?'\n",
    "group by a.answertext\n",
    "order by count desc\n",
    "''',conn)"
   ]
  },
  {
   "cell_type": "markdown",
   "id": "d704952f-c723-455b-bf46-283d58ca86dc",
   "metadata": {},
   "source": [
    "---\n",
    "# Data Insight"
   ]
  },
  {
   "cell_type": "markdown",
   "id": "bf7f312d-c651-4afa-ae57-aeca228b439c",
   "metadata": {},
   "source": [
    "- Gender and Age Spread\n",
    "\n",
    "- Industry Representation\n",
    " \n",
    "- Mental Health"
   ]
  },
  {
   "cell_type": "markdown",
   "id": "ab621f21-ea89-4cdf-8752-b5d1a2167c04",
   "metadata": {},
   "source": [
    "## Gender breakdown"
   ]
  },
  {
   "cell_type": "code",
   "execution_count": 13,
   "id": "9a847ef6-9bfa-4a0d-8491-64a0294aaf56",
   "metadata": {},
   "outputs": [
    {
     "data": {
      "text/html": [
       "<div>\n",
       "<style scoped>\n",
       "    .dataframe tbody tr th:only-of-type {\n",
       "        vertical-align: middle;\n",
       "    }\n",
       "\n",
       "    .dataframe tbody tr th {\n",
       "        vertical-align: top;\n",
       "    }\n",
       "\n",
       "    .dataframe thead th {\n",
       "        text-align: right;\n",
       "    }\n",
       "</style>\n",
       "<table border=\"1\" class=\"dataframe\">\n",
       "  <thead>\n",
       "    <tr style=\"text-align: right;\">\n",
       "      <th></th>\n",
       "      <th>AnswerText</th>\n",
       "      <th>count</th>\n",
       "    </tr>\n",
       "  </thead>\n",
       "  <tbody>\n",
       "    <tr>\n",
       "      <th>0</th>\n",
       "      <td>Male</td>\n",
       "      <td>2830</td>\n",
       "    </tr>\n",
       "    <tr>\n",
       "      <th>1</th>\n",
       "      <td>Female</td>\n",
       "      <td>914</td>\n",
       "    </tr>\n",
       "    <tr>\n",
       "      <th>2</th>\n",
       "      <td>male</td>\n",
       "      <td>212</td>\n",
       "    </tr>\n",
       "    <tr>\n",
       "      <th>3</th>\n",
       "      <td>female</td>\n",
       "      <td>110</td>\n",
       "    </tr>\n",
       "    <tr>\n",
       "      <th>4</th>\n",
       "      <td>-1</td>\n",
       "      <td>24</td>\n",
       "    </tr>\n",
       "    <tr>\n",
       "      <th>...</th>\n",
       "      <td>...</td>\n",
       "      <td>...</td>\n",
       "    </tr>\n",
       "    <tr>\n",
       "      <th>96</th>\n",
       "      <td>Agender/genderfluid</td>\n",
       "      <td>1</td>\n",
       "    </tr>\n",
       "    <tr>\n",
       "      <th>97</th>\n",
       "      <td>Agender trans woman</td>\n",
       "      <td>1</td>\n",
       "    </tr>\n",
       "    <tr>\n",
       "      <th>98</th>\n",
       "      <td>AFAB</td>\n",
       "      <td>1</td>\n",
       "    </tr>\n",
       "    <tr>\n",
       "      <th>99</th>\n",
       "      <td>A little about you</td>\n",
       "      <td>1</td>\n",
       "    </tr>\n",
       "    <tr>\n",
       "      <th>100</th>\n",
       "      <td>43</td>\n",
       "      <td>1</td>\n",
       "    </tr>\n",
       "  </tbody>\n",
       "</table>\n",
       "<p>101 rows × 2 columns</p>\n",
       "</div>"
      ],
      "text/plain": [
       "              AnswerText  count\n",
       "0                   Male   2830\n",
       "1                 Female    914\n",
       "2                   male    212\n",
       "3                 female    110\n",
       "4                     -1     24\n",
       "..                   ...    ...\n",
       "96   Agender/genderfluid      1\n",
       "97   Agender trans woman      1\n",
       "98                  AFAB      1\n",
       "99    A little about you      1\n",
       "100                   43      1\n",
       "\n",
       "[101 rows x 2 columns]"
      ]
     },
     "execution_count": 13,
     "metadata": {},
     "output_type": "execute_result"
    }
   ],
   "source": [
    "pd.read_sql('''\n",
    "select answertext, count(*) as count\n",
    "from answer as a\n",
    "left join question as q\n",
    "on a.questionid = q.questionid\n",
    "where questiontext = 'What is your gender?'\n",
    "group by a.answertext\n",
    "order by count desc\n",
    "''', conn)"
   ]
  },
  {
   "cell_type": "code",
   "execution_count": 14,
   "id": "f5a5f3be-1423-473a-94bf-04a991533aee",
   "metadata": {},
   "outputs": [],
   "source": [
    "df_gender_spread = pd.read_sql('''\n",
    "select answertext\n",
    "from answer as a\n",
    "left join question as q\n",
    "on a.questionid = q.questionid\n",
    "where questiontext = 'What is your gender?'\n",
    "''', conn)"
   ]
  },
  {
   "cell_type": "code",
   "execution_count": 15,
   "id": "38600a46-0829-4b04-9503-219e30cf1be3",
   "metadata": {},
   "outputs": [
    {
     "data": {
      "text/html": [
       "<div>\n",
       "<style scoped>\n",
       "    .dataframe tbody tr th:only-of-type {\n",
       "        vertical-align: middle;\n",
       "    }\n",
       "\n",
       "    .dataframe tbody tr th {\n",
       "        vertical-align: top;\n",
       "    }\n",
       "\n",
       "    .dataframe thead th {\n",
       "        text-align: right;\n",
       "    }\n",
       "</style>\n",
       "<table border=\"1\" class=\"dataframe\">\n",
       "  <thead>\n",
       "    <tr style=\"text-align: right;\">\n",
       "      <th></th>\n",
       "      <th>AnswerText</th>\n",
       "    </tr>\n",
       "  </thead>\n",
       "  <tbody>\n",
       "    <tr>\n",
       "      <th>0</th>\n",
       "      <td>-1</td>\n",
       "    </tr>\n",
       "    <tr>\n",
       "      <th>1</th>\n",
       "      <td>-1</td>\n",
       "    </tr>\n",
       "    <tr>\n",
       "      <th>2</th>\n",
       "      <td>-1</td>\n",
       "    </tr>\n",
       "    <tr>\n",
       "      <th>3</th>\n",
       "      <td>-1</td>\n",
       "    </tr>\n",
       "    <tr>\n",
       "      <th>4</th>\n",
       "      <td>-1</td>\n",
       "    </tr>\n",
       "    <tr>\n",
       "      <th>...</th>\n",
       "      <td>...</td>\n",
       "    </tr>\n",
       "    <tr>\n",
       "      <th>4213</th>\n",
       "      <td>something kinda male?</td>\n",
       "    </tr>\n",
       "    <tr>\n",
       "      <th>4214</th>\n",
       "      <td>sometimes</td>\n",
       "    </tr>\n",
       "    <tr>\n",
       "      <th>4215</th>\n",
       "      <td>trans woman</td>\n",
       "    </tr>\n",
       "    <tr>\n",
       "      <th>4216</th>\n",
       "      <td>transgender</td>\n",
       "    </tr>\n",
       "    <tr>\n",
       "      <th>4217</th>\n",
       "      <td>uhhhhhhhhh fem genderqueer?</td>\n",
       "    </tr>\n",
       "  </tbody>\n",
       "</table>\n",
       "<p>4218 rows × 1 columns</p>\n",
       "</div>"
      ],
      "text/plain": [
       "                       AnswerText\n",
       "0                              -1\n",
       "1                              -1\n",
       "2                              -1\n",
       "3                              -1\n",
       "4                              -1\n",
       "...                           ...\n",
       "4213        something kinda male?\n",
       "4214                    sometimes\n",
       "4215                  trans woman\n",
       "4216                  transgender\n",
       "4217  uhhhhhhhhh fem genderqueer?\n",
       "\n",
       "[4218 rows x 1 columns]"
      ]
     },
     "execution_count": 15,
     "metadata": {},
     "output_type": "execute_result"
    }
   ],
   "source": [
    "df_gender_spread"
   ]
  },
  {
   "cell_type": "code",
   "execution_count": 16,
   "id": "0fed5b48-7373-41ba-9458-d59b0430228d",
   "metadata": {},
   "outputs": [],
   "source": [
    "#df_gender_spread['gender'].value_counts().head(20)"
   ]
  },
  {
   "cell_type": "code",
   "execution_count": 17,
   "id": "de4b8a0f-1629-4ed7-8d4b-857729774e0b",
   "metadata": {
    "scrolled": true
   },
   "outputs": [],
   "source": [
    "# This cell is used to display the wide range of different answers for `what is your gender?`.\n",
    "# Remove the pound symbols below to see the result\n",
    "\n",
    "#with pd.option_context('display.max_rows', None):\n",
    "#    print(df_gender_spread.value_counts())"
   ]
  },
  {
   "cell_type": "markdown",
   "id": "2aba2af8-3996-4bf3-94c8-a4b837e06734",
   "metadata": {},
   "source": [
    "- Function utilized:\n",
    "    - `normalize_gender`\n",
    "        - reduces the wide range of answers to a few that can be used for analysis."
   ]
  },
  {
   "cell_type": "code",
   "execution_count": 18,
   "id": "af368fd2-7571-4b8a-832e-182048011fa8",
   "metadata": {},
   "outputs": [],
   "source": [
    "df_gender_spread['AnswerText'] = df_gender_spread['AnswerText'].apply(normalize_gender)"
   ]
  },
  {
   "cell_type": "code",
   "execution_count": 19,
   "id": "69c2fe58-50f0-4c69-aa31-2fd3b178241b",
   "metadata": {},
   "outputs": [
    {
     "name": "stdout",
     "output_type": "stream",
     "text": [
      "AnswerText       \n",
      "male                 3044\n",
      "female               1024\n",
      "other                 102\n",
      "non-binary             27\n",
      "trans                  17\n",
      "prefer not to say       4\n",
      "Name: count, dtype: int64\n"
     ]
    }
   ],
   "source": [
    "with pd.option_context('display.max_rows', None):\n",
    "    print(df_gender_spread.value_counts())"
   ]
  },
  {
   "cell_type": "code",
   "execution_count": 20,
   "id": "418276c7-69f4-4cb0-9e39-a68feea2d50f",
   "metadata": {},
   "outputs": [
    {
     "data": {
      "text/plain": [
       "<Axes: ylabel='AnswerText'>"
      ]
     },
     "execution_count": 20,
     "metadata": {},
     "output_type": "execute_result"
    },
    {
     "data": {
      "image/png": "[encoded data removed]",
      "text/plain": [
       "<Figure size 640x480 with 1 Axes>"
      ]
     },
     "metadata": {},
     "output_type": "display_data"
    }
   ],
   "source": [
    "df_gender_spread['AnswerText'].value_counts().plot( kind = 'barh')"
   ]
  },
  {
   "cell_type": "markdown",
   "id": "6daf2bb8-a02a-49d4-9826-289cdef85672",
   "metadata": {},
   "source": [
    "- function utilized:\n",
    "    - `calc_percent_gender`\n",
    "        - calculates the percent total for each gender"
   ]
  },
  {
   "cell_type": "code",
   "execution_count": 21,
   "id": "b0cd8de2-450a-4ef7-a3d4-c5fd2150312c",
   "metadata": {},
   "outputs": [
    {
     "name": "stdout",
     "output_type": "stream",
     "text": [
      "male is 72.17 % of this survey, sitting at 3044 in total.\n",
      "---\n",
      "female is 24.28 % of this survey, sitting at 1024 in total.\n",
      "---\n",
      "other is 2.42 % of this survey, sitting at 102 in total.\n",
      "---\n",
      "non-binary is 0.64 % of this survey, sitting at 27 in total.\n",
      "---\n",
      "trans is 0.4 % of this survey, sitting at 17 in total.\n",
      "---\n",
      "prefer not to say is 0.09 % of this survey, sitting at 4 in total.\n",
      "---\n"
     ]
    }
   ],
   "source": [
    "calc_percent_gender(df_gender_spread, 'AnswerText')"
   ]
  },
  {
   "cell_type": "markdown",
   "id": "ef45a7d3-93a4-4c1f-b394-8962332d97b9",
   "metadata": {},
   "source": [
    "## Age Spread"
   ]
  },
  {
   "cell_type": "code",
   "execution_count": 22,
   "id": "7bcd99ea-c167-49e4-9493-bad2a8073714",
   "metadata": {},
   "outputs": [
    {
     "data": {
      "text/html": [
       "<div>\n",
       "<style scoped>\n",
       "    .dataframe tbody tr th:only-of-type {\n",
       "        vertical-align: middle;\n",
       "    }\n",
       "\n",
       "    .dataframe tbody tr th {\n",
       "        vertical-align: top;\n",
       "    }\n",
       "\n",
       "    .dataframe thead th {\n",
       "        text-align: right;\n",
       "    }\n",
       "</style>\n",
       "<table border=\"1\" class=\"dataframe\">\n",
       "  <thead>\n",
       "    <tr style=\"text-align: right;\">\n",
       "      <th></th>\n",
       "      <th>AnswerText</th>\n",
       "    </tr>\n",
       "  </thead>\n",
       "  <tbody>\n",
       "    <tr>\n",
       "      <th>0</th>\n",
       "      <td>-1</td>\n",
       "    </tr>\n",
       "    <tr>\n",
       "      <th>1</th>\n",
       "      <td>-29</td>\n",
       "    </tr>\n",
       "    <tr>\n",
       "      <th>2</th>\n",
       "      <td>0</td>\n",
       "    </tr>\n",
       "    <tr>\n",
       "      <th>3</th>\n",
       "      <td>11</td>\n",
       "    </tr>\n",
       "    <tr>\n",
       "      <th>4</th>\n",
       "      <td>15</td>\n",
       "    </tr>\n",
       "    <tr>\n",
       "      <th>...</th>\n",
       "      <td>...</td>\n",
       "    </tr>\n",
       "    <tr>\n",
       "      <th>60</th>\n",
       "      <td>70</td>\n",
       "    </tr>\n",
       "    <tr>\n",
       "      <th>61</th>\n",
       "      <td>72</td>\n",
       "    </tr>\n",
       "    <tr>\n",
       "      <th>62</th>\n",
       "      <td>74</td>\n",
       "    </tr>\n",
       "    <tr>\n",
       "      <th>63</th>\n",
       "      <td>8</td>\n",
       "    </tr>\n",
       "    <tr>\n",
       "      <th>64</th>\n",
       "      <td>99</td>\n",
       "    </tr>\n",
       "  </tbody>\n",
       "</table>\n",
       "<p>65 rows × 1 columns</p>\n",
       "</div>"
      ],
      "text/plain": [
       "   AnswerText\n",
       "0          -1\n",
       "1         -29\n",
       "2           0\n",
       "3          11\n",
       "4          15\n",
       "..        ...\n",
       "60         70\n",
       "61         72\n",
       "62         74\n",
       "63          8\n",
       "64         99\n",
       "\n",
       "[65 rows x 1 columns]"
      ]
     },
     "execution_count": 22,
     "metadata": {},
     "output_type": "execute_result"
    }
   ],
   "source": [
    "pd.read_sql('''\n",
    "select answertext\n",
    "from answer as a \n",
    "left join question as q \n",
    "on a.questionid = q.questionid\n",
    "where questiontext = 'What is your age?'\n",
    "group by answertext;\n",
    "''', conn)"
   ]
  },
  {
   "cell_type": "code",
   "execution_count": 23,
   "id": "a411cba2-083f-498c-bebf-02fa00dcdd0b",
   "metadata": {},
   "outputs": [],
   "source": [
    "df_age_spread = pd.read_sql('''\n",
    "select cast(answertext as integer) as age\n",
    "from answer as a \n",
    "left join question as q \n",
    "on a.questionid = q.questionid\n",
    "where q.questiontext = 'What is your age?' and\n",
    "age between 1 and 80\n",
    "group by age\n",
    "order by age asc;\n",
    "''', conn)"
   ]
  },
  {
   "cell_type": "code",
   "execution_count": 24,
   "id": "2ef21f73-b9bd-4481-9241-388db1061a3d",
   "metadata": {},
   "outputs": [
    {
     "data": {
      "image/png": "[encoded data removed]",
      "text/plain": [
       "<Figure size 640x480 with 1 Axes>"
      ]
     },
     "metadata": {},
     "output_type": "display_data"
    }
   ],
   "source": [
    "fig, ax = plt.subplots()\n",
    "\n",
    "df_age_spread['age'].astype(int).plot(kind = 'hist')\n",
    "avg_age = round(sum(df_age_spread['age']) / len(df_age_spread['age']), 1)\n",
    "\n",
    "ax.axvline(avg_age, color = 'r')\n",
    "ax.set_xlabel('Age')\n",
    "ax.set_title('Age Ranges')\n",
    "plt.legend(['Age','Average Age'])\n",
    "plt.show();"
   ]
  },
  {
   "cell_type": "code",
   "execution_count": 25,
   "id": "9dcf161b-b994-48ad-8a53-a1d4227e4eb9",
   "metadata": {},
   "outputs": [
    {
     "data": {
      "text/plain": [
       "40.7"
      ]
     },
     "execution_count": 25,
     "metadata": {},
     "output_type": "execute_result"
    }
   ],
   "source": [
    "avg_age"
   ]
  },
  {
   "cell_type": "code",
   "execution_count": 26,
   "id": "697793b1-2fd9-4aef-80c7-1fd1b3e48382",
   "metadata": {},
   "outputs": [
    {
     "name": "stdout",
     "output_type": "stream",
     "text": [
      "25% of ages are below 26.5\n",
      "50% of ages are below 41.0\n",
      "75% of ages are below 55.5\n"
     ]
    }
   ],
   "source": [
    "print(f'25% of ages are below {np.percentile(df_age_spread['age'], 25)}')\n",
    "print(f'50% of ages are below {np.percentile(df_age_spread['age'], 50)}')\n",
    "print(f'75% of ages are below {np.percentile(df_age_spread['age'], 75)}')"
   ]
  },
  {
   "cell_type": "code",
   "execution_count": 27,
   "id": "9acb653d-a197-41f3-949b-96bb0ce7e4c4",
   "metadata": {},
   "outputs": [
    {
     "data": {
      "image/png": "[encoded data removed]",
      "text/plain": [
       "<Figure size 640x480 with 1 Axes>"
      ]
     },
     "metadata": {},
     "output_type": "display_data"
    }
   ],
   "source": [
    "fig, ax = plt.subplots()\n",
    "\n",
    "df_age_spread['age'].plot(kind = 'box', vert = False)\n",
    "\n",
    "ax.set_title('Age Percentile Distribution')\n",
    "plt.show();"
   ]
  },
  {
   "cell_type": "markdown",
   "id": "05bd3570-e237-452b-904e-7b3f9ec01a12",
   "metadata": {},
   "source": [
    "---\n",
    "## Industry Representation"
   ]
  },
  {
   "cell_type": "code",
   "execution_count": 28,
   "id": "84f1bc02-7ce9-45cd-ad5f-a2c207c5fdfa",
   "metadata": {},
   "outputs": [],
   "source": [
    "df_question = pd.read_sql('''\n",
    "select questiontext\n",
    "from question as q\n",
    "''',conn)"
   ]
  },
  {
   "cell_type": "code",
   "execution_count": 29,
   "id": "afe819a8-6bed-4122-999c-4e5e8c07c502",
   "metadata": {
    "scrolled": true
   },
   "outputs": [],
   "source": [
    "# This cell is used to display all of the questions contained in this survey.\n",
    "# Remove the pound symbols below to see the result\n",
    "\n",
    "#pd.set_option('display.max_colwidth', None)\n",
    "#for f in df_question.iterrows():\n",
    "#    print(f)"
   ]
  },
  {
   "cell_type": "code",
   "execution_count": 30,
   "id": "be2a6410-5417-4ad7-b773-701fc279ca6d",
   "metadata": {},
   "outputs": [
    {
     "data": {
      "text/plain": [
       "<pandas._config.config.option_context at 0x199738c1670>"
      ]
     },
     "execution_count": 30,
     "metadata": {},
     "output_type": "execute_result"
    }
   ],
   "source": [
    "pd.option_context('display.max_colwidth', None)"
   ]
  },
  {
   "cell_type": "code",
   "execution_count": 31,
   "id": "5f81279b-0a34-4910-8ca0-8a446b249c94",
   "metadata": {},
   "outputs": [
    {
     "data": {
      "text/html": [
       "<div>\n",
       "<style scoped>\n",
       "    .dataframe tbody tr th:only-of-type {\n",
       "        vertical-align: middle;\n",
       "    }\n",
       "\n",
       "    .dataframe tbody tr th {\n",
       "        vertical-align: top;\n",
       "    }\n",
       "\n",
       "    .dataframe thead th {\n",
       "        text-align: right;\n",
       "    }\n",
       "</style>\n",
       "<table border=\"1\" class=\"dataframe\">\n",
       "  <thead>\n",
       "    <tr style=\"text-align: right;\">\n",
       "      <th></th>\n",
       "      <th>questiontext</th>\n",
       "    </tr>\n",
       "  </thead>\n",
       "  <tbody>\n",
       "    <tr>\n",
       "      <th>0</th>\n",
       "      <td>Is your employer primarily a tech company/orga...</td>\n",
       "    </tr>\n",
       "  </tbody>\n",
       "</table>\n",
       "</div>"
      ],
      "text/plain": [
       "                                        questiontext\n",
       "0  Is your employer primarily a tech company/orga..."
      ]
     },
     "execution_count": 31,
     "metadata": {},
     "output_type": "execute_result"
    }
   ],
   "source": [
    "pd.read_sql('''\n",
    "select questiontext\n",
    "from question as q\n",
    "where questionid = 9\n",
    "''',conn)"
   ]
  },
  {
   "cell_type": "code",
   "execution_count": 32,
   "id": "7bfd48fa-a3fb-4e39-9949-53a6bb18303f",
   "metadata": {},
   "outputs": [
    {
     "data": {
      "text/html": [
       "<div>\n",
       "<style scoped>\n",
       "    .dataframe tbody tr th:only-of-type {\n",
       "        vertical-align: middle;\n",
       "    }\n",
       "\n",
       "    .dataframe tbody tr th {\n",
       "        vertical-align: top;\n",
       "    }\n",
       "\n",
       "    .dataframe thead th {\n",
       "        text-align: right;\n",
       "    }\n",
       "</style>\n",
       "<table border=\"1\" class=\"dataframe\">\n",
       "  <thead>\n",
       "    <tr style=\"text-align: right;\">\n",
       "      <th></th>\n",
       "      <th>AnswerText</th>\n",
       "      <th>count</th>\n",
       "    </tr>\n",
       "  </thead>\n",
       "  <tbody>\n",
       "    <tr>\n",
       "      <th>0</th>\n",
       "      <td>-1</td>\n",
       "      <td>504</td>\n",
       "    </tr>\n",
       "    <tr>\n",
       "      <th>1</th>\n",
       "      <td>0</td>\n",
       "      <td>826</td>\n",
       "    </tr>\n",
       "    <tr>\n",
       "      <th>2</th>\n",
       "      <td>1</td>\n",
       "      <td>2888</td>\n",
       "    </tr>\n",
       "  </tbody>\n",
       "</table>\n",
       "</div>"
      ],
      "text/plain": [
       "  AnswerText  count\n",
       "0         -1    504\n",
       "1          0    826\n",
       "2          1   2888"
      ]
     },
     "execution_count": 32,
     "metadata": {},
     "output_type": "execute_result"
    }
   ],
   "source": [
    "pd.read_sql('''\n",
    "select answertext, count(answertext) as count\n",
    "from answer as a \n",
    "where questionid = 9\n",
    "group by answertext\n",
    "''',conn)"
   ]
  },
  {
   "cell_type": "code",
   "execution_count": 33,
   "id": "8cd9ed25-a28b-4369-b29d-b19358e3db69",
   "metadata": {},
   "outputs": [
    {
     "data": {
      "text/html": [
       "<div>\n",
       "<style scoped>\n",
       "    .dataframe tbody tr th:only-of-type {\n",
       "        vertical-align: middle;\n",
       "    }\n",
       "\n",
       "    .dataframe tbody tr th {\n",
       "        vertical-align: top;\n",
       "    }\n",
       "\n",
       "    .dataframe thead th {\n",
       "        text-align: right;\n",
       "    }\n",
       "</style>\n",
       "<table border=\"1\" class=\"dataframe\">\n",
       "  <thead>\n",
       "    <tr style=\"text-align: right;\">\n",
       "      <th></th>\n",
       "      <th>questiontext</th>\n",
       "    </tr>\n",
       "  </thead>\n",
       "  <tbody>\n",
       "    <tr>\n",
       "      <th>0</th>\n",
       "      <td>Is your primary role within your company relat...</td>\n",
       "    </tr>\n",
       "  </tbody>\n",
       "</table>\n",
       "</div>"
      ],
      "text/plain": [
       "                                        questiontext\n",
       "0  Is your primary role within your company relat..."
      ]
     },
     "execution_count": 33,
     "metadata": {},
     "output_type": "execute_result"
    }
   ],
   "source": [
    "pd.read_sql('''\n",
    "select questiontext\n",
    "from question as q\n",
    "where questionid = 13\n",
    "''',conn)"
   ]
  },
  {
   "cell_type": "code",
   "execution_count": 34,
   "id": "b0d52717-5950-43dd-bf59-56eafdc0c8b4",
   "metadata": {},
   "outputs": [
    {
     "data": {
      "text/html": [
       "<div>\n",
       "<style scoped>\n",
       "    .dataframe tbody tr th:only-of-type {\n",
       "        vertical-align: middle;\n",
       "    }\n",
       "\n",
       "    .dataframe tbody tr th {\n",
       "        vertical-align: top;\n",
       "    }\n",
       "\n",
       "    .dataframe thead th {\n",
       "        text-align: right;\n",
       "    }\n",
       "</style>\n",
       "<table border=\"1\" class=\"dataframe\">\n",
       "  <thead>\n",
       "    <tr style=\"text-align: right;\">\n",
       "      <th></th>\n",
       "      <th>AnswerText</th>\n",
       "      <th>count</th>\n",
       "    </tr>\n",
       "  </thead>\n",
       "  <tbody>\n",
       "    <tr>\n",
       "      <th>0</th>\n",
       "      <td>-1</td>\n",
       "      <td>1387</td>\n",
       "    </tr>\n",
       "    <tr>\n",
       "      <th>1</th>\n",
       "      <td>0</td>\n",
       "      <td>100</td>\n",
       "    </tr>\n",
       "    <tr>\n",
       "      <th>2</th>\n",
       "      <td>1</td>\n",
       "      <td>1471</td>\n",
       "    </tr>\n",
       "  </tbody>\n",
       "</table>\n",
       "</div>"
      ],
      "text/plain": [
       "  AnswerText  count\n",
       "0         -1   1387\n",
       "1          0    100\n",
       "2          1   1471"
      ]
     },
     "execution_count": 34,
     "metadata": {},
     "output_type": "execute_result"
    }
   ],
   "source": [
    "pd.read_sql('''\n",
    "select answertext, count(answertext) as count\n",
    "from question as q\n",
    "left join answer as a\n",
    " on q.questionid = a.questionid\n",
    "where q.questionid = 13\n",
    "group by answertext\n",
    "''',conn)"
   ]
  },
  {
   "cell_type": "code",
   "execution_count": 35,
   "id": "f64440c1-3536-4006-b903-a6512aa409d8",
   "metadata": {},
   "outputs": [
    {
     "data": {
      "text/html": [
       "<div>\n",
       "<style scoped>\n",
       "    .dataframe tbody tr th:only-of-type {\n",
       "        vertical-align: middle;\n",
       "    }\n",
       "\n",
       "    .dataframe tbody tr th {\n",
       "        vertical-align: top;\n",
       "    }\n",
       "\n",
       "    .dataframe thead th {\n",
       "        text-align: right;\n",
       "    }\n",
       "</style>\n",
       "<table border=\"1\" class=\"dataframe\">\n",
       "  <thead>\n",
       "    <tr style=\"text-align: right;\">\n",
       "      <th></th>\n",
       "      <th>questiontext</th>\n",
       "    </tr>\n",
       "  </thead>\n",
       "  <tbody>\n",
       "    <tr>\n",
       "      <th>0</th>\n",
       "      <td>Which of the following best describes your wor...</td>\n",
       "    </tr>\n",
       "  </tbody>\n",
       "</table>\n",
       "</div>"
      ],
      "text/plain": [
       "                                        questiontext\n",
       "0  Which of the following best describes your wor..."
      ]
     },
     "execution_count": 35,
     "metadata": {},
     "output_type": "execute_result"
    }
   ],
   "source": [
    "pd.read_sql('''\n",
    "select questiontext\n",
    "from question\n",
    "where questiontext = 'Which of the following best describes your work position?'\n",
    "''',conn)"
   ]
  },
  {
   "cell_type": "code",
   "execution_count": 36,
   "id": "1d785390-4be4-40b9-8830-5d478c16cce4",
   "metadata": {},
   "outputs": [],
   "source": [
    "pd.reset_option('display.max_colwidth')"
   ]
  },
  {
   "cell_type": "code",
   "execution_count": 37,
   "id": "5556d35e-09cf-4ed8-bf68-a46252de8a73",
   "metadata": {},
   "outputs": [
    {
     "data": {
      "text/html": [
       "<div>\n",
       "<style scoped>\n",
       "    .dataframe tbody tr th:only-of-type {\n",
       "        vertical-align: middle;\n",
       "    }\n",
       "\n",
       "    .dataframe tbody tr th {\n",
       "        vertical-align: top;\n",
       "    }\n",
       "\n",
       "    .dataframe thead th {\n",
       "        text-align: right;\n",
       "    }\n",
       "</style>\n",
       "<table border=\"1\" class=\"dataframe\">\n",
       "  <thead>\n",
       "    <tr style=\"text-align: right;\">\n",
       "      <th></th>\n",
       "      <th>AnswerText</th>\n",
       "      <th>count</th>\n",
       "    </tr>\n",
       "  </thead>\n",
       "  <tbody>\n",
       "    <tr>\n",
       "      <th>0</th>\n",
       "      <td>Back-end Developer</td>\n",
       "      <td>737</td>\n",
       "    </tr>\n",
       "    <tr>\n",
       "      <th>1</th>\n",
       "      <td>Front-end Developer</td>\n",
       "      <td>502</td>\n",
       "    </tr>\n",
       "    <tr>\n",
       "      <th>2</th>\n",
       "      <td>DevOps/SysAdmin</td>\n",
       "      <td>282</td>\n",
       "    </tr>\n",
       "    <tr>\n",
       "      <th>3</th>\n",
       "      <td>Supervisor/Team Lead</td>\n",
       "      <td>277</td>\n",
       "    </tr>\n",
       "    <tr>\n",
       "      <th>4</th>\n",
       "      <td>Other</td>\n",
       "      <td>187</td>\n",
       "    </tr>\n",
       "    <tr>\n",
       "      <th>5</th>\n",
       "      <td>Support</td>\n",
       "      <td>168</td>\n",
       "    </tr>\n",
       "    <tr>\n",
       "      <th>6</th>\n",
       "      <td>One-person shop</td>\n",
       "      <td>161</td>\n",
       "    </tr>\n",
       "    <tr>\n",
       "      <th>7</th>\n",
       "      <td>Designer</td>\n",
       "      <td>135</td>\n",
       "    </tr>\n",
       "    <tr>\n",
       "      <th>8</th>\n",
       "      <td>Executive Leadership</td>\n",
       "      <td>101</td>\n",
       "    </tr>\n",
       "    <tr>\n",
       "      <th>9</th>\n",
       "      <td>Dev Evangelist/Advocate</td>\n",
       "      <td>99</td>\n",
       "    </tr>\n",
       "    <tr>\n",
       "      <th>10</th>\n",
       "      <td>Sales</td>\n",
       "      <td>31</td>\n",
       "    </tr>\n",
       "    <tr>\n",
       "      <th>11</th>\n",
       "      <td>HR</td>\n",
       "      <td>12</td>\n",
       "    </tr>\n",
       "  </tbody>\n",
       "</table>\n",
       "</div>"
      ],
      "text/plain": [
       "                 AnswerText  count\n",
       "0        Back-end Developer    737\n",
       "1       Front-end Developer    502\n",
       "2           DevOps/SysAdmin    282\n",
       "3      Supervisor/Team Lead    277\n",
       "4                     Other    187\n",
       "5                   Support    168\n",
       "6           One-person shop    161\n",
       "7                  Designer    135\n",
       "8      Executive Leadership    101\n",
       "9   Dev Evangelist/Advocate     99\n",
       "10                    Sales     31\n",
       "11                       HR     12"
      ]
     },
     "execution_count": 37,
     "metadata": {},
     "output_type": "execute_result"
    }
   ],
   "source": [
    "pd.read_sql('''\n",
    "select answertext, count(answertext) as count\n",
    "from answer as a\n",
    "left join question as q\n",
    "on a.questionid = q.questionid\n",
    "where questiontext = 'Which of the following best describes your work position?'\n",
    "group by answertext\n",
    "order by count desc\n",
    "''',conn)"
   ]
  },
  {
   "cell_type": "code",
   "execution_count": 38,
   "id": "2f21e587-ac97-4567-b84b-2a25753d7012",
   "metadata": {},
   "outputs": [],
   "source": [
    "job_spread = pd.read_sql('''\n",
    "select answertext as job, count(answertext) as count\n",
    "from answer as a\n",
    "left join question as q\n",
    "on a.questionid = q.questionid\n",
    "where questiontext = 'Which of the following best describes your work position?'\n",
    "group by job\n",
    "order by count desc\n",
    "''',conn)"
   ]
  },
  {
   "cell_type": "code",
   "execution_count": 39,
   "id": "3fb7f104-b59a-499c-8c76-b9e5d3cfd7c0",
   "metadata": {},
   "outputs": [
    {
     "data": {
      "image/png": "[encoded data removed]",
      "text/plain": [
       "<Figure size 640x480 with 1 Axes>"
      ]
     },
     "metadata": {},
     "output_type": "display_data"
    }
   ],
   "source": [
    "fig, ax = plt.subplots()\n",
    "job_spread.plot(x = 'job', kind = 'barh', ax = ax)\n",
    "\n",
    "ax.set_title('Job Spread')\n",
    "ax.set_xlabel('Count')\n",
    "plt.show();"
   ]
  },
  {
   "cell_type": "markdown",
   "id": "b86e1037-f028-4cba-bc8e-b684ae0b7421",
   "metadata": {},
   "source": [
    "- function utilized:\n",
    "    - `calc_percent`\n",
    "        - calcualtes the percentage of each unique input for a given column"
   ]
  },
  {
   "cell_type": "code",
   "execution_count": 40,
   "id": "2d9f5b42-e2cb-478a-ad24-c406e3a42295",
   "metadata": {},
   "outputs": [
    {
     "name": "stdout",
     "output_type": "stream",
     "text": [
      "Back-end Developer is 27.38 % of this survey, siting at 737 in total.\n",
      "---\n",
      "Front-end Developer is 18.65 % of this survey, siting at 502 in total.\n",
      "---\n",
      "DevOps/SysAdmin is 10.48 % of this survey, siting at 282 in total.\n",
      "---\n",
      "Supervisor/Team Lead is 10.29 % of this survey, siting at 277 in total.\n",
      "---\n",
      "Other is 6.95 % of this survey, siting at 187 in total.\n",
      "---\n",
      "Support is 6.24 % of this survey, siting at 168 in total.\n",
      "---\n",
      "One-person shop is 5.98 % of this survey, siting at 161 in total.\n",
      "---\n",
      "Designer is 5.01 % of this survey, siting at 135 in total.\n",
      "---\n",
      "Executive Leadership is 3.75 % of this survey, siting at 101 in total.\n",
      "---\n",
      "Dev Evangelist/Advocate is 3.68 % of this survey, siting at 99 in total.\n",
      "---\n",
      "Sales is 1.15 % of this survey, siting at 31 in total.\n",
      "---\n",
      "HR is 0.45 % of this survey, siting at 12 in total.\n",
      "---\n"
     ]
    }
   ],
   "source": [
    "calc_percent(job_spread, 'job')"
   ]
  },
  {
   "cell_type": "markdown",
   "id": "42c9b287-05ec-4541-b294-f742becb86d3",
   "metadata": {},
   "source": [
    "---\n",
    "## Mental Health "
   ]
  },
  {
   "cell_type": "code",
   "execution_count": 41,
   "id": "8b7889e4-710d-4c7a-a12b-4f98f08cb034",
   "metadata": {
    "scrolled": true
   },
   "outputs": [
    {
     "name": "stdout",
     "output_type": "stream",
     "text": [
      "(0, questiontext    What is your age?\n",
      "Name: 0, dtype: object)\n",
      "(1, questiontext    What is your gender?\n",
      "Name: 1, dtype: object)\n",
      "(2, questiontext    What country do you live in?\n",
      "Name: 2, dtype: object)\n",
      "(3, questiontext    If you live in the United States, which state or territory do you live in?\n",
      "Name: 3, dtype: object)\n",
      "(4, questiontext    Are you self-employed?\n",
      "Name: 4, dtype: object)\n",
      "(5, questiontext    Do you have a family history of mental illness?\n",
      "Name: 5, dtype: object)\n",
      "(6, questiontext    Have you ever sought treatment for a mental health disorder from a mental health professional?\n",
      "Name: 6, dtype: object)\n",
      "(7, questiontext    How many employees does your company or organization have?\n",
      "Name: 7, dtype: object)\n",
      "(8, questiontext    Is your employer primarily a tech company/organization?\n",
      "Name: 8, dtype: object)\n",
      "(9, questiontext    Does your employer provide mental health benefits as part of healthcare coverage?\n",
      "Name: 9, dtype: object)\n",
      "(10, questiontext    Is your anonymity protected if you choose to take advantage of mental health or substance abuse treatment resources provided by your employer?\n",
      "Name: 10, dtype: object)\n",
      "(11, questiontext    Would you bring up a mental health issue with a potential employer in an interview?\n",
      "Name: 11, dtype: object)\n",
      "(12, questiontext    Is your primary role within your company related to tech/IT?\n",
      "Name: 12, dtype: object)\n",
      "(13, questiontext    Do you know the options for mental health care available under your employer-provided health coverage?\n",
      "Name: 13, dtype: object)\n",
      "(14, questiontext    Has your employer ever formally discussed mental health (for example, as part of a wellness campaign or other official communication)?\n",
      "Name: 14, dtype: object)\n",
      "(15, questiontext    Does your employer offer resources to learn more about mental health disorders and options for seeking help?\n",
      "Name: 15, dtype: object)\n",
      "(16, questiontext    If a mental health issue prompted you to request a medical leave from work, how easy or difficult would it be to ask for that leave?\n",
      "Name: 16, dtype: object)\n",
      "(17, questiontext    Would you feel comfortable discussing a mental health issue with your coworkers?\n",
      "Name: 17, dtype: object)\n",
      "(18, questiontext    Would you feel comfortable discussing a mental health issue with your direct supervisor(s)?\n",
      "Name: 18, dtype: object)\n",
      "(19, questiontext    Do you have medical coverage (private insurance or state-provided) that includes treatment of mental health disorders?\n",
      "Name: 19, dtype: object)\n",
      "(20, questiontext    Do you know local or online resources to seek help for a mental health issue?\n",
      "Name: 20, dtype: object)\n",
      "(21, questiontext    Do you have previous employers?\n",
      "Name: 21, dtype: object)\n",
      "(22, questiontext    Have your previous employers provided mental health benefits?\n",
      "Name: 22, dtype: object)\n",
      "(23, questiontext    Were you aware of the options for mental health care provided by your previous employers?\n",
      "Name: 23, dtype: object)\n",
      "(24, questiontext    Did your previous employers ever formally discuss mental health (as part of a wellness campaign or other official communication)?\n",
      "Name: 24, dtype: object)\n",
      "(25, questiontext    Did your previous employers provide resources to learn more about mental health disorders and how to seek help?\n",
      "Name: 25, dtype: object)\n",
      "(26, questiontext    Was your anonymity protected if you chose to take advantage of mental health or substance abuse treatment resources with previous employers?\n",
      "Name: 26, dtype: object)\n",
      "(27, questiontext    Would you have been willing to discuss your mental health with your direct supervisor(s)?\n",
      "Name: 27, dtype: object)\n",
      "(28, questiontext    Would you be willing to bring up a physical health issue with a potential employer in an interview?\n",
      "Name: 28, dtype: object)\n",
      "(29, questiontext    How willing would you be to share with friends and family that you have a mental illness?\n",
      "Name: 29, dtype: object)\n",
      "(30, questiontext    Have your observations of how another individual who discussed a mental health disorder made you less likely to reveal a mental health issue yourself in your current workplace?\n",
      "Name: 30, dtype: object)\n",
      "(31, questiontext    Have you had a mental health disorder in the past?\n",
      "Name: 31, dtype: object)\n",
      "(32, questiontext    Do you currently have a mental health disorder?\n",
      "Name: 32, dtype: object)\n",
      "(33, questiontext    Have you ever been diagnosed with a mental health disorder?\n",
      "Name: 33, dtype: object)\n",
      "(34, questiontext    If you have a mental health disorder, how often do you feel that it interferes with your work when being treated effectively?\n",
      "Name: 34, dtype: object)\n",
      "(35, questiontext    If you have a mental health disorder, how often do you feel that it interferes with your work when not being treated effectively (i.e., when you are experiencing symptoms)?\n",
      "Name: 35, dtype: object)\n",
      "(36, questiontext    What country do you work in?\n",
      "Name: 36, dtype: object)\n",
      "(37, questiontext    What US state or territory do you work in?\n",
      "Name: 37, dtype: object)\n",
      "(38, questiontext    If you have been diagnosed or treated for a mental health disorder, do you ever reveal this to clients or business contacts?\n",
      "Name: 38, dtype: object)\n",
      "(39, questiontext    If you have been diagnosed or treated for a mental health disorder, do you ever reveal this to coworkers or employees?\n",
      "Name: 39, dtype: object)\n",
      "(40, questiontext    Do you believe your productivity is ever affected by a mental health issue?\n",
      "Name: 40, dtype: object)\n",
      "(41, questiontext    If yes, what percentage of your work time (time performing primary or secondary job functions) is affected by a mental health issue?\n",
      "Name: 41, dtype: object)\n",
      "(42, questiontext    Have you observed or experienced an unsupportive or badly handled response to a mental health issue in your current or previous workplace?\n",
      "Name: 42, dtype: object)\n",
      "(43, questiontext    Would you feel more comfortable talking to your coworkers about your physical health or your mental health?\n",
      "Name: 43, dtype: object)\n",
      "(44, questiontext    Have you ever discussed your mental health with your employer?\n",
      "Name: 44, dtype: object)\n",
      "(45, questiontext    Describe the conversation you had with your employer about your mental health, including their reactions and what actions were taken to address your mental health issue/questions.\n",
      "Name: 45, dtype: object)\n",
      "(46, questiontext    Have you ever discussed your mental health with coworkers?\n",
      "Name: 46, dtype: object)\n",
      "(47, questiontext    Describe the conversation with coworkers you had about your mental health including their reactions.\n",
      "Name: 47, dtype: object)\n",
      "(48, questiontext    Have you ever had a coworker discuss their or another coworker's mental health with you?\n",
      "Name: 48, dtype: object)\n",
      "(49, questiontext    Describe the conversation your coworker had with you about their mental health (please do not use names).\n",
      "Name: 49, dtype: object)\n",
      "(50, questiontext    Overall, how much importance does your employer place on physical health?\n",
      "Name: 50, dtype: object)\n",
      "(51, questiontext    Overall, how much importance does your employer place on mental health?\n",
      "Name: 51, dtype: object)\n",
      "(52, questiontext    If you have revealed a mental health disorder to a client or business contact, how has this affected you or the relationship?\n",
      "Name: 52, dtype: object)\n",
      "(53, questiontext    If you have revealed a mental health disorder to a coworker or employee, how has this impacted you or the relationship?\n",
      "Name: 53, dtype: object)\n",
      "(54, questiontext    Was your employer primarily a tech company/organization?\n",
      "Name: 54, dtype: object)\n",
      "(55, questiontext    Would you have felt more comfortable talking to your previous employer about your physical health or your mental health?\n",
      "Name: 55, dtype: object)\n",
      "(56, questiontext    Did you ever discuss your mental health with your previous employer?\n",
      "Name: 56, dtype: object)\n",
      "(57, questiontext    Describe the conversation you had with your previous employer about your mental health, including their reactions and actions taken to address your mental health issue/questions.\n",
      "Name: 57, dtype: object)\n",
      "(58, questiontext    Did you ever discuss your mental health with a previous coworker(s)?\n",
      "Name: 58, dtype: object)\n",
      "(59, questiontext    Describe the conversation you had with your previous coworkers about your mental health including their reactions.\n",
      "Name: 59, dtype: object)\n",
      "(60, questiontext    Did you ever have a previous coworker discuss their or another coworker's mental health with you?\n",
      "Name: 60, dtype: object)\n",
      "(61, questiontext    Describe the conversation your coworker had with you about their mental health (please do not use names)..1\n",
      "Name: 61, dtype: object)\n",
      "(62, questiontext    Overall, how much importance did your previous employer place on physical health?\n",
      "Name: 62, dtype: object)\n",
      "(63, questiontext    Overall, how much importance did your previous employer place on mental health?\n",
      "Name: 63, dtype: object)\n",
      "(64, questiontext    Are you openly identified at work as a person with a mental health issue?\n",
      "Name: 64, dtype: object)\n",
      "(65, questiontext    Has being identified as a person with a mental health issue affected your career?\n",
      "Name: 65, dtype: object)\n",
      "(66, questiontext    How has it affected your career?\n",
      "Name: 66, dtype: object)\n",
      "(67, questiontext    If they knew you suffered from a mental health disorder, how do you think that your team members/co-workers would react?\n",
      "Name: 67, dtype: object)\n",
      "(68, questiontext    Describe the circumstances of the badly handled or unsupportive response.\n",
      "Name: 68, dtype: object)\n",
      "(69, questiontext    Have you observed or experienced supportive or well handled response to a mental health issue in your current or previous workplace?\n",
      "Name: 69, dtype: object)\n",
      "(70, questiontext    Describe the circumstances of the supportive or well handled response.\n",
      "Name: 70, dtype: object)\n",
      "(71, questiontext    Overall, how well do you think the tech industry supports employees with mental health issues?\n",
      "Name: 71, dtype: object)\n",
      "(72, questiontext    Briefly describe what you think the industry as a whole and/or employers could do to improve mental health support for employees.\n",
      "Name: 72, dtype: object)\n",
      "(73, questiontext    If there is anything else you would like to tell us that has not been covered by the survey questions, please use this space to do so.\n",
      "Name: 73, dtype: object)\n",
      "(74, questiontext    Would you be willing to talk to one of us more extensively about your experiences with mental health issues in the tech industry? (Note that all interview responses would be used _anonymously_ and only with your permission.)\n",
      "Name: 74, dtype: object)\n",
      "(75, questiontext    What is your race?\n",
      "Name: 75, dtype: object)\n",
      "(76, questiontext    Do you think that discussing a physical health issue with your employer would have negative consequences?\n",
      "Name: 76, dtype: object)\n",
      "(77, questiontext    Do you feel that your employer takes mental health as seriously as physical health?\n",
      "Name: 77, dtype: object)\n",
      "(78, questiontext    If you have a mental health condition, do you feel that it interferes with your work?\n",
      "Name: 78, dtype: object)\n",
      "(79, questiontext    Do you work remotely (outside of an office) at least 50% of the time?\n",
      "Name: 79, dtype: object)\n",
      "(80, questiontext    Do you know the options for mental health care your employer provides?\n",
      "Name: 80, dtype: object)\n",
      "(81, questiontext    Has your employer ever discussed mental health as part of an employee wellness program?\n",
      "Name: 81, dtype: object)\n",
      "(82, questiontext    Does your employer provide resources to learn more about mental health issues and how to seek help?\n",
      "Name: 82, dtype: object)\n",
      "(83, questiontext    How easy is it for you to take medical leave for a mental health condition?\n",
      "Name: 83, dtype: object)\n",
      "(84, questiontext    Do you think that discussing a mental health issue with your employer would have negative consequences?\n",
      "Name: 84, dtype: object)\n",
      "(85, questiontext    Would you be willing to discuss a mental health issue with your coworkers?\n",
      "Name: 85, dtype: object)\n",
      "(86, questiontext    Would you be willing to discuss a mental health issue with your direct supervisor(s)?\n",
      "Name: 86, dtype: object)\n",
      "(87, questiontext    Would you bring up a physical health issue with a potential employer in an interview?\n",
      "Name: 87, dtype: object)\n",
      "(88, questiontext    Have you heard of or observed negative consequences for coworkers with mental health conditions in your workplace?\n",
      "Name: 88, dtype: object)\n",
      "(89, questiontext    Any additional notes or comments\n",
      "Name: 89, dtype: object)\n",
      "(90, questiontext    Do you think that discussing a mental health disorder with your employer would have negative consequences?\n",
      "Name: 90, dtype: object)\n",
      "(91, questiontext    Have you heard of or observed negative consequences for co-workers who have been open about mental health issues in your workplace?\n",
      "Name: 91, dtype: object)\n",
      "(92, questiontext    If you have revealed a mental health issue to a client or business contact, do you believe this has impacted you negatively?\n",
      "Name: 92, dtype: object)\n",
      "(93, questiontext    If you have revealed a mental health issue to a coworker or employee, do you believe this has impacted you negatively?\n",
      "Name: 93, dtype: object)\n",
      "(94, questiontext    Do you think that discussing a mental health disorder with previous employers would have negative consequences?\n",
      "Name: 94, dtype: object)\n",
      "(95, questiontext    Do you think that discussing a physical health issue with previous employers would have negative consequences?\n",
      "Name: 95, dtype: object)\n",
      "(96, questiontext    Would you have been willing to discuss a mental health issue with your previous co-workers?\n",
      "Name: 96, dtype: object)\n",
      "(97, questiontext    Did you feel that your previous employers took mental health as seriously as physical health?\n",
      "Name: 97, dtype: object)\n",
      "(98, questiontext    Did you hear of or observe negative consequences for co-workers with mental health issues in your previous workplaces?\n",
      "Name: 98, dtype: object)\n",
      "(99, questiontext    Do you feel that being identified as a person with a mental health issue would hurt your career?\n",
      "Name: 99, dtype: object)\n",
      "(100, questiontext    Do you think that team members/co-workers would view you more negatively if they knew you suffered from a mental health issue?\n",
      "Name: 100, dtype: object)\n",
      "(101, questiontext    If yes, what condition(s) have you been diagnosed with?\n",
      "Name: 101, dtype: object)\n",
      "(102, questiontext    If maybe, what condition(s) do you believe you have?\n",
      "Name: 102, dtype: object)\n",
      "(103, questiontext    Which of the following best describes your work position?\n",
      "Name: 103, dtype: object)\n",
      "(104, questiontext    Do you work remotely?\n",
      "Name: 104, dtype: object)\n"
     ]
    }
   ],
   "source": [
    "pd.set_option('display.max_colwidth', None)\n",
    "for f in df_question.iterrows():\n",
    "    print(f)"
   ]
  },
  {
   "cell_type": "markdown",
   "id": "a9306b6a-a2f8-4b93-8f33-5ec3d8252e02",
   "metadata": {},
   "source": [
    "34, Have you ever been diagnosed with a mental health disorder?"
   ]
  },
  {
   "cell_type": "code",
   "execution_count": 42,
   "id": "3c28fba2-ddcc-4274-b254-9f4fef000ada",
   "metadata": {},
   "outputs": [],
   "source": [
    "mental_health_df = pd.read_sql('''\n",
    "select answertext, count(answertext) as count\n",
    "from answer as a\n",
    "left join question as q\n",
    "on a.questionid = q.questionid\n",
    "where questiontext = 'Have you ever been diagnosed with a mental health disorder?'\n",
    "group by answertext\n",
    "''',conn)"
   ]
  },
  {
   "cell_type": "code",
   "execution_count": 43,
   "id": "7f7e1d27-44e8-4704-b788-42dfb4e73281",
   "metadata": {},
   "outputs": [],
   "source": [
    "mental_health_df = mental_health_df.replace({'-1' : 'prefer not to say'})"
   ]
  },
  {
   "cell_type": "code",
   "execution_count": 44,
   "id": "9811f361-b8b5-4f75-8d66-1711a83e7e1c",
   "metadata": {
    "scrolled": true
   },
   "outputs": [
    {
     "data": {
      "text/html": [
       "<div>\n",
       "<style scoped>\n",
       "    .dataframe tbody tr th:only-of-type {\n",
       "        vertical-align: middle;\n",
       "    }\n",
       "\n",
       "    .dataframe tbody tr th {\n",
       "        vertical-align: top;\n",
       "    }\n",
       "\n",
       "    .dataframe thead th {\n",
       "        text-align: right;\n",
       "    }\n",
       "</style>\n",
       "<table border=\"1\" class=\"dataframe\">\n",
       "  <thead>\n",
       "    <tr style=\"text-align: right;\">\n",
       "      <th></th>\n",
       "      <th>AnswerText</th>\n",
       "      <th>count</th>\n",
       "    </tr>\n",
       "  </thead>\n",
       "  <tbody>\n",
       "    <tr>\n",
       "      <th>0</th>\n",
       "      <td>prefer not to say</td>\n",
       "      <td>863</td>\n",
       "    </tr>\n",
       "    <tr>\n",
       "      <th>1</th>\n",
       "      <td>No</td>\n",
       "      <td>732</td>\n",
       "    </tr>\n",
       "    <tr>\n",
       "      <th>2</th>\n",
       "      <td>Yes</td>\n",
       "      <td>1363</td>\n",
       "    </tr>\n",
       "  </tbody>\n",
       "</table>\n",
       "</div>"
      ],
      "text/plain": [
       "          AnswerText  count\n",
       "0  prefer not to say    863\n",
       "1                 No    732\n",
       "2                Yes   1363"
      ]
     },
     "execution_count": 44,
     "metadata": {},
     "output_type": "execute_result"
    }
   ],
   "source": [
    "mental_health_df"
   ]
  },
  {
   "cell_type": "code",
   "execution_count": 45,
   "id": "601b7af5-252b-425f-875f-bbf536ae9798",
   "metadata": {},
   "outputs": [
    {
     "data": {
      "image/png": "[encoded data removed]",
      "text/plain": [
       "<Figure size 640x480 with 1 Axes>"
      ]
     },
     "metadata": {},
     "output_type": "display_data"
    }
   ],
   "source": [
    "fig, ax = plt.subplots()\n",
    "\n",
    "mental_health_df.plot(x = 'AnswerText', kind = 'barh', ax = ax)\n",
    "\n",
    "ax.set_title('Have you ever been diagnosed with a mental health disorder?')\n",
    "plt.show();"
   ]
  },
  {
   "cell_type": "code",
   "execution_count": 46,
   "id": "5e561ffc-29ef-44b3-b070-7101c5c537f7",
   "metadata": {},
   "outputs": [
    {
     "name": "stdout",
     "output_type": "stream",
     "text": [
      "prefer not to say is 29.18 % of this survey, siting at 863 in total.\n",
      "---\n",
      "No is 24.75 % of this survey, siting at 732 in total.\n",
      "---\n",
      "Yes is 46.08 % of this survey, siting at 1363 in total.\n",
      "---\n"
     ]
    }
   ],
   "source": [
    "calc_percent(mental_health_df, 'AnswerText')"
   ]
  },
  {
   "cell_type": "markdown",
   "id": "e1877d4f-2755-4efc-9077-0bc41cd6e7ec",
   "metadata": {},
   "source": [
    "### Mental health by age, gender and job type"
   ]
  },
  {
   "cell_type": "markdown",
   "id": "a32ceffd-71ee-4436-9f51-80965ad6b429",
   "metadata": {},
   "source": [
    "### Age"
   ]
  },
  {
   "cell_type": "code",
   "execution_count": 47,
   "id": "4a9382c3-2283-48da-a454-301dd70f4918",
   "metadata": {},
   "outputs": [
    {
     "data": {
      "text/html": [
       "<div>\n",
       "<style scoped>\n",
       "    .dataframe tbody tr th:only-of-type {\n",
       "        vertical-align: middle;\n",
       "    }\n",
       "\n",
       "    .dataframe tbody tr th {\n",
       "        vertical-align: top;\n",
       "    }\n",
       "\n",
       "    .dataframe thead th {\n",
       "        text-align: right;\n",
       "    }\n",
       "</style>\n",
       "<table border=\"1\" class=\"dataframe\">\n",
       "  <thead>\n",
       "    <tr style=\"text-align: right;\">\n",
       "      <th></th>\n",
       "      <th>questionid</th>\n",
       "      <th>questiontext</th>\n",
       "    </tr>\n",
       "  </thead>\n",
       "  <tbody>\n",
       "    <tr>\n",
       "      <th>0</th>\n",
       "      <td>1</td>\n",
       "      <td>What is your age?</td>\n",
       "    </tr>\n",
       "    <tr>\n",
       "      <th>1</th>\n",
       "      <td>10</td>\n",
       "      <td>Does your employer provide mental health benefits as part of healthcare coverage?</td>\n",
       "    </tr>\n",
       "    <tr>\n",
       "      <th>2</th>\n",
       "      <td>11</td>\n",
       "      <td>Is your anonymity protected if you choose to take advantage of mental health or substance abuse treatment resources provided by your employer?</td>\n",
       "    </tr>\n",
       "    <tr>\n",
       "      <th>3</th>\n",
       "      <td>14</td>\n",
       "      <td>Do you know the options for mental health care available under your employer-provided health coverage?</td>\n",
       "    </tr>\n",
       "    <tr>\n",
       "      <th>4</th>\n",
       "      <td>20</td>\n",
       "      <td>Do you have medical coverage (private insurance or state-provided) that includes treatment of mental health disorders?</td>\n",
       "    </tr>\n",
       "    <tr>\n",
       "      <th>5</th>\n",
       "      <td>27</td>\n",
       "      <td>Was your anonymity protected if you chose to take advantage of mental health or substance abuse treatment resources with previous employers?</td>\n",
       "    </tr>\n",
       "    <tr>\n",
       "      <th>6</th>\n",
       "      <td>34</td>\n",
       "      <td>Have you ever been diagnosed with a mental health disorder?</td>\n",
       "    </tr>\n",
       "    <tr>\n",
       "      <th>7</th>\n",
       "      <td>52</td>\n",
       "      <td>If you have been diagnosed or treated for a mental health disorder, do you ever reveal this to clients or business contacts?</td>\n",
       "    </tr>\n",
       "    <tr>\n",
       "      <th>8</th>\n",
       "      <td>53</td>\n",
       "      <td>If you have been diagnosed or treated for a mental health disorder, do you ever reveal this to coworkers or employees?</td>\n",
       "    </tr>\n",
       "    <tr>\n",
       "      <th>9</th>\n",
       "      <td>55</td>\n",
       "      <td>If yes, what percentage of your work time (time performing primary or secondary job functions) is affected by a mental health issue?</td>\n",
       "    </tr>\n",
       "    <tr>\n",
       "      <th>10</th>\n",
       "      <td>115</td>\n",
       "      <td>If yes, what condition(s) have you been diagnosed with?</td>\n",
       "    </tr>\n",
       "  </tbody>\n",
       "</table>\n",
       "</div>"
      ],
      "text/plain": [
       "    questionid  \\\n",
       "0            1   \n",
       "1           10   \n",
       "2           11   \n",
       "3           14   \n",
       "4           20   \n",
       "5           27   \n",
       "6           34   \n",
       "7           52   \n",
       "8           53   \n",
       "9           55   \n",
       "10         115   \n",
       "\n",
       "                                                                                                                                      questiontext  \n",
       "0                                                                                                                                What is your age?  \n",
       "1                                                                Does your employer provide mental health benefits as part of healthcare coverage?  \n",
       "2   Is your anonymity protected if you choose to take advantage of mental health or substance abuse treatment resources provided by your employer?  \n",
       "3                                           Do you know the options for mental health care available under your employer-provided health coverage?  \n",
       "4                           Do you have medical coverage (private insurance or state-provided) that includes treatment of mental health disorders?  \n",
       "5     Was your anonymity protected if you chose to take advantage of mental health or substance abuse treatment resources with previous employers?  \n",
       "6                                                                                      Have you ever been diagnosed with a mental health disorder?  \n",
       "7                     If you have been diagnosed or treated for a mental health disorder, do you ever reveal this to clients or business contacts?  \n",
       "8                           If you have been diagnosed or treated for a mental health disorder, do you ever reveal this to coworkers or employees?  \n",
       "9             If yes, what percentage of your work time (time performing primary or secondary job functions) is affected by a mental health issue?  \n",
       "10                                                                                         If yes, what condition(s) have you been diagnosed with?  "
      ]
     },
     "execution_count": 47,
     "metadata": {},
     "output_type": "execute_result"
    }
   ],
   "source": [
    "# 1 34\n",
    "pd.read_sql('''\n",
    "select questionid, questiontext\n",
    "from question\n",
    "where questiontext like '%age%' or questiontext like '%diagnose%'\n",
    "''',conn)"
   ]
  },
  {
   "cell_type": "code",
   "execution_count": 48,
   "id": "1ec1ed54-87c9-412d-a725-6624c1e8b7c8",
   "metadata": {},
   "outputs": [],
   "source": [
    "age_diagnosis = pd.read_sql('''\n",
    "select a1.answertext as age, a2.answertext as diagnosis\n",
    "from answer as a1\n",
    "left join answer as a2\n",
    "on a1.userid = a2.userid\n",
    "where a1.questionid = 1 and\n",
    "a2.questionid = 34 and \n",
    "age between 19 and 60 \n",
    "''',conn)"
   ]
  },
  {
   "cell_type": "code",
   "execution_count": 49,
   "id": "ce86dd3f-77dd-4cf5-8d28-283a8c2c2ea0",
   "metadata": {},
   "outputs": [
    {
     "data": {
      "text/html": [
       "<div>\n",
       "<style scoped>\n",
       "    .dataframe tbody tr th:only-of-type {\n",
       "        vertical-align: middle;\n",
       "    }\n",
       "\n",
       "    .dataframe tbody tr th {\n",
       "        vertical-align: top;\n",
       "    }\n",
       "\n",
       "    .dataframe thead th {\n",
       "        text-align: right;\n",
       "    }\n",
       "</style>\n",
       "<table border=\"1\" class=\"dataframe\">\n",
       "  <thead>\n",
       "    <tr style=\"text-align: right;\">\n",
       "      <th></th>\n",
       "      <th>age</th>\n",
       "      <th>diagnosis</th>\n",
       "    </tr>\n",
       "  </thead>\n",
       "  <tbody>\n",
       "    <tr>\n",
       "      <th>0</th>\n",
       "      <td>39</td>\n",
       "      <td>Yes</td>\n",
       "    </tr>\n",
       "    <tr>\n",
       "      <th>1</th>\n",
       "      <td>29</td>\n",
       "      <td>Yes</td>\n",
       "    </tr>\n",
       "    <tr>\n",
       "      <th>2</th>\n",
       "      <td>38</td>\n",
       "      <td>No</td>\n",
       "    </tr>\n",
       "    <tr>\n",
       "      <th>3</th>\n",
       "      <td>43</td>\n",
       "      <td>Yes</td>\n",
       "    </tr>\n",
       "    <tr>\n",
       "      <th>4</th>\n",
       "      <td>43</td>\n",
       "      <td>Yes</td>\n",
       "    </tr>\n",
       "  </tbody>\n",
       "</table>\n",
       "</div>"
      ],
      "text/plain": [
       "  age diagnosis\n",
       "0  39       Yes\n",
       "1  29       Yes\n",
       "2  38        No\n",
       "3  43       Yes\n",
       "4  43       Yes"
      ]
     },
     "execution_count": 49,
     "metadata": {},
     "output_type": "execute_result"
    }
   ],
   "source": [
    "age_diagnosis.head()"
   ]
  },
  {
   "cell_type": "code",
   "execution_count": 50,
   "id": "42c02392-bb5a-46c1-9021-91160f517669",
   "metadata": {},
   "outputs": [],
   "source": [
    "age_diagnosis = age_diagnosis.replace({'-1': 'prefer not to say'})"
   ]
  },
  {
   "cell_type": "code",
   "execution_count": 51,
   "id": "7df4c95f-ddb9-4206-94c2-551300525000",
   "metadata": {},
   "outputs": [
    {
     "data": {
      "text/html": [
       "<div>\n",
       "<style scoped>\n",
       "    .dataframe tbody tr th:only-of-type {\n",
       "        vertical-align: middle;\n",
       "    }\n",
       "\n",
       "    .dataframe tbody tr th {\n",
       "        vertical-align: top;\n",
       "    }\n",
       "\n",
       "    .dataframe thead th {\n",
       "        text-align: right;\n",
       "    }\n",
       "</style>\n",
       "<table border=\"1\" class=\"dataframe\">\n",
       "  <thead>\n",
       "    <tr style=\"text-align: right;\">\n",
       "      <th></th>\n",
       "      <th>age</th>\n",
       "      <th>diagnosis</th>\n",
       "    </tr>\n",
       "  </thead>\n",
       "  <tbody>\n",
       "    <tr>\n",
       "      <th>559</th>\n",
       "      <td>323</td>\n",
       "      <td>No</td>\n",
       "    </tr>\n",
       "  </tbody>\n",
       "</table>\n",
       "</div>"
      ],
      "text/plain": [
       "     age diagnosis\n",
       "559  323        No"
      ]
     },
     "execution_count": 51,
     "metadata": {},
     "output_type": "execute_result"
    }
   ],
   "source": [
    "age_diagnosis[age_diagnosis['age'] == '323']"
   ]
  },
  {
   "cell_type": "code",
   "execution_count": 52,
   "id": "01f4cb62-0924-4a59-890b-90503fe75a2d",
   "metadata": {},
   "outputs": [],
   "source": [
    "age_diagnosis = age_diagnosis.replace({'323' : '32'})"
   ]
  },
  {
   "cell_type": "code",
   "execution_count": 53,
   "id": "b8555437-693f-4a7a-a909-af10c70ddb0d",
   "metadata": {},
   "outputs": [
    {
     "data": {
      "text/html": [
       "<div>\n",
       "<style scoped>\n",
       "    .dataframe tbody tr th:only-of-type {\n",
       "        vertical-align: middle;\n",
       "    }\n",
       "\n",
       "    .dataframe tbody tr th {\n",
       "        vertical-align: top;\n",
       "    }\n",
       "\n",
       "    .dataframe thead th {\n",
       "        text-align: right;\n",
       "    }\n",
       "</style>\n",
       "<table border=\"1\" class=\"dataframe\">\n",
       "  <thead>\n",
       "    <tr style=\"text-align: right;\">\n",
       "      <th></th>\n",
       "      <th>age</th>\n",
       "      <th>diagnosis</th>\n",
       "    </tr>\n",
       "  </thead>\n",
       "  <tbody>\n",
       "    <tr>\n",
       "      <th>650</th>\n",
       "      <td>3</td>\n",
       "      <td>Yes</td>\n",
       "    </tr>\n",
       "  </tbody>\n",
       "</table>\n",
       "</div>"
      ],
      "text/plain": [
       "    age diagnosis\n",
       "650   3       Yes"
      ]
     },
     "execution_count": 53,
     "metadata": {},
     "output_type": "execute_result"
    }
   ],
   "source": [
    "age_diagnosis[age_diagnosis['age'] == '3']"
   ]
  },
  {
   "cell_type": "code",
   "execution_count": 54,
   "id": "31955a2c-fe2b-448b-9709-7b959cb3fea8",
   "metadata": {},
   "outputs": [],
   "source": [
    "age_diagnosis.drop(650, inplace = True)"
   ]
  },
  {
   "cell_type": "code",
   "execution_count": 55,
   "id": "1f7a552c-b6d2-4985-85e9-9eb7b3cdc5b3",
   "metadata": {},
   "outputs": [],
   "source": [
    "counts_a = age_diagnosis.groupby(['age', 'diagnosis']).size().unstack(fill_value = 0)"
   ]
  },
  {
   "cell_type": "code",
   "execution_count": 56,
   "id": "012bfa34-d29c-48d9-bef5-a73d8801da02",
   "metadata": {},
   "outputs": [
    {
     "data": {
      "image/png": "[encoded data removed]",
      "text/plain": [
       "<Figure size 640x480 with 1 Axes>"
      ]
     },
     "metadata": {},
     "output_type": "display_data"
    }
   ],
   "source": [
    "fig, ax = plt.subplots()\n",
    "\n",
    "counts_a.plot(kind = 'bar', stacked = True, ax = ax)\n",
    "ax.set_title('Have you ever been diagnosied with mental illness by age')\n",
    "ax.set_ylabel('count')\n",
    "plt.show();"
   ]
  },
  {
   "cell_type": "markdown",
   "id": "515ce624-91ed-4778-a167-c1d56a30fada",
   "metadata": {},
   "source": [
    "### Gender"
   ]
  },
  {
   "cell_type": "code",
   "execution_count": 57,
   "id": "a1c409ab-510e-487c-84e9-4e433c77e671",
   "metadata": {},
   "outputs": [
    {
     "data": {
      "text/html": [
       "<div>\n",
       "<style scoped>\n",
       "    .dataframe tbody tr th:only-of-type {\n",
       "        vertical-align: middle;\n",
       "    }\n",
       "\n",
       "    .dataframe tbody tr th {\n",
       "        vertical-align: top;\n",
       "    }\n",
       "\n",
       "    .dataframe thead th {\n",
       "        text-align: right;\n",
       "    }\n",
       "</style>\n",
       "<table border=\"1\" class=\"dataframe\">\n",
       "  <thead>\n",
       "    <tr style=\"text-align: right;\">\n",
       "      <th></th>\n",
       "      <th>questionid</th>\n",
       "      <th>questiontext</th>\n",
       "    </tr>\n",
       "  </thead>\n",
       "  <tbody>\n",
       "    <tr>\n",
       "      <th>0</th>\n",
       "      <td>2</td>\n",
       "      <td>What is your gender?</td>\n",
       "    </tr>\n",
       "    <tr>\n",
       "      <th>1</th>\n",
       "      <td>34</td>\n",
       "      <td>Have you ever been diagnosed with a mental health disorder?</td>\n",
       "    </tr>\n",
       "    <tr>\n",
       "      <th>2</th>\n",
       "      <td>52</td>\n",
       "      <td>If you have been diagnosed or treated for a mental health disorder, do you ever reveal this to clients or business contacts?</td>\n",
       "    </tr>\n",
       "    <tr>\n",
       "      <th>3</th>\n",
       "      <td>53</td>\n",
       "      <td>If you have been diagnosed or treated for a mental health disorder, do you ever reveal this to coworkers or employees?</td>\n",
       "    </tr>\n",
       "    <tr>\n",
       "      <th>4</th>\n",
       "      <td>115</td>\n",
       "      <td>If yes, what condition(s) have you been diagnosed with?</td>\n",
       "    </tr>\n",
       "  </tbody>\n",
       "</table>\n",
       "</div>"
      ],
      "text/plain": [
       "   questionid  \\\n",
       "0           2   \n",
       "1          34   \n",
       "2          52   \n",
       "3          53   \n",
       "4         115   \n",
       "\n",
       "                                                                                                                   questiontext  \n",
       "0                                                                                                          What is your gender?  \n",
       "1                                                                   Have you ever been diagnosed with a mental health disorder?  \n",
       "2  If you have been diagnosed or treated for a mental health disorder, do you ever reveal this to clients or business contacts?  \n",
       "3        If you have been diagnosed or treated for a mental health disorder, do you ever reveal this to coworkers or employees?  \n",
       "4                                                                       If yes, what condition(s) have you been diagnosed with?  "
      ]
     },
     "execution_count": 57,
     "metadata": {},
     "output_type": "execute_result"
    }
   ],
   "source": [
    "pd.read_sql('''\n",
    "select questionid, questiontext\n",
    "from question\n",
    "where questiontext like '%gender%' or questiontext like '%diagnose%'\n",
    "''',conn)"
   ]
  },
  {
   "cell_type": "code",
   "execution_count": 58,
   "id": "bf932439-3442-43c8-8194-1cec8294129d",
   "metadata": {},
   "outputs": [],
   "source": [
    "# 2 34\n",
    "gender_diagnosis = pd.read_sql('''\n",
    "select a1.answertext as gender, a2.answertext as diagnosis\n",
    "from answer as a1\n",
    "left join answer as a2\n",
    "on a1.userid = a2.userid\n",
    "where a1.questionid = 2 and\n",
    "a2.questionid = 34 \n",
    "''',conn)"
   ]
  },
  {
   "cell_type": "code",
   "execution_count": 59,
   "id": "7854a80c-7133-46fe-b8b1-6587ef0b2f8f",
   "metadata": {},
   "outputs": [
    {
     "data": {
      "text/html": [
       "<div>\n",
       "<style scoped>\n",
       "    .dataframe tbody tr th:only-of-type {\n",
       "        vertical-align: middle;\n",
       "    }\n",
       "\n",
       "    .dataframe tbody tr th {\n",
       "        vertical-align: top;\n",
       "    }\n",
       "\n",
       "    .dataframe thead th {\n",
       "        text-align: right;\n",
       "    }\n",
       "</style>\n",
       "<table border=\"1\" class=\"dataframe\">\n",
       "  <thead>\n",
       "    <tr style=\"text-align: right;\">\n",
       "      <th></th>\n",
       "      <th>gender</th>\n",
       "      <th>diagnosis</th>\n",
       "    </tr>\n",
       "  </thead>\n",
       "  <tbody>\n",
       "    <tr>\n",
       "      <th>0</th>\n",
       "      <td>Male</td>\n",
       "      <td>Yes</td>\n",
       "    </tr>\n",
       "    <tr>\n",
       "      <th>1</th>\n",
       "      <td>Male</td>\n",
       "      <td>Yes</td>\n",
       "    </tr>\n",
       "    <tr>\n",
       "      <th>2</th>\n",
       "      <td>Male</td>\n",
       "      <td>No</td>\n",
       "    </tr>\n",
       "    <tr>\n",
       "      <th>3</th>\n",
       "      <td>Male</td>\n",
       "      <td>Yes</td>\n",
       "    </tr>\n",
       "    <tr>\n",
       "      <th>4</th>\n",
       "      <td>Female</td>\n",
       "      <td>Yes</td>\n",
       "    </tr>\n",
       "  </tbody>\n",
       "</table>\n",
       "</div>"
      ],
      "text/plain": [
       "   gender diagnosis\n",
       "0    Male       Yes\n",
       "1    Male       Yes\n",
       "2    Male        No\n",
       "3    Male       Yes\n",
       "4  Female       Yes"
      ]
     },
     "execution_count": 59,
     "metadata": {},
     "output_type": "execute_result"
    }
   ],
   "source": [
    "gender_diagnosis.head()"
   ]
  },
  {
   "cell_type": "code",
   "execution_count": 60,
   "id": "8e58cb6c-4281-44ce-b803-494cd057b318",
   "metadata": {},
   "outputs": [],
   "source": [
    "gender_diagnosis['gender'] = gender_diagnosis['gender'].apply(normalize_gender)"
   ]
  },
  {
   "cell_type": "code",
   "execution_count": 61,
   "id": "6681742e-52b5-4736-b3a4-c49b0050e288",
   "metadata": {},
   "outputs": [],
   "source": [
    "gender_diagnosis = gender_diagnosis.replace({'-1' : 'prefer not to say'})"
   ]
  },
  {
   "cell_type": "code",
   "execution_count": 62,
   "id": "31996250-63dd-4c52-8e7c-d4196b5be19c",
   "metadata": {},
   "outputs": [
    {
     "data": {
      "text/plain": [
       "gender             diagnosis        \n",
       "male               Yes                  826\n",
       "                   prefer not to say    628\n",
       "                   No                   599\n",
       "female             Yes                  457\n",
       "                   prefer not to say    197\n",
       "                   No                   123\n",
       "other              Yes                   51\n",
       "                   prefer not to say     28\n",
       "non-binary         Yes                   19\n",
       "trans              Yes                    9\n",
       "other              No                     7\n",
       "non-binary         prefer not to say      4\n",
       "prefer not to say  prefer not to say      3\n",
       "trans              prefer not to say      3\n",
       "non-binary         No                     2\n",
       "prefer not to say  Yes                    1\n",
       "trans              No                     1\n",
       "Name: count, dtype: int64"
      ]
     },
     "execution_count": 62,
     "metadata": {},
     "output_type": "execute_result"
    }
   ],
   "source": [
    "gender_diagnosis.value_counts()"
   ]
  },
  {
   "cell_type": "code",
   "execution_count": 63,
   "id": "5f5dc9d4-2b6a-4501-991f-b55fdeadaed0",
   "metadata": {},
   "outputs": [],
   "source": [
    "counts_g = gender_diagnosis.groupby(['gender', 'diagnosis']).size().unstack(fill_value = 0)"
   ]
  },
  {
   "cell_type": "code",
   "execution_count": 64,
   "id": "9681b169-6c54-4d7a-8345-86c0339ff116",
   "metadata": {},
   "outputs": [
    {
     "data": {
      "image/png": "[encoded data removed]",
      "text/plain": [
       "<Figure size 640x480 with 1 Axes>"
      ]
     },
     "metadata": {},
     "output_type": "display_data"
    }
   ],
   "source": [
    "fig, ax = plt.subplots()\n",
    "\n",
    "counts_g.plot(kind = 'barh', stacked = False, ax = ax)\n",
    "ax.set_title('Have you ever been diagnosied with mental illness by gender')\n",
    "ax.set_xlabel('count')\n",
    "plt.show();"
   ]
  },
  {
   "cell_type": "markdown",
   "id": "2dcafbda-d68f-4c17-b236-19fe2267df96",
   "metadata": {},
   "source": [
    "### Job Type"
   ]
  },
  {
   "cell_type": "code",
   "execution_count": 65,
   "id": "e888bdbe-22f8-4493-9883-db38d2032055",
   "metadata": {},
   "outputs": [
    {
     "data": {
      "text/html": [
       "<div>\n",
       "<style scoped>\n",
       "    .dataframe tbody tr th:only-of-type {\n",
       "        vertical-align: middle;\n",
       "    }\n",
       "\n",
       "    .dataframe tbody tr th {\n",
       "        vertical-align: top;\n",
       "    }\n",
       "\n",
       "    .dataframe thead th {\n",
       "        text-align: right;\n",
       "    }\n",
       "</style>\n",
       "<table border=\"1\" class=\"dataframe\">\n",
       "  <thead>\n",
       "    <tr style=\"text-align: right;\">\n",
       "      <th></th>\n",
       "      <th>questionid</th>\n",
       "      <th>questiontext</th>\n",
       "    </tr>\n",
       "  </thead>\n",
       "  <tbody>\n",
       "    <tr>\n",
       "      <th>0</th>\n",
       "      <td>34</td>\n",
       "      <td>Have you ever been diagnosed with a mental health disorder?</td>\n",
       "    </tr>\n",
       "    <tr>\n",
       "      <th>1</th>\n",
       "      <td>52</td>\n",
       "      <td>If you have been diagnosed or treated for a mental health disorder, do you ever reveal this to clients or business contacts?</td>\n",
       "    </tr>\n",
       "    <tr>\n",
       "      <th>2</th>\n",
       "      <td>53</td>\n",
       "      <td>If you have been diagnosed or treated for a mental health disorder, do you ever reveal this to coworkers or employees?</td>\n",
       "    </tr>\n",
       "    <tr>\n",
       "      <th>3</th>\n",
       "      <td>115</td>\n",
       "      <td>If yes, what condition(s) have you been diagnosed with?</td>\n",
       "    </tr>\n",
       "    <tr>\n",
       "      <th>4</th>\n",
       "      <td>117</td>\n",
       "      <td>Which of the following best describes your work position?</td>\n",
       "    </tr>\n",
       "  </tbody>\n",
       "</table>\n",
       "</div>"
      ],
      "text/plain": [
       "   questionid  \\\n",
       "0          34   \n",
       "1          52   \n",
       "2          53   \n",
       "3         115   \n",
       "4         117   \n",
       "\n",
       "                                                                                                                   questiontext  \n",
       "0                                                                   Have you ever been diagnosed with a mental health disorder?  \n",
       "1  If you have been diagnosed or treated for a mental health disorder, do you ever reveal this to clients or business contacts?  \n",
       "2        If you have been diagnosed or treated for a mental health disorder, do you ever reveal this to coworkers or employees?  \n",
       "3                                                                       If yes, what condition(s) have you been diagnosed with?  \n",
       "4                                                                     Which of the following best describes your work position?  "
      ]
     },
     "execution_count": 65,
     "metadata": {},
     "output_type": "execute_result"
    }
   ],
   "source": [
    "# 117 34\n",
    "pd.read_sql('''\n",
    "select questionid, questiontext\n",
    "from question\n",
    "where questiontext like '%position%' or questiontext like '%diagnose%'\n",
    "''',conn)"
   ]
  },
  {
   "cell_type": "code",
   "execution_count": 66,
   "id": "588fb486-f81f-4ea8-ae25-2cf26aa0d794",
   "metadata": {},
   "outputs": [],
   "source": [
    "work_diagnosis = pd.read_sql('''\n",
    "select a1.answertext as job, a2.answertext as diagnosis\n",
    "from answer as a1\n",
    "left join answer as a2\n",
    "on a1.userid = a2.userid\n",
    "where a1.questionid = 117 and\n",
    "a2.questionid = 34 \n",
    "''',conn)"
   ]
  },
  {
   "cell_type": "code",
   "execution_count": 67,
   "id": "fde73787-a25d-4a90-a181-e78ebcebc232",
   "metadata": {},
   "outputs": [
    {
     "data": {
      "text/plain": [
       "job                      diagnosis\n",
       "Back-end Developer       No           381\n",
       "                         Yes          356\n",
       "Front-end Developer      No           260\n",
       "                         Yes          242\n",
       "DevOps/SysAdmin          No           150\n",
       "Supervisor/Team Lead     No           141\n",
       "                         Yes          136\n",
       "DevOps/SysAdmin          Yes          132\n",
       "Other                    Yes          100\n",
       "                         No            87\n",
       "Support                  Yes           87\n",
       "Designer                 Yes           86\n",
       "One-person shop          Yes           82\n",
       "Support                  No            81\n",
       "One-person shop          No            79\n",
       "Dev Evangelist/Advocate  Yes           53\n",
       "Executive Leadership     No            52\n",
       "                         Yes           49\n",
       "Designer                 No            49\n",
       "Dev Evangelist/Advocate  No            46\n",
       "Sales                    Yes           16\n",
       "                         No            15\n",
       "HR                       Yes            7\n",
       "                         No             5\n",
       "Name: count, dtype: int64"
      ]
     },
     "execution_count": 67,
     "metadata": {},
     "output_type": "execute_result"
    }
   ],
   "source": [
    "work_diagnosis.value_counts()"
   ]
  },
  {
   "cell_type": "code",
   "execution_count": 68,
   "id": "b96a3480-30f8-476a-9d45-cd815509f231",
   "metadata": {},
   "outputs": [],
   "source": [
    "counts_j = work_diagnosis.groupby(['job', 'diagnosis']).size().unstack(fill_value = 0)"
   ]
  },
  {
   "cell_type": "code",
   "execution_count": 69,
   "id": "f0f49397-8867-4b8a-8a17-744f8945abaa",
   "metadata": {},
   "outputs": [
    {
     "data": {
      "image/png": "[encoded data removed]",
      "text/plain": [
       "<Figure size 640x480 with 1 Axes>"
      ]
     },
     "metadata": {},
     "output_type": "display_data"
    }
   ],
   "source": [
    "fig, ax = plt.subplots()\n",
    "\n",
    "counts_j.plot(kind = 'barh', stacked = False, ax = ax)\n",
    "ax.set_title('Have you ever been diagnosied with mental illness by job')\n",
    "ax.set_xlabel('count')\n",
    "plt.show();"
   ]
  }
 ],
 "metadata": {
  "kernelspec": {
   "display_name": "Python 3 (ipykernel)",
   "language": "python",
   "name": "python3"
  },
  "language_info": {
   "codemirror_mode": {
    "name": "ipython",
    "version": 3
   },
   "file_extension": ".py",
   "mimetype": "text/x-python",
   "name": "python",
   "nbconvert_exporter": "python",
   "pygments_lexer": "ipython3",
   "version": "3.12.7"
  }
 },
 "nbformat": 4,
 "nbformat_minor": 5
}
