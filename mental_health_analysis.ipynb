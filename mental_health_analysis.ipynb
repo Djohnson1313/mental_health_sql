{
 "cells": [
  {
   "cell_type": "markdown",
   "id": "a47d55da-aee1-426f-9c2c-05747400012d",
   "metadata": {},
   "source": [
    "# Mental Health in the Tech Industry Analysis"
   ]
  },
  {
   "cell_type": "markdown",
   "id": "ea82fdcc-b9a5-461e-a360-d0c5e6f4d83d",
   "metadata": {},
   "source": [
    "---\n",
    "## Sources and Links\n",
    "Kaggle dataset : [Mental Health in the Tech Industry](https://www.kaggle.com/datasets/anth7310/mental-health-in-the-tech-industry)\n",
    "\n",
    "Website used to create ERD : [dbdiagram.io](https://dbdiagram.io)"
   ]
  },
  {
   "cell_type": "markdown",
   "id": "4a4d022a-a836-404e-af6f-fa58d0bf8551",
   "metadata": {},
   "source": [
    "---\n",
    "# Overview"
   ]
  },
  {
   "cell_type": "markdown",
   "id": "8a8db639-2021-410e-a43a-ff0c603c6cd5",
   "metadata": {},
   "source": [
    "- title\n",
    "\n",
    "- sources and links\n",
    "\n",
    "- overview\n",
    "\n",
    "- imports\n",
    "\n",
    "- business understanding\n",
    "\n",
    "- data understanding\n",
    "\n",
    "- methodoligy\n",
    "\n",
    "- functions\n",
    "\n",
    "- exploritory data analisys"
   ]
  },
  {
   "cell_type": "markdown",
   "id": "7d51a764-d70b-4758-8d1a-c7015c86dc5f",
   "metadata": {},
   "source": [
    "---\n",
    "# Imports"
   ]
  },
  {
   "cell_type": "code",
   "execution_count": 1,
   "id": "fe10cad3-5ace-4563-998a-127ab5820854",
   "metadata": {},
   "outputs": [],
   "source": [
    "import pandas as pd\n",
    "import numpy as np\n",
    "import matplotlib.pyplot as plt\n",
    "import sqlite3\n",
    "from pandasql import sqldf"
   ]
  },
  {
   "cell_type": "markdown",
   "id": "3f1a2e5a-96b7-48dd-bc12-a7df671c794e",
   "metadata": {},
   "source": [
    "---\n",
    "# Business understanding"
   ]
  },
  {
   "cell_type": "markdown",
   "id": "d786d8a4-d7c6-4d03-8d5c-d93a2a381d69",
   "metadata": {},
   "source": [
    "---\n",
    "# Data Understanding"
   ]
  },
  {
   "cell_type": "markdown",
   "id": "5707a41c-b174-4f45-b7c6-d4e7aa0aba59",
   "metadata": {},
   "source": [
    "---\n",
    "# Methodoligy"
   ]
  },
  {
   "cell_type": "markdown",
   "id": "131e8a59-6edd-446d-b130-d726140611bc",
   "metadata": {},
   "source": [
    "---\n",
    "# Functions"
   ]
  },
  {
   "cell_type": "code",
   "execution_count": 2,
   "id": "2c6d29c5-875f-4f23-a60b-856d4d80c622",
   "metadata": {},
   "outputs": [],
   "source": [
    "def normalize_gender(gender):\n",
    "    g = gender.lower().strip()\n",
    "    if g in ['male', 'man', 'cis male', 'cis man', 'masculine']:\n",
    "        return 'male'\n",
    "    elif g in ['female', 'f', 'woman', 'cis female', 'cis woman', 'femanine']:\n",
    "        return 'female'\n",
    "    elif 'trans' in g:\n",
    "        return 'trans'\n",
    "    elif 'non-binary' in g or 'genderqueer' in g or 'genderfluid' in g:\n",
    "        return 'non-binary'\n",
    "    elif g in ['na', 'n/a', '', 'none', 'no']:\n",
    "        return 'prefer not to say'\n",
    "    else:\n",
    "        return 'other'"
   ]
  },
  {
   "cell_type": "markdown",
   "id": "99de578a-8ec1-4794-8254-44d3f08ad0ad",
   "metadata": {},
   "source": [
    "# Exploritory Data Analysis"
   ]
  },
  {
   "cell_type": "code",
   "execution_count": 3,
   "id": "fe5425ef-7922-4623-8624-2d1385eef25f",
   "metadata": {},
   "outputs": [],
   "source": [
    "conn = sqlite3.connect('mental_health.sqlite')"
   ]
  },
  {
   "cell_type": "code",
   "execution_count": 4,
   "id": "bf8d203f-433b-4c50-b66b-26d11ec97953",
   "metadata": {
    "scrolled": true
   },
   "outputs": [
    {
     "data": {
      "text/html": [
       "<div>\n",
       "<style scoped>\n",
       "    .dataframe tbody tr th:only-of-type {\n",
       "        vertical-align: middle;\n",
       "    }\n",
       "\n",
       "    .dataframe tbody tr th {\n",
       "        vertical-align: top;\n",
       "    }\n",
       "\n",
       "    .dataframe thead th {\n",
       "        text-align: right;\n",
       "    }\n",
       "</style>\n",
       "<table border=\"1\" class=\"dataframe\">\n",
       "  <thead>\n",
       "    <tr style=\"text-align: right;\">\n",
       "      <th></th>\n",
       "      <th>name</th>\n",
       "    </tr>\n",
       "  </thead>\n",
       "  <tbody>\n",
       "    <tr>\n",
       "      <th>0</th>\n",
       "      <td>Answer</td>\n",
       "    </tr>\n",
       "    <tr>\n",
       "      <th>1</th>\n",
       "      <td>Question</td>\n",
       "    </tr>\n",
       "    <tr>\n",
       "      <th>2</th>\n",
       "      <td>Survey</td>\n",
       "    </tr>\n",
       "  </tbody>\n",
       "</table>\n",
       "</div>"
      ],
      "text/plain": [
       "       name\n",
       "0    Answer\n",
       "1  Question\n",
       "2    Survey"
      ]
     },
     "execution_count": 4,
     "metadata": {},
     "output_type": "execute_result"
    }
   ],
   "source": [
    "tables_query = \"select name from sqlite_master where type = 'table';\"\n",
    "tables = pd.read_sql(tables_query, conn)\n",
    "tables"
   ]
  },
  {
   "cell_type": "markdown",
   "id": "d2e6eaf1-9e7e-4387-8a91-ffda754fb1f0",
   "metadata": {},
   "source": [
    "Here we have an `Entity Relationship Diagram` or `ERD` for short. This is a visual representation of how the tables in our SQL file are connected. Link above in the _sources and links_ section."
   ]
  },
  {
   "attachments": {
    "53cb1a69-c30a-4f54-98a4-3359700ba7a4.png": {
     "image/png": "[encoded data removed]"
    }
   },
   "cell_type": "markdown",
   "id": "493a3be4-d841-470a-b2f6-f29643bd1922",
   "metadata": {},
   "source": [
    "![mental health ERD.png](attachment:53cb1a69-c30a-4f54-98a4-3359700ba7a4.png)"
   ]
  },
  {
   "cell_type": "code",
   "execution_count": 5,
   "id": "f6607cb3-f95d-40ff-8d16-82ff514a88ca",
   "metadata": {},
   "outputs": [
    {
     "data": {
      "text/html": [
       "<div>\n",
       "<style scoped>\n",
       "    .dataframe tbody tr th:only-of-type {\n",
       "        vertical-align: middle;\n",
       "    }\n",
       "\n",
       "    .dataframe tbody tr th {\n",
       "        vertical-align: top;\n",
       "    }\n",
       "\n",
       "    .dataframe thead th {\n",
       "        text-align: right;\n",
       "    }\n",
       "</style>\n",
       "<table border=\"1\" class=\"dataframe\">\n",
       "  <thead>\n",
       "    <tr style=\"text-align: right;\">\n",
       "      <th></th>\n",
       "      <th>questiontext</th>\n",
       "      <th>questionid</th>\n",
       "    </tr>\n",
       "  </thead>\n",
       "  <tbody>\n",
       "    <tr>\n",
       "      <th>0</th>\n",
       "      <td>What is your age?</td>\n",
       "      <td>1</td>\n",
       "    </tr>\n",
       "    <tr>\n",
       "      <th>1</th>\n",
       "      <td>What is your gender?</td>\n",
       "      <td>2</td>\n",
       "    </tr>\n",
       "    <tr>\n",
       "      <th>2</th>\n",
       "      <td>What country do you live in?</td>\n",
       "      <td>3</td>\n",
       "    </tr>\n",
       "    <tr>\n",
       "      <th>3</th>\n",
       "      <td>If you live in the United States, which state ...</td>\n",
       "      <td>4</td>\n",
       "    </tr>\n",
       "    <tr>\n",
       "      <th>4</th>\n",
       "      <td>Are you self-employed?</td>\n",
       "      <td>5</td>\n",
       "    </tr>\n",
       "    <tr>\n",
       "      <th>...</th>\n",
       "      <td>...</td>\n",
       "      <td>...</td>\n",
       "    </tr>\n",
       "    <tr>\n",
       "      <th>100</th>\n",
       "      <td>Do you think that team members/co-workers woul...</td>\n",
       "      <td>114</td>\n",
       "    </tr>\n",
       "    <tr>\n",
       "      <th>101</th>\n",
       "      <td>If yes, what condition(s) have you been diagno...</td>\n",
       "      <td>115</td>\n",
       "    </tr>\n",
       "    <tr>\n",
       "      <th>102</th>\n",
       "      <td>If maybe, what condition(s) do you believe you...</td>\n",
       "      <td>116</td>\n",
       "    </tr>\n",
       "    <tr>\n",
       "      <th>103</th>\n",
       "      <td>Which of the following best describes your wor...</td>\n",
       "      <td>117</td>\n",
       "    </tr>\n",
       "    <tr>\n",
       "      <th>104</th>\n",
       "      <td>Do you work remotely?</td>\n",
       "      <td>118</td>\n",
       "    </tr>\n",
       "  </tbody>\n",
       "</table>\n",
       "<p>105 rows × 2 columns</p>\n",
       "</div>"
      ],
      "text/plain": [
       "                                          questiontext  questionid\n",
       "0                                    What is your age?           1\n",
       "1                                 What is your gender?           2\n",
       "2                         What country do you live in?           3\n",
       "3    If you live in the United States, which state ...           4\n",
       "4                               Are you self-employed?           5\n",
       "..                                                 ...         ...\n",
       "100  Do you think that team members/co-workers woul...         114\n",
       "101  If yes, what condition(s) have you been diagno...         115\n",
       "102  If maybe, what condition(s) do you believe you...         116\n",
       "103  Which of the following best describes your wor...         117\n",
       "104                              Do you work remotely?         118\n",
       "\n",
       "[105 rows x 2 columns]"
      ]
     },
     "execution_count": 5,
     "metadata": {},
     "output_type": "execute_result"
    }
   ],
   "source": [
    "pd.read_sql('''\n",
    "select *\n",
    "from Question;\n",
    "''', conn)"
   ]
  },
  {
   "cell_type": "code",
   "execution_count": 6,
   "id": "1380d32f-2110-448e-b4b6-8a25eab74162",
   "metadata": {},
   "outputs": [
    {
     "data": {
      "text/html": [
       "<div>\n",
       "<style scoped>\n",
       "    .dataframe tbody tr th:only-of-type {\n",
       "        vertical-align: middle;\n",
       "    }\n",
       "\n",
       "    .dataframe tbody tr th {\n",
       "        vertical-align: top;\n",
       "    }\n",
       "\n",
       "    .dataframe thead th {\n",
       "        text-align: right;\n",
       "    }\n",
       "</style>\n",
       "<table border=\"1\" class=\"dataframe\">\n",
       "  <thead>\n",
       "    <tr style=\"text-align: right;\">\n",
       "      <th></th>\n",
       "      <th>AnswerText</th>\n",
       "      <th>SurveyID</th>\n",
       "      <th>UserID</th>\n",
       "      <th>QuestionID</th>\n",
       "    </tr>\n",
       "  </thead>\n",
       "  <tbody>\n",
       "    <tr>\n",
       "      <th>0</th>\n",
       "      <td>37</td>\n",
       "      <td>2014</td>\n",
       "      <td>1</td>\n",
       "      <td>1</td>\n",
       "    </tr>\n",
       "    <tr>\n",
       "      <th>1</th>\n",
       "      <td>44</td>\n",
       "      <td>2014</td>\n",
       "      <td>2</td>\n",
       "      <td>1</td>\n",
       "    </tr>\n",
       "    <tr>\n",
       "      <th>2</th>\n",
       "      <td>32</td>\n",
       "      <td>2014</td>\n",
       "      <td>3</td>\n",
       "      <td>1</td>\n",
       "    </tr>\n",
       "    <tr>\n",
       "      <th>3</th>\n",
       "      <td>31</td>\n",
       "      <td>2014</td>\n",
       "      <td>4</td>\n",
       "      <td>1</td>\n",
       "    </tr>\n",
       "    <tr>\n",
       "      <th>4</th>\n",
       "      <td>31</td>\n",
       "      <td>2014</td>\n",
       "      <td>5</td>\n",
       "      <td>1</td>\n",
       "    </tr>\n",
       "    <tr>\n",
       "      <th>...</th>\n",
       "      <td>...</td>\n",
       "      <td>...</td>\n",
       "      <td>...</td>\n",
       "      <td>...</td>\n",
       "    </tr>\n",
       "    <tr>\n",
       "      <th>236893</th>\n",
       "      <td>Other</td>\n",
       "      <td>2016</td>\n",
       "      <td>2689</td>\n",
       "      <td>117</td>\n",
       "    </tr>\n",
       "    <tr>\n",
       "      <th>236894</th>\n",
       "      <td>Support</td>\n",
       "      <td>2016</td>\n",
       "      <td>2690</td>\n",
       "      <td>117</td>\n",
       "    </tr>\n",
       "    <tr>\n",
       "      <th>236895</th>\n",
       "      <td>Back-end Developer</td>\n",
       "      <td>2016</td>\n",
       "      <td>2691</td>\n",
       "      <td>117</td>\n",
       "    </tr>\n",
       "    <tr>\n",
       "      <th>236896</th>\n",
       "      <td>DevOps/SysAdmin</td>\n",
       "      <td>2016</td>\n",
       "      <td>2692</td>\n",
       "      <td>117</td>\n",
       "    </tr>\n",
       "    <tr>\n",
       "      <th>236897</th>\n",
       "      <td>Other</td>\n",
       "      <td>2016</td>\n",
       "      <td>2693</td>\n",
       "      <td>117</td>\n",
       "    </tr>\n",
       "  </tbody>\n",
       "</table>\n",
       "<p>236898 rows × 4 columns</p>\n",
       "</div>"
      ],
      "text/plain": [
       "                AnswerText  SurveyID  UserID  QuestionID\n",
       "0                       37      2014       1           1\n",
       "1                       44      2014       2           1\n",
       "2                       32      2014       3           1\n",
       "3                       31      2014       4           1\n",
       "4                       31      2014       5           1\n",
       "...                    ...       ...     ...         ...\n",
       "236893               Other      2016    2689         117\n",
       "236894             Support      2016    2690         117\n",
       "236895  Back-end Developer      2016    2691         117\n",
       "236896     DevOps/SysAdmin      2016    2692         117\n",
       "236897               Other      2016    2693         117\n",
       "\n",
       "[236898 rows x 4 columns]"
      ]
     },
     "execution_count": 6,
     "metadata": {},
     "output_type": "execute_result"
    }
   ],
   "source": [
    "pd.read_sql('''\n",
    "select *\n",
    "from Answer;\n",
    "''', conn)"
   ]
  },
  {
   "cell_type": "code",
   "execution_count": 7,
   "id": "07377497-4e0c-43cf-aa41-5b96a86df69a",
   "metadata": {},
   "outputs": [
    {
     "data": {
      "text/html": [
       "<div>\n",
       "<style scoped>\n",
       "    .dataframe tbody tr th:only-of-type {\n",
       "        vertical-align: middle;\n",
       "    }\n",
       "\n",
       "    .dataframe tbody tr th {\n",
       "        vertical-align: top;\n",
       "    }\n",
       "\n",
       "    .dataframe thead th {\n",
       "        text-align: right;\n",
       "    }\n",
       "</style>\n",
       "<table border=\"1\" class=\"dataframe\">\n",
       "  <thead>\n",
       "    <tr style=\"text-align: right;\">\n",
       "      <th></th>\n",
       "      <th>SurveyID</th>\n",
       "      <th>Description</th>\n",
       "    </tr>\n",
       "  </thead>\n",
       "  <tbody>\n",
       "    <tr>\n",
       "      <th>0</th>\n",
       "      <td>2014</td>\n",
       "      <td>mental health survey for 2014</td>\n",
       "    </tr>\n",
       "    <tr>\n",
       "      <th>1</th>\n",
       "      <td>2016</td>\n",
       "      <td>mental health survey for 2016</td>\n",
       "    </tr>\n",
       "    <tr>\n",
       "      <th>2</th>\n",
       "      <td>2017</td>\n",
       "      <td>mental health survey for 2017</td>\n",
       "    </tr>\n",
       "    <tr>\n",
       "      <th>3</th>\n",
       "      <td>2018</td>\n",
       "      <td>mental health survey for 2018</td>\n",
       "    </tr>\n",
       "    <tr>\n",
       "      <th>4</th>\n",
       "      <td>2019</td>\n",
       "      <td>mental health survey for 2019</td>\n",
       "    </tr>\n",
       "  </tbody>\n",
       "</table>\n",
       "</div>"
      ],
      "text/plain": [
       "   SurveyID                    Description\n",
       "0      2014  mental health survey for 2014\n",
       "1      2016  mental health survey for 2016\n",
       "2      2017  mental health survey for 2017\n",
       "3      2018  mental health survey for 2018\n",
       "4      2019  mental health survey for 2019"
      ]
     },
     "execution_count": 7,
     "metadata": {},
     "output_type": "execute_result"
    }
   ],
   "source": [
    "pd.read_sql('''\n",
    "select *\n",
    "from Survey;\n",
    "''', conn)"
   ]
  },
  {
   "cell_type": "code",
   "execution_count": 8,
   "id": "86acd00d-cf56-4d8b-9743-826a75d9bcf7",
   "metadata": {},
   "outputs": [
    {
     "data": {
      "text/html": [
       "<div>\n",
       "<style scoped>\n",
       "    .dataframe tbody tr th:only-of-type {\n",
       "        vertical-align: middle;\n",
       "    }\n",
       "\n",
       "    .dataframe tbody tr th {\n",
       "        vertical-align: top;\n",
       "    }\n",
       "\n",
       "    .dataframe thead th {\n",
       "        text-align: right;\n",
       "    }\n",
       "</style>\n",
       "<table border=\"1\" class=\"dataframe\">\n",
       "  <thead>\n",
       "    <tr style=\"text-align: right;\">\n",
       "      <th></th>\n",
       "      <th>answer</th>\n",
       "      <th>count</th>\n",
       "    </tr>\n",
       "  </thead>\n",
       "  <tbody>\n",
       "    <tr>\n",
       "      <th>0</th>\n",
       "      <td>Male</td>\n",
       "      <td>2830</td>\n",
       "    </tr>\n",
       "    <tr>\n",
       "      <th>1</th>\n",
       "      <td>Female</td>\n",
       "      <td>914</td>\n",
       "    </tr>\n",
       "    <tr>\n",
       "      <th>2</th>\n",
       "      <td>male</td>\n",
       "      <td>212</td>\n",
       "    </tr>\n",
       "    <tr>\n",
       "      <th>3</th>\n",
       "      <td>female</td>\n",
       "      <td>110</td>\n",
       "    </tr>\n",
       "    <tr>\n",
       "      <th>4</th>\n",
       "      <td>-1</td>\n",
       "      <td>24</td>\n",
       "    </tr>\n",
       "    <tr>\n",
       "      <th>...</th>\n",
       "      <td>...</td>\n",
       "      <td>...</td>\n",
       "    </tr>\n",
       "    <tr>\n",
       "      <th>96</th>\n",
       "      <td>Agender/genderfluid</td>\n",
       "      <td>1</td>\n",
       "    </tr>\n",
       "    <tr>\n",
       "      <th>97</th>\n",
       "      <td>Agender trans woman</td>\n",
       "      <td>1</td>\n",
       "    </tr>\n",
       "    <tr>\n",
       "      <th>98</th>\n",
       "      <td>AFAB</td>\n",
       "      <td>1</td>\n",
       "    </tr>\n",
       "    <tr>\n",
       "      <th>99</th>\n",
       "      <td>A little about you</td>\n",
       "      <td>1</td>\n",
       "    </tr>\n",
       "    <tr>\n",
       "      <th>100</th>\n",
       "      <td>43</td>\n",
       "      <td>1</td>\n",
       "    </tr>\n",
       "  </tbody>\n",
       "</table>\n",
       "<p>101 rows × 2 columns</p>\n",
       "</div>"
      ],
      "text/plain": [
       "                  answer  count\n",
       "0                   Male   2830\n",
       "1                 Female    914\n",
       "2                   male    212\n",
       "3                 female    110\n",
       "4                     -1     24\n",
       "..                   ...    ...\n",
       "96   Agender/genderfluid      1\n",
       "97   Agender trans woman      1\n",
       "98                  AFAB      1\n",
       "99    A little about you      1\n",
       "100                   43      1\n",
       "\n",
       "[101 rows x 2 columns]"
      ]
     },
     "execution_count": 8,
     "metadata": {},
     "output_type": "execute_result"
    }
   ],
   "source": [
    "pd.read_sql('''\n",
    "select answertext as answer, count(*) as count\n",
    "from answer as a\n",
    "left join question as q\n",
    "on a.questionid = q.questionid\n",
    "where questiontext = 'What is your gender?'\n",
    "group by a.answertext\n",
    "order by count desc\n",
    "''',conn)"
   ]
  },
  {
   "cell_type": "code",
   "execution_count": 9,
   "id": "81325b07-3298-4bb9-846a-3326fef7ccc9",
   "metadata": {},
   "outputs": [
    {
     "data": {
      "text/html": [
       "<div>\n",
       "<style scoped>\n",
       "    .dataframe tbody tr th:only-of-type {\n",
       "        vertical-align: middle;\n",
       "    }\n",
       "\n",
       "    .dataframe tbody tr th {\n",
       "        vertical-align: top;\n",
       "    }\n",
       "\n",
       "    .dataframe thead th {\n",
       "        text-align: right;\n",
       "    }\n",
       "</style>\n",
       "<table border=\"1\" class=\"dataframe\">\n",
       "  <thead>\n",
       "    <tr style=\"text-align: right;\">\n",
       "      <th></th>\n",
       "      <th>Description</th>\n",
       "    </tr>\n",
       "  </thead>\n",
       "  <tbody>\n",
       "    <tr>\n",
       "      <th>0</th>\n",
       "      <td>mental health survey for 2014</td>\n",
       "    </tr>\n",
       "    <tr>\n",
       "      <th>1</th>\n",
       "      <td>mental health survey for 2016</td>\n",
       "    </tr>\n",
       "    <tr>\n",
       "      <th>2</th>\n",
       "      <td>mental health survey for 2017</td>\n",
       "    </tr>\n",
       "    <tr>\n",
       "      <th>3</th>\n",
       "      <td>mental health survey for 2018</td>\n",
       "    </tr>\n",
       "    <tr>\n",
       "      <th>4</th>\n",
       "      <td>mental health survey for 2019</td>\n",
       "    </tr>\n",
       "  </tbody>\n",
       "</table>\n",
       "</div>"
      ],
      "text/plain": [
       "                     Description\n",
       "0  mental health survey for 2014\n",
       "1  mental health survey for 2016\n",
       "2  mental health survey for 2017\n",
       "3  mental health survey for 2018\n",
       "4  mental health survey for 2019"
      ]
     },
     "execution_count": 9,
     "metadata": {},
     "output_type": "execute_result"
    }
   ],
   "source": [
    "pd.read_sql('''\n",
    "select description\n",
    "from survey\n",
    "''',conn)"
   ]
  },
  {
   "cell_type": "markdown",
   "id": "d704952f-c723-455b-bf46-283d58ca86dc",
   "metadata": {},
   "source": [
    "---\n",
    "# Data Insight"
   ]
  },
  {
   "cell_type": "markdown",
   "id": "bf7f312d-c651-4afa-ae57-aeca228b439c",
   "metadata": {},
   "source": [
    "- whats the age spread and gender breakdown\n",
    "\n",
    "- what jobs and industries are represented in the data"
   ]
  },
  {
   "cell_type": "markdown",
   "id": "ab621f21-ea89-4cdf-8752-b5d1a2167c04",
   "metadata": {},
   "source": [
    "## Gender breakdown"
   ]
  },
  {
   "cell_type": "code",
   "execution_count": 10,
   "id": "9a847ef6-9bfa-4a0d-8491-64a0294aaf56",
   "metadata": {},
   "outputs": [
    {
     "data": {
      "text/html": [
       "<div>\n",
       "<style scoped>\n",
       "    .dataframe tbody tr th:only-of-type {\n",
       "        vertical-align: middle;\n",
       "    }\n",
       "\n",
       "    .dataframe tbody tr th {\n",
       "        vertical-align: top;\n",
       "    }\n",
       "\n",
       "    .dataframe thead th {\n",
       "        text-align: right;\n",
       "    }\n",
       "</style>\n",
       "<table border=\"1\" class=\"dataframe\">\n",
       "  <thead>\n",
       "    <tr style=\"text-align: right;\">\n",
       "      <th></th>\n",
       "      <th>AnswerText</th>\n",
       "      <th>count</th>\n",
       "    </tr>\n",
       "  </thead>\n",
       "  <tbody>\n",
       "    <tr>\n",
       "      <th>0</th>\n",
       "      <td>-1</td>\n",
       "      <td>24</td>\n",
       "    </tr>\n",
       "    <tr>\n",
       "      <th>1</th>\n",
       "      <td>43</td>\n",
       "      <td>1</td>\n",
       "    </tr>\n",
       "    <tr>\n",
       "      <th>2</th>\n",
       "      <td>A little about you</td>\n",
       "      <td>1</td>\n",
       "    </tr>\n",
       "    <tr>\n",
       "      <th>3</th>\n",
       "      <td>AFAB</td>\n",
       "      <td>1</td>\n",
       "    </tr>\n",
       "    <tr>\n",
       "      <th>4</th>\n",
       "      <td>Agender</td>\n",
       "      <td>4</td>\n",
       "    </tr>\n",
       "    <tr>\n",
       "      <th>...</th>\n",
       "      <td>...</td>\n",
       "      <td>...</td>\n",
       "    </tr>\n",
       "    <tr>\n",
       "      <th>96</th>\n",
       "      <td>something kinda male?</td>\n",
       "      <td>1</td>\n",
       "    </tr>\n",
       "    <tr>\n",
       "      <th>97</th>\n",
       "      <td>sometimes</td>\n",
       "      <td>1</td>\n",
       "    </tr>\n",
       "    <tr>\n",
       "      <th>98</th>\n",
       "      <td>trans woman</td>\n",
       "      <td>1</td>\n",
       "    </tr>\n",
       "    <tr>\n",
       "      <th>99</th>\n",
       "      <td>transgender</td>\n",
       "      <td>1</td>\n",
       "    </tr>\n",
       "    <tr>\n",
       "      <th>100</th>\n",
       "      <td>uhhhhhhhhh fem genderqueer?</td>\n",
       "      <td>1</td>\n",
       "    </tr>\n",
       "  </tbody>\n",
       "</table>\n",
       "<p>101 rows × 2 columns</p>\n",
       "</div>"
      ],
      "text/plain": [
       "                      AnswerText  count\n",
       "0                             -1     24\n",
       "1                             43      1\n",
       "2             A little about you      1\n",
       "3                           AFAB      1\n",
       "4                        Agender      4\n",
       "..                           ...    ...\n",
       "96         something kinda male?      1\n",
       "97                     sometimes      1\n",
       "98                   trans woman      1\n",
       "99                   transgender      1\n",
       "100  uhhhhhhhhh fem genderqueer?      1\n",
       "\n",
       "[101 rows x 2 columns]"
      ]
     },
     "execution_count": 10,
     "metadata": {},
     "output_type": "execute_result"
    }
   ],
   "source": [
    "pd.read_sql('''\n",
    "select answertext, count(answertext) as count\n",
    "from Question as q\n",
    "left join Answer as a\n",
    "on q.questionid = a.questionid\n",
    "where questiontext = 'What is your gender?'\n",
    "group by answertext\n",
    "''', conn)"
   ]
  },
  {
   "cell_type": "code",
   "execution_count": 11,
   "id": "f5a5f3be-1423-473a-94bf-04a991533aee",
   "metadata": {},
   "outputs": [],
   "source": [
    "df_gender_spread = pd.read_sql('''\n",
    "select answertext, count(answertext) as count\n",
    "from Question as q\n",
    "left join Answer as a\n",
    "on q.questionid = a.questionid\n",
    "where questiontext = 'What is your gender?'\n",
    "group by answertext\n",
    "''', conn)"
   ]
  },
  {
   "cell_type": "code",
   "execution_count": 12,
   "id": "de4b8a0f-1629-4ed7-8d4b-857729774e0b",
   "metadata": {
    "scrolled": true
   },
   "outputs": [
    {
     "name": "stdout",
     "output_type": "stream",
     "text": [
      "AnswerText\n",
      "-1                                                1\n",
      "Transitioned, M2F                                 1\n",
      "gender non-conforming woman                       1\n",
      "fm                                                1\n",
      "fluid                                             1\n",
      "femmina                                           1\n",
      "female-bodied; no feelings about gender           1\n",
      "female                                            1\n",
      "agender                                           1\n",
      "\\-                                                1\n",
      "Woman-identified                                  1\n",
      "Unicorn                                           1\n",
      "Transgender woman                                 1\n",
      "Other                                             1\n",
      "Transfeminine                                     1\n",
      "Trans-female                                      1\n",
      "Trans woman                                       1\n",
      "Trans non-binary/genderfluid                      1\n",
      "Trans man                                         1\n",
      "Trans female                                      1\n",
      "She/her/they/them                                 1\n",
      "SWM                                               1\n",
      "Questioning                                       1\n",
      "Queer                                             1\n",
      "genderfluid                                       1\n",
      "genderqueer                                       1\n",
      "genderqueer woman                                 1\n",
      "human                                             1\n",
      "transgender                                       1\n",
      "trans woman                                       1\n",
      "sometimes                                         1\n",
      "something kinda male?                             1\n",
      "rr                                                1\n",
      "queer/she/they                                    1\n",
      "queer                                             1\n",
      "p                                                 1\n",
      "ostensibly male, unsure what that really means    1\n",
      "none of your business                             1\n",
      "none                                              1\n",
      "nonbinary                                         1\n",
      "non-binary                                        1\n",
      "non binary                                        1\n",
      "nb masculine                                      1\n",
      "mtf                                               1\n",
      "masculino                                         1\n",
      "male/androgynous                                  1\n",
      "male leaning androgynous                          1\n",
      "male 9:1 female, roughly                          1\n",
      "male                                              1\n",
      "Other/Transfeminine                               1\n",
      "Ostensibly Male                                   1\n",
      "43                                                1\n",
      "Demiguy                                           1\n",
      "Genderfluid                                       1\n",
      "Fluid                                             1\n",
      "Female/gender non-binary.                         1\n",
      "Female-ish                                        1\n",
      "Female-identified                                 1\n",
      "Female or Multi-Gender Femme                      1\n",
      "Female assigned at birth                          1\n",
      "Female (trans)                                    1\n",
      "Female                                            1\n",
      "Enby                                              1\n",
      "Contextual                                        1\n",
      "None                                              1\n",
      "Cishet male                                       1\n",
      "Bigender                                          1\n",
      "Androgynous                                       1\n",
      "Androgyne                                         1\n",
      "All                                               1\n",
      "Agender/genderfluid                               1\n",
      "Agender trans woman                               1\n",
      "Agender                                           1\n",
      "AFAB                                              1\n",
      "A little about you                                1\n",
      "Genderfluid (born female)                         1\n",
      "Genderflux demi-girl                              1\n",
      "Genderqueer                                       1\n",
      "Genderqueer demigirl                              1\n",
      "Nonbinary/femme                                   1\n",
      "Nonbinary                                         1\n",
      "Non-binary and gender fluid                       1\n",
      "Non-binary                                        1\n",
      "Non binary                                        1\n",
      "Neuter                                            1\n",
      "Nah                                               1\n",
      "NB                                                1\n",
      "Masculine                                         1\n",
      "Male/genderqueer                                  1\n",
      "Male-ish                                          1\n",
      "Male (trans, FtM)                                 1\n",
      "Male (or female, or both)                         1\n",
      "Male                                              1\n",
      "MALE                                              1\n",
      "I have a penis                                    1\n",
      "I am a Wookie                                     1\n",
      "Human                                             1\n",
      "Guy (-ish) ^_^                                    1\n",
      "God King of the Valajar                           1\n",
      "Genderqueer/non-binary                            1\n",
      "uhhhhhhhhh fem genderqueer?                       1\n",
      "Name: count, dtype: int64\n"
     ]
    }
   ],
   "source": [
    "with pd.option_context('display.max_rows', None):\n",
    "    print(df_gender_spread['AnswerText'].value_counts())"
   ]
  },
  {
   "cell_type": "code",
   "execution_count": 13,
   "id": "af368fd2-7571-4b8a-832e-182048011fa8",
   "metadata": {},
   "outputs": [],
   "source": [
    "df_gender_spread['gender'] = df_gender_spread['AnswerText'].apply(normalize_gender)"
   ]
  },
  {
   "cell_type": "code",
   "execution_count": 14,
   "id": "9aa33089-0a5c-4b36-95be-7c0092553269",
   "metadata": {},
   "outputs": [
    {
     "data": {
      "text/plain": [
       "gender\n",
       "other                64\n",
       "non-binary           15\n",
       "trans                14\n",
       "male                  4\n",
       "female                2\n",
       "prefer not to say     2\n",
       "Name: count, dtype: int64"
      ]
     },
     "execution_count": 14,
     "metadata": {},
     "output_type": "execute_result"
    }
   ],
   "source": [
    "df_gender_spread['gender'].value_counts()"
   ]
  },
  {
   "cell_type": "code",
   "execution_count": 15,
   "id": "4c7b3672-a71a-479d-a0de-d7c5d6122a13",
   "metadata": {},
   "outputs": [
    {
     "data": {
      "image/png": "[encoded data removed]",
      "text/plain": [
       "<Figure size 640x480 with 1 Axes>"
      ]
     },
     "metadata": {},
     "output_type": "display_data"
    }
   ],
   "source": [
    "df_gender_spread['gender'].value_counts().plot(kind = 'barh')\n",
    "plt.show();"
   ]
  },
  {
   "cell_type": "markdown",
   "id": "ef45a7d3-93a4-4c1f-b394-8962332d97b9",
   "metadata": {},
   "source": [
    "## Age Spread"
   ]
  },
  {
   "cell_type": "code",
   "execution_count": 16,
   "id": "7bcd99ea-c167-49e4-9493-bad2a8073714",
   "metadata": {},
   "outputs": [
    {
     "data": {
      "text/html": [
       "<div>\n",
       "<style scoped>\n",
       "    .dataframe tbody tr th:only-of-type {\n",
       "        vertical-align: middle;\n",
       "    }\n",
       "\n",
       "    .dataframe tbody tr th {\n",
       "        vertical-align: top;\n",
       "    }\n",
       "\n",
       "    .dataframe thead th {\n",
       "        text-align: right;\n",
       "    }\n",
       "</style>\n",
       "<table border=\"1\" class=\"dataframe\">\n",
       "  <thead>\n",
       "    <tr style=\"text-align: right;\">\n",
       "      <th></th>\n",
       "      <th>AnswerText</th>\n",
       "    </tr>\n",
       "  </thead>\n",
       "  <tbody>\n",
       "    <tr>\n",
       "      <th>0</th>\n",
       "      <td>-1</td>\n",
       "    </tr>\n",
       "    <tr>\n",
       "      <th>1</th>\n",
       "      <td>-29</td>\n",
       "    </tr>\n",
       "    <tr>\n",
       "      <th>2</th>\n",
       "      <td>0</td>\n",
       "    </tr>\n",
       "    <tr>\n",
       "      <th>3</th>\n",
       "      <td>11</td>\n",
       "    </tr>\n",
       "    <tr>\n",
       "      <th>4</th>\n",
       "      <td>15</td>\n",
       "    </tr>\n",
       "    <tr>\n",
       "      <th>...</th>\n",
       "      <td>...</td>\n",
       "    </tr>\n",
       "    <tr>\n",
       "      <th>60</th>\n",
       "      <td>70</td>\n",
       "    </tr>\n",
       "    <tr>\n",
       "      <th>61</th>\n",
       "      <td>72</td>\n",
       "    </tr>\n",
       "    <tr>\n",
       "      <th>62</th>\n",
       "      <td>74</td>\n",
       "    </tr>\n",
       "    <tr>\n",
       "      <th>63</th>\n",
       "      <td>8</td>\n",
       "    </tr>\n",
       "    <tr>\n",
       "      <th>64</th>\n",
       "      <td>99</td>\n",
       "    </tr>\n",
       "  </tbody>\n",
       "</table>\n",
       "<p>65 rows × 1 columns</p>\n",
       "</div>"
      ],
      "text/plain": [
       "   AnswerText\n",
       "0          -1\n",
       "1         -29\n",
       "2           0\n",
       "3          11\n",
       "4          15\n",
       "..        ...\n",
       "60         70\n",
       "61         72\n",
       "62         74\n",
       "63          8\n",
       "64         99\n",
       "\n",
       "[65 rows x 1 columns]"
      ]
     },
     "execution_count": 16,
     "metadata": {},
     "output_type": "execute_result"
    }
   ],
   "source": [
    "pd.read_sql('''\n",
    "select answertext\n",
    "from answer as a \n",
    "left join question as q \n",
    "on a.questionid = q.questionid\n",
    "where questiontext = 'What is your age?'\n",
    "group by answertext;\n",
    "''', conn)"
   ]
  },
  {
   "cell_type": "code",
   "execution_count": 17,
   "id": "a411cba2-083f-498c-bebf-02fa00dcdd0b",
   "metadata": {},
   "outputs": [],
   "source": [
    "df_age_spread = pd.read_sql('''\n",
    "select cast(answertext as integer) as age\n",
    "from answer as a \n",
    "left join question as q \n",
    "on a.questionid = q.questionid\n",
    "where q.questiontext = 'What is your age?' and\n",
    "age between 1 and 80\n",
    "group by age\n",
    "order by age asc;\n",
    "''', conn)"
   ]
  },
  {
   "cell_type": "code",
   "execution_count": 18,
   "id": "2ef21f73-b9bd-4481-9241-388db1061a3d",
   "metadata": {},
   "outputs": [
    {
     "data": {
      "image/png": "[encoded data removed]",
      "text/plain": [
       "<Figure size 640x480 with 1 Axes>"
      ]
     },
     "metadata": {},
     "output_type": "display_data"
    }
   ],
   "source": [
    "fig, ax = plt.subplots()\n",
    "\n",
    "df_age_spread['age'].astype(int).plot(kind = 'hist')\n",
    "avg_age = round(sum(df_age_spread['age']) / len(df_age_spread['age']), 1)\n",
    "\n",
    "ax.axvline(avg_age, color = 'r')\n",
    "ax.set_xlabel('Age')\n",
    "ax.set_title('Age Ranges')\n",
    "plt.legend(['Age','Average Age'])\n",
    "plt.show();"
   ]
  },
  {
   "cell_type": "code",
   "execution_count": 19,
   "id": "9dcf161b-b994-48ad-8a53-a1d4227e4eb9",
   "metadata": {},
   "outputs": [
    {
     "data": {
      "text/plain": [
       "40.7"
      ]
     },
     "execution_count": 19,
     "metadata": {},
     "output_type": "execute_result"
    }
   ],
   "source": [
    "avg_age"
   ]
  },
  {
   "cell_type": "code",
   "execution_count": 20,
   "id": "697793b1-2fd9-4aef-80c7-1fd1b3e48382",
   "metadata": {},
   "outputs": [
    {
     "name": "stdout",
     "output_type": "stream",
     "text": [
      "25% of ages are below 26.5\n",
      "50% of ages are below 41.0\n",
      "75% of ages are below 55.5\n"
     ]
    }
   ],
   "source": [
    "print(f'25% of ages are below {np.percentile(df_age_spread['age'], 25)}')\n",
    "print(f'50% of ages are below {np.percentile(df_age_spread['age'], 50)}')\n",
    "print(f'75% of ages are below {np.percentile(df_age_spread['age'], 75)}')"
   ]
  },
  {
   "cell_type": "code",
   "execution_count": 21,
   "id": "9acb653d-a197-41f3-949b-96bb0ce7e4c4",
   "metadata": {},
   "outputs": [
    {
     "data": {
      "image/png": "[encoded data removed]",
      "text/plain": [
       "<Figure size 640x480 with 1 Axes>"
      ]
     },
     "metadata": {},
     "output_type": "display_data"
    }
   ],
   "source": [
    "fig, ax = plt.subplots()\n",
    "\n",
    "df_age_spread['age'].plot(kind = 'box', vert = False)\n",
    "\n",
    "ax.set_title('Age Percentile Distribution')\n",
    "plt.show();"
   ]
  },
  {
   "cell_type": "markdown",
   "id": "05bd3570-e237-452b-904e-7b3f9ec01a12",
   "metadata": {},
   "source": [
    "---\n",
    "## Industry Representation"
   ]
  },
  {
   "cell_type": "code",
   "execution_count": 22,
   "id": "84f1bc02-7ce9-45cd-ad5f-a2c207c5fdfa",
   "metadata": {},
   "outputs": [],
   "source": [
    "df_question = pd.read_sql('''\n",
    "select questiontext\n",
    "from question as q\n",
    "''',conn)"
   ]
  },
  {
   "cell_type": "code",
   "execution_count": 23,
   "id": "afe819a8-6bed-4122-999c-4e5e8c07c502",
   "metadata": {
    "scrolled": true
   },
   "outputs": [
    {
     "name": "stdout",
     "output_type": "stream",
     "text": [
      "(0, questiontext    What is your age?\n",
      "Name: 0, dtype: object)\n",
      "(1, questiontext    What is your gender?\n",
      "Name: 1, dtype: object)\n",
      "(2, questiontext    What country do you live in?\n",
      "Name: 2, dtype: object)\n",
      "(3, questiontext    If you live in the United States, which state or territory do you live in?\n",
      "Name: 3, dtype: object)\n",
      "(4, questiontext    Are you self-employed?\n",
      "Name: 4, dtype: object)\n",
      "(5, questiontext    Do you have a family history of mental illness?\n",
      "Name: 5, dtype: object)\n",
      "(6, questiontext    Have you ever sought treatment for a mental health disorder from a mental health professional?\n",
      "Name: 6, dtype: object)\n",
      "(7, questiontext    How many employees does your company or organization have?\n",
      "Name: 7, dtype: object)\n",
      "(8, questiontext    Is your employer primarily a tech company/organization?\n",
      "Name: 8, dtype: object)\n",
      "(9, questiontext    Does your employer provide mental health benefits as part of healthcare coverage?\n",
      "Name: 9, dtype: object)\n",
      "(10, questiontext    Is your anonymity protected if you choose to take advantage of mental health or substance abuse treatment resources provided by your employer?\n",
      "Name: 10, dtype: object)\n",
      "(11, questiontext    Would you bring up a mental health issue with a potential employer in an interview?\n",
      "Name: 11, dtype: object)\n",
      "(12, questiontext    Is your primary role within your company related to tech/IT?\n",
      "Name: 12, dtype: object)\n",
      "(13, questiontext    Do you know the options for mental health care available under your employer-provided health coverage?\n",
      "Name: 13, dtype: object)\n",
      "(14, questiontext    Has your employer ever formally discussed mental health (for example, as part of a wellness campaign or other official communication)?\n",
      "Name: 14, dtype: object)\n",
      "(15, questiontext    Does your employer offer resources to learn more about mental health disorders and options for seeking help?\n",
      "Name: 15, dtype: object)\n",
      "(16, questiontext    If a mental health issue prompted you to request a medical leave from work, how easy or difficult would it be to ask for that leave?\n",
      "Name: 16, dtype: object)\n",
      "(17, questiontext    Would you feel comfortable discussing a mental health issue with your coworkers?\n",
      "Name: 17, dtype: object)\n",
      "(18, questiontext    Would you feel comfortable discussing a mental health issue with your direct supervisor(s)?\n",
      "Name: 18, dtype: object)\n",
      "(19, questiontext    Do you have medical coverage (private insurance or state-provided) that includes treatment of mental health disorders?\n",
      "Name: 19, dtype: object)\n",
      "(20, questiontext    Do you know local or online resources to seek help for a mental health issue?\n",
      "Name: 20, dtype: object)\n",
      "(21, questiontext    Do you have previous employers?\n",
      "Name: 21, dtype: object)\n",
      "(22, questiontext    Have your previous employers provided mental health benefits?\n",
      "Name: 22, dtype: object)\n",
      "(23, questiontext    Were you aware of the options for mental health care provided by your previous employers?\n",
      "Name: 23, dtype: object)\n",
      "(24, questiontext    Did your previous employers ever formally discuss mental health (as part of a wellness campaign or other official communication)?\n",
      "Name: 24, dtype: object)\n",
      "(25, questiontext    Did your previous employers provide resources to learn more about mental health disorders and how to seek help?\n",
      "Name: 25, dtype: object)\n",
      "(26, questiontext    Was your anonymity protected if you chose to take advantage of mental health or substance abuse treatment resources with previous employers?\n",
      "Name: 26, dtype: object)\n",
      "(27, questiontext    Would you have been willing to discuss your mental health with your direct supervisor(s)?\n",
      "Name: 27, dtype: object)\n",
      "(28, questiontext    Would you be willing to bring up a physical health issue with a potential employer in an interview?\n",
      "Name: 28, dtype: object)\n",
      "(29, questiontext    How willing would you be to share with friends and family that you have a mental illness?\n",
      "Name: 29, dtype: object)\n",
      "(30, questiontext    Have your observations of how another individual who discussed a mental health disorder made you less likely to reveal a mental health issue yourself in your current workplace?\n",
      "Name: 30, dtype: object)\n",
      "(31, questiontext    Have you had a mental health disorder in the past?\n",
      "Name: 31, dtype: object)\n",
      "(32, questiontext    Do you currently have a mental health disorder?\n",
      "Name: 32, dtype: object)\n",
      "(33, questiontext    Have you ever been diagnosed with a mental health disorder?\n",
      "Name: 33, dtype: object)\n",
      "(34, questiontext    If you have a mental health disorder, how often do you feel that it interferes with your work when being treated effectively?\n",
      "Name: 34, dtype: object)\n",
      "(35, questiontext    If you have a mental health disorder, how often do you feel that it interferes with your work when not being treated effectively (i.e., when you are experiencing symptoms)?\n",
      "Name: 35, dtype: object)\n",
      "(36, questiontext    What country do you work in?\n",
      "Name: 36, dtype: object)\n",
      "(37, questiontext    What US state or territory do you work in?\n",
      "Name: 37, dtype: object)\n",
      "(38, questiontext    If you have been diagnosed or treated for a mental health disorder, do you ever reveal this to clients or business contacts?\n",
      "Name: 38, dtype: object)\n",
      "(39, questiontext    If you have been diagnosed or treated for a mental health disorder, do you ever reveal this to coworkers or employees?\n",
      "Name: 39, dtype: object)\n",
      "(40, questiontext    Do you believe your productivity is ever affected by a mental health issue?\n",
      "Name: 40, dtype: object)\n",
      "(41, questiontext    If yes, what percentage of your work time (time performing primary or secondary job functions) is affected by a mental health issue?\n",
      "Name: 41, dtype: object)\n",
      "(42, questiontext    Have you observed or experienced an unsupportive or badly handled response to a mental health issue in your current or previous workplace?\n",
      "Name: 42, dtype: object)\n",
      "(43, questiontext    Would you feel more comfortable talking to your coworkers about your physical health or your mental health?\n",
      "Name: 43, dtype: object)\n",
      "(44, questiontext    Have you ever discussed your mental health with your employer?\n",
      "Name: 44, dtype: object)\n",
      "(45, questiontext    Describe the conversation you had with your employer about your mental health, including their reactions and what actions were taken to address your mental health issue/questions.\n",
      "Name: 45, dtype: object)\n",
      "(46, questiontext    Have you ever discussed your mental health with coworkers?\n",
      "Name: 46, dtype: object)\n",
      "(47, questiontext    Describe the conversation with coworkers you had about your mental health including their reactions.\n",
      "Name: 47, dtype: object)\n",
      "(48, questiontext    Have you ever had a coworker discuss their or another coworker's mental health with you?\n",
      "Name: 48, dtype: object)\n",
      "(49, questiontext    Describe the conversation your coworker had with you about their mental health (please do not use names).\n",
      "Name: 49, dtype: object)\n",
      "(50, questiontext    Overall, how much importance does your employer place on physical health?\n",
      "Name: 50, dtype: object)\n",
      "(51, questiontext    Overall, how much importance does your employer place on mental health?\n",
      "Name: 51, dtype: object)\n",
      "(52, questiontext    If you have revealed a mental health disorder to a client or business contact, how has this affected you or the relationship?\n",
      "Name: 52, dtype: object)\n",
      "(53, questiontext    If you have revealed a mental health disorder to a coworker or employee, how has this impacted you or the relationship?\n",
      "Name: 53, dtype: object)\n",
      "(54, questiontext    Was your employer primarily a tech company/organization?\n",
      "Name: 54, dtype: object)\n",
      "(55, questiontext    Would you have felt more comfortable talking to your previous employer about your physical health or your mental health?\n",
      "Name: 55, dtype: object)\n",
      "(56, questiontext    Did you ever discuss your mental health with your previous employer?\n",
      "Name: 56, dtype: object)\n",
      "(57, questiontext    Describe the conversation you had with your previous employer about your mental health, including their reactions and actions taken to address your mental health issue/questions.\n",
      "Name: 57, dtype: object)\n",
      "(58, questiontext    Did you ever discuss your mental health with a previous coworker(s)?\n",
      "Name: 58, dtype: object)\n",
      "(59, questiontext    Describe the conversation you had with your previous coworkers about your mental health including their reactions.\n",
      "Name: 59, dtype: object)\n",
      "(60, questiontext    Did you ever have a previous coworker discuss their or another coworker's mental health with you?\n",
      "Name: 60, dtype: object)\n",
      "(61, questiontext    Describe the conversation your coworker had with you about their mental health (please do not use names)..1\n",
      "Name: 61, dtype: object)\n",
      "(62, questiontext    Overall, how much importance did your previous employer place on physical health?\n",
      "Name: 62, dtype: object)\n",
      "(63, questiontext    Overall, how much importance did your previous employer place on mental health?\n",
      "Name: 63, dtype: object)\n",
      "(64, questiontext    Are you openly identified at work as a person with a mental health issue?\n",
      "Name: 64, dtype: object)\n",
      "(65, questiontext    Has being identified as a person with a mental health issue affected your career?\n",
      "Name: 65, dtype: object)\n",
      "(66, questiontext    How has it affected your career?\n",
      "Name: 66, dtype: object)\n",
      "(67, questiontext    If they knew you suffered from a mental health disorder, how do you think that your team members/co-workers would react?\n",
      "Name: 67, dtype: object)\n",
      "(68, questiontext    Describe the circumstances of the badly handled or unsupportive response.\n",
      "Name: 68, dtype: object)\n",
      "(69, questiontext    Have you observed or experienced supportive or well handled response to a mental health issue in your current or previous workplace?\n",
      "Name: 69, dtype: object)\n",
      "(70, questiontext    Describe the circumstances of the supportive or well handled response.\n",
      "Name: 70, dtype: object)\n",
      "(71, questiontext    Overall, how well do you think the tech industry supports employees with mental health issues?\n",
      "Name: 71, dtype: object)\n",
      "(72, questiontext    Briefly describe what you think the industry as a whole and/or employers could do to improve mental health support for employees.\n",
      "Name: 72, dtype: object)\n",
      "(73, questiontext    If there is anything else you would like to tell us that has not been covered by the survey questions, please use this space to do so.\n",
      "Name: 73, dtype: object)\n",
      "(74, questiontext    Would you be willing to talk to one of us more extensively about your experiences with mental health issues in the tech industry? (Note that all interview responses would be used _anonymously_ and only with your permission.)\n",
      "Name: 74, dtype: object)\n",
      "(75, questiontext    What is your race?\n",
      "Name: 75, dtype: object)\n",
      "(76, questiontext    Do you think that discussing a physical health issue with your employer would have negative consequences?\n",
      "Name: 76, dtype: object)\n",
      "(77, questiontext    Do you feel that your employer takes mental health as seriously as physical health?\n",
      "Name: 77, dtype: object)\n",
      "(78, questiontext    If you have a mental health condition, do you feel that it interferes with your work?\n",
      "Name: 78, dtype: object)\n",
      "(79, questiontext    Do you work remotely (outside of an office) at least 50% of the time?\n",
      "Name: 79, dtype: object)\n",
      "(80, questiontext    Do you know the options for mental health care your employer provides?\n",
      "Name: 80, dtype: object)\n",
      "(81, questiontext    Has your employer ever discussed mental health as part of an employee wellness program?\n",
      "Name: 81, dtype: object)\n",
      "(82, questiontext    Does your employer provide resources to learn more about mental health issues and how to seek help?\n",
      "Name: 82, dtype: object)\n",
      "(83, questiontext    How easy is it for you to take medical leave for a mental health condition?\n",
      "Name: 83, dtype: object)\n",
      "(84, questiontext    Do you think that discussing a mental health issue with your employer would have negative consequences?\n",
      "Name: 84, dtype: object)\n",
      "(85, questiontext    Would you be willing to discuss a mental health issue with your coworkers?\n",
      "Name: 85, dtype: object)\n",
      "(86, questiontext    Would you be willing to discuss a mental health issue with your direct supervisor(s)?\n",
      "Name: 86, dtype: object)\n",
      "(87, questiontext    Would you bring up a physical health issue with a potential employer in an interview?\n",
      "Name: 87, dtype: object)\n",
      "(88, questiontext    Have you heard of or observed negative consequences for coworkers with mental health conditions in your workplace?\n",
      "Name: 88, dtype: object)\n",
      "(89, questiontext    Any additional notes or comments\n",
      "Name: 89, dtype: object)\n",
      "(90, questiontext    Do you think that discussing a mental health disorder with your employer would have negative consequences?\n",
      "Name: 90, dtype: object)\n",
      "(91, questiontext    Have you heard of or observed negative consequences for co-workers who have been open about mental health issues in your workplace?\n",
      "Name: 91, dtype: object)\n",
      "(92, questiontext    If you have revealed a mental health issue to a client or business contact, do you believe this has impacted you negatively?\n",
      "Name: 92, dtype: object)\n",
      "(93, questiontext    If you have revealed a mental health issue to a coworker or employee, do you believe this has impacted you negatively?\n",
      "Name: 93, dtype: object)\n",
      "(94, questiontext    Do you think that discussing a mental health disorder with previous employers would have negative consequences?\n",
      "Name: 94, dtype: object)\n",
      "(95, questiontext    Do you think that discussing a physical health issue with previous employers would have negative consequences?\n",
      "Name: 95, dtype: object)\n",
      "(96, questiontext    Would you have been willing to discuss a mental health issue with your previous co-workers?\n",
      "Name: 96, dtype: object)\n",
      "(97, questiontext    Did you feel that your previous employers took mental health as seriously as physical health?\n",
      "Name: 97, dtype: object)\n",
      "(98, questiontext    Did you hear of or observe negative consequences for co-workers with mental health issues in your previous workplaces?\n",
      "Name: 98, dtype: object)\n",
      "(99, questiontext    Do you feel that being identified as a person with a mental health issue would hurt your career?\n",
      "Name: 99, dtype: object)\n",
      "(100, questiontext    Do you think that team members/co-workers would view you more negatively if they knew you suffered from a mental health issue?\n",
      "Name: 100, dtype: object)\n",
      "(101, questiontext    If yes, what condition(s) have you been diagnosed with?\n",
      "Name: 101, dtype: object)\n",
      "(102, questiontext    If maybe, what condition(s) do you believe you have?\n",
      "Name: 102, dtype: object)\n",
      "(103, questiontext    Which of the following best describes your work position?\n",
      "Name: 103, dtype: object)\n",
      "(104, questiontext    Do you work remotely?\n",
      "Name: 104, dtype: object)\n"
     ]
    }
   ],
   "source": [
    "#pd.set_option('display.max_colwidth', None)\n",
    "#for f in df_question.iterrows():\n",
    "#    print(f)"
   ]
  },
  {
   "cell_type": "code",
   "execution_count": 24,
   "id": "5f81279b-0a34-4910-8ca0-8a446b249c94",
   "metadata": {},
   "outputs": [
    {
     "data": {
      "text/html": [
       "<div>\n",
       "<style scoped>\n",
       "    .dataframe tbody tr th:only-of-type {\n",
       "        vertical-align: middle;\n",
       "    }\n",
       "\n",
       "    .dataframe tbody tr th {\n",
       "        vertical-align: top;\n",
       "    }\n",
       "\n",
       "    .dataframe thead th {\n",
       "        text-align: right;\n",
       "    }\n",
       "</style>\n",
       "<table border=\"1\" class=\"dataframe\">\n",
       "  <thead>\n",
       "    <tr style=\"text-align: right;\">\n",
       "      <th></th>\n",
       "      <th>questiontext</th>\n",
       "    </tr>\n",
       "  </thead>\n",
       "  <tbody>\n",
       "    <tr>\n",
       "      <th>0</th>\n",
       "      <td>Is your employer primarily a tech company/organization?</td>\n",
       "    </tr>\n",
       "  </tbody>\n",
       "</table>\n",
       "</div>"
      ],
      "text/plain": [
       "                                              questiontext\n",
       "0  Is your employer primarily a tech company/organization?"
      ]
     },
     "execution_count": 24,
     "metadata": {},
     "output_type": "execute_result"
    }
   ],
   "source": [
    "pd.read_sql('''\n",
    "select questiontext\n",
    "from question as q\n",
    "where questionid = 9\n",
    "''',conn)"
   ]
  },
  {
   "cell_type": "code",
   "execution_count": 25,
   "id": "7bfd48fa-a3fb-4e39-9949-53a6bb18303f",
   "metadata": {},
   "outputs": [
    {
     "data": {
      "text/html": [
       "<div>\n",
       "<style scoped>\n",
       "    .dataframe tbody tr th:only-of-type {\n",
       "        vertical-align: middle;\n",
       "    }\n",
       "\n",
       "    .dataframe tbody tr th {\n",
       "        vertical-align: top;\n",
       "    }\n",
       "\n",
       "    .dataframe thead th {\n",
       "        text-align: right;\n",
       "    }\n",
       "</style>\n",
       "<table border=\"1\" class=\"dataframe\">\n",
       "  <thead>\n",
       "    <tr style=\"text-align: right;\">\n",
       "      <th></th>\n",
       "      <th>AnswerText</th>\n",
       "      <th>count</th>\n",
       "    </tr>\n",
       "  </thead>\n",
       "  <tbody>\n",
       "    <tr>\n",
       "      <th>0</th>\n",
       "      <td>-1</td>\n",
       "      <td>504</td>\n",
       "    </tr>\n",
       "    <tr>\n",
       "      <th>1</th>\n",
       "      <td>0</td>\n",
       "      <td>826</td>\n",
       "    </tr>\n",
       "    <tr>\n",
       "      <th>2</th>\n",
       "      <td>1</td>\n",
       "      <td>2888</td>\n",
       "    </tr>\n",
       "  </tbody>\n",
       "</table>\n",
       "</div>"
      ],
      "text/plain": [
       "  AnswerText  count\n",
       "0         -1    504\n",
       "1          0    826\n",
       "2          1   2888"
      ]
     },
     "execution_count": 25,
     "metadata": {},
     "output_type": "execute_result"
    }
   ],
   "source": [
    "pd.read_sql('''\n",
    "select answertext, count(answertext) as count\n",
    "from answer as a \n",
    "where questionid = 9\n",
    "group by answertext\n",
    "''',conn)"
   ]
  },
  {
   "cell_type": "code",
   "execution_count": 26,
   "id": "8cd9ed25-a28b-4369-b29d-b19358e3db69",
   "metadata": {},
   "outputs": [
    {
     "data": {
      "text/html": [
       "<div>\n",
       "<style scoped>\n",
       "    .dataframe tbody tr th:only-of-type {\n",
       "        vertical-align: middle;\n",
       "    }\n",
       "\n",
       "    .dataframe tbody tr th {\n",
       "        vertical-align: top;\n",
       "    }\n",
       "\n",
       "    .dataframe thead th {\n",
       "        text-align: right;\n",
       "    }\n",
       "</style>\n",
       "<table border=\"1\" class=\"dataframe\">\n",
       "  <thead>\n",
       "    <tr style=\"text-align: right;\">\n",
       "      <th></th>\n",
       "      <th>questiontext</th>\n",
       "    </tr>\n",
       "  </thead>\n",
       "  <tbody>\n",
       "    <tr>\n",
       "      <th>0</th>\n",
       "      <td>Is your primary role within your company related to tech/IT?</td>\n",
       "    </tr>\n",
       "  </tbody>\n",
       "</table>\n",
       "</div>"
      ],
      "text/plain": [
       "                                                   questiontext\n",
       "0  Is your primary role within your company related to tech/IT?"
      ]
     },
     "execution_count": 26,
     "metadata": {},
     "output_type": "execute_result"
    }
   ],
   "source": [
    "pd.read_sql('''\n",
    "select questiontext\n",
    "from question as q\n",
    "where questionid = 13\n",
    "''',conn)"
   ]
  },
  {
   "cell_type": "code",
   "execution_count": 27,
   "id": "b0d52717-5950-43dd-bf59-56eafdc0c8b4",
   "metadata": {},
   "outputs": [
    {
     "data": {
      "text/html": [
       "<div>\n",
       "<style scoped>\n",
       "    .dataframe tbody tr th:only-of-type {\n",
       "        vertical-align: middle;\n",
       "    }\n",
       "\n",
       "    .dataframe tbody tr th {\n",
       "        vertical-align: top;\n",
       "    }\n",
       "\n",
       "    .dataframe thead th {\n",
       "        text-align: right;\n",
       "    }\n",
       "</style>\n",
       "<table border=\"1\" class=\"dataframe\">\n",
       "  <thead>\n",
       "    <tr style=\"text-align: right;\">\n",
       "      <th></th>\n",
       "      <th>AnswerText</th>\n",
       "      <th>count</th>\n",
       "    </tr>\n",
       "  </thead>\n",
       "  <tbody>\n",
       "    <tr>\n",
       "      <th>0</th>\n",
       "      <td>-1</td>\n",
       "      <td>1387</td>\n",
       "    </tr>\n",
       "    <tr>\n",
       "      <th>1</th>\n",
       "      <td>0</td>\n",
       "      <td>100</td>\n",
       "    </tr>\n",
       "    <tr>\n",
       "      <th>2</th>\n",
       "      <td>1</td>\n",
       "      <td>1471</td>\n",
       "    </tr>\n",
       "  </tbody>\n",
       "</table>\n",
       "</div>"
      ],
      "text/plain": [
       "  AnswerText  count\n",
       "0         -1   1387\n",
       "1          0    100\n",
       "2          1   1471"
      ]
     },
     "execution_count": 27,
     "metadata": {},
     "output_type": "execute_result"
    }
   ],
   "source": [
    "pd.read_sql('''\n",
    "select answertext, count(answertext) as count\n",
    "from question as q\n",
    "left join answer as a\n",
    " on q.questionid = a.questionid\n",
    "where q.questionid = 13\n",
    "group by answertext\n",
    "''',conn)"
   ]
  },
  {
   "cell_type": "code",
   "execution_count": 28,
   "id": "f64440c1-3536-4006-b903-a6512aa409d8",
   "metadata": {},
   "outputs": [
    {
     "data": {
      "text/html": [
       "<div>\n",
       "<style scoped>\n",
       "    .dataframe tbody tr th:only-of-type {\n",
       "        vertical-align: middle;\n",
       "    }\n",
       "\n",
       "    .dataframe tbody tr th {\n",
       "        vertical-align: top;\n",
       "    }\n",
       "\n",
       "    .dataframe thead th {\n",
       "        text-align: right;\n",
       "    }\n",
       "</style>\n",
       "<table border=\"1\" class=\"dataframe\">\n",
       "  <thead>\n",
       "    <tr style=\"text-align: right;\">\n",
       "      <th></th>\n",
       "      <th>questiontext</th>\n",
       "    </tr>\n",
       "  </thead>\n",
       "  <tbody>\n",
       "    <tr>\n",
       "      <th>0</th>\n",
       "      <td>Which of the following best describes your work position?</td>\n",
       "    </tr>\n",
       "  </tbody>\n",
       "</table>\n",
       "</div>"
      ],
      "text/plain": [
       "                                                questiontext\n",
       "0  Which of the following best describes your work position?"
      ]
     },
     "execution_count": 28,
     "metadata": {},
     "output_type": "execute_result"
    }
   ],
   "source": [
    "pd.read_sql('''\n",
    "select questiontext\n",
    "from question\n",
    "where questiontext = 'Which of the following best describes your work position?'\n",
    "''',conn)"
   ]
  },
  {
   "cell_type": "code",
   "execution_count": 29,
   "id": "5556d35e-09cf-4ed8-bf68-a46252de8a73",
   "metadata": {},
   "outputs": [
    {
     "data": {
      "text/html": [
       "<div>\n",
       "<style scoped>\n",
       "    .dataframe tbody tr th:only-of-type {\n",
       "        vertical-align: middle;\n",
       "    }\n",
       "\n",
       "    .dataframe tbody tr th {\n",
       "        vertical-align: top;\n",
       "    }\n",
       "\n",
       "    .dataframe thead th {\n",
       "        text-align: right;\n",
       "    }\n",
       "</style>\n",
       "<table border=\"1\" class=\"dataframe\">\n",
       "  <thead>\n",
       "    <tr style=\"text-align: right;\">\n",
       "      <th></th>\n",
       "      <th>AnswerText</th>\n",
       "      <th>count</th>\n",
       "    </tr>\n",
       "  </thead>\n",
       "  <tbody>\n",
       "    <tr>\n",
       "      <th>0</th>\n",
       "      <td>Back-end Developer</td>\n",
       "      <td>737</td>\n",
       "    </tr>\n",
       "    <tr>\n",
       "      <th>1</th>\n",
       "      <td>Front-end Developer</td>\n",
       "      <td>502</td>\n",
       "    </tr>\n",
       "    <tr>\n",
       "      <th>2</th>\n",
       "      <td>DevOps/SysAdmin</td>\n",
       "      <td>282</td>\n",
       "    </tr>\n",
       "    <tr>\n",
       "      <th>3</th>\n",
       "      <td>Supervisor/Team Lead</td>\n",
       "      <td>277</td>\n",
       "    </tr>\n",
       "    <tr>\n",
       "      <th>4</th>\n",
       "      <td>Other</td>\n",
       "      <td>187</td>\n",
       "    </tr>\n",
       "    <tr>\n",
       "      <th>5</th>\n",
       "      <td>Support</td>\n",
       "      <td>168</td>\n",
       "    </tr>\n",
       "    <tr>\n",
       "      <th>6</th>\n",
       "      <td>One-person shop</td>\n",
       "      <td>161</td>\n",
       "    </tr>\n",
       "    <tr>\n",
       "      <th>7</th>\n",
       "      <td>Designer</td>\n",
       "      <td>135</td>\n",
       "    </tr>\n",
       "    <tr>\n",
       "      <th>8</th>\n",
       "      <td>Executive Leadership</td>\n",
       "      <td>101</td>\n",
       "    </tr>\n",
       "    <tr>\n",
       "      <th>9</th>\n",
       "      <td>Dev Evangelist/Advocate</td>\n",
       "      <td>99</td>\n",
       "    </tr>\n",
       "    <tr>\n",
       "      <th>10</th>\n",
       "      <td>Sales</td>\n",
       "      <td>31</td>\n",
       "    </tr>\n",
       "    <tr>\n",
       "      <th>11</th>\n",
       "      <td>HR</td>\n",
       "      <td>12</td>\n",
       "    </tr>\n",
       "  </tbody>\n",
       "</table>\n",
       "</div>"
      ],
      "text/plain": [
       "                 AnswerText  count\n",
       "0        Back-end Developer    737\n",
       "1       Front-end Developer    502\n",
       "2           DevOps/SysAdmin    282\n",
       "3      Supervisor/Team Lead    277\n",
       "4                     Other    187\n",
       "5                   Support    168\n",
       "6           One-person shop    161\n",
       "7                  Designer    135\n",
       "8      Executive Leadership    101\n",
       "9   Dev Evangelist/Advocate     99\n",
       "10                    Sales     31\n",
       "11                       HR     12"
      ]
     },
     "execution_count": 29,
     "metadata": {},
     "output_type": "execute_result"
    }
   ],
   "source": [
    "pd.read_sql('''\n",
    "select answertext, count(answertext) as count\n",
    "from answer as a\n",
    "left join question as q\n",
    "on a.questionid = q.questionid\n",
    "where questiontext = 'Which of the following best describes your work position?'\n",
    "group by answertext\n",
    "order by count desc\n",
    "''',conn)"
   ]
  },
  {
   "cell_type": "code",
   "execution_count": 30,
   "id": "2f21e587-ac97-4567-b84b-2a25753d7012",
   "metadata": {},
   "outputs": [],
   "source": [
    "job_spread = pd.read_sql('''\n",
    "select answertext as job, count(answertext) as count\n",
    "from answer as a\n",
    "left join question as q\n",
    "on a.questionid = q.questionid\n",
    "where questiontext = 'Which of the following best describes your work position?'\n",
    "group by job\n",
    "order by count desc\n",
    "''',conn)"
   ]
  },
  {
   "cell_type": "code",
   "execution_count": 47,
   "id": "3fb7f104-b59a-499c-8c76-b9e5d3cfd7c0",
   "metadata": {},
   "outputs": [
    {
     "data": {
      "image/png": "[encoded data removed]",
      "text/plain": [
       "<Figure size 640x480 with 1 Axes>"
      ]
     },
     "metadata": {},
     "output_type": "display_data"
    }
   ],
   "source": [
    "fig, ax = plt.subplots()\n",
    "job_spread.plot(x = 'job', kind = 'barh', ax = ax)\n",
    "\n",
    "ax.set_title('Job Spread')\n",
    "ax.set_xlabel('Count')\n",
    "plt.show();"
   ]
  },
  {
   "cell_type": "code",
   "execution_count": 48,
   "id": "c06a259e-8f61-4b8b-8bf2-dbb9a45cbb22",
   "metadata": {
    "scrolled": true
   },
   "outputs": [
    {
     "name": "stdout",
     "output_type": "stream",
     "text": [
      "Back-end Developer is 27.38% of the answers in this survey, sitting at 737 in total.\n",
      "\n",
      "Front-end Developer is 18.65% of the answers in this survey, sitting at 502 in total.\n",
      "\n",
      "DevOps/SysAdmin is 10.48% of the answers in this survey, sitting at 282 in total.\n",
      "\n",
      "Supervisor/Team Lead is 10.29% of the answers in this survey, sitting at 277 in total.\n",
      "\n",
      "Other is 6.95% of the answers in this survey, sitting at 187 in total.\n",
      "\n",
      "Support is 6.24% of the answers in this survey, sitting at 168 in total.\n",
      "\n",
      "One-person shop is 5.98% of the answers in this survey, sitting at 161 in total.\n",
      "\n",
      "Designer is 5.01% of the answers in this survey, sitting at 135 in total.\n",
      "\n",
      "Executive Leadership is 3.75% of the answers in this survey, sitting at 101 in total.\n",
      "\n",
      "Dev Evangelist/Advocate is 3.68% of the answers in this survey, sitting at 99 in total.\n",
      "\n",
      "Sales is 1.15% of the answers in this survey, sitting at 31 in total.\n",
      "\n",
      "HR is 0.45% of the answers in this survey, sitting at 12 in total.\n",
      "\n"
     ]
    }
   ],
   "source": [
    "for index, row in job_spread.iterrows():\n",
    "    job = row['job']\n",
    "    s = job_spread[job_spread['job'] == job]['count'].values[0]\n",
    "    l = sum(job_spread['count'])\n",
    "    t = round((s / l) * 100, 2)\n",
    "    print(f'{job} is {t}% of the answers in this survey, sitting at {s} in total.\\n')"
   ]
  },
  {
   "cell_type": "code",
   "execution_count": 35,
   "id": "9e5ba3c0-b3a9-4d55-b111-09c6229831f0",
   "metadata": {},
   "outputs": [
    {
     "name": "stdout",
     "output_type": "stream",
     "text": [
      "0    27.377415\n",
      "Name: count, dtype: float64\n"
     ]
    }
   ],
   "source": [
    "s = job_spread[job_spread['job'] == 'Back-end Developer']['count']\n",
    "l = sum(job_spread['count'])\n",
    "t = (s / l) * 100\n",
    "print(t)"
   ]
  },
  {
   "cell_type": "code",
   "execution_count": 36,
   "id": "dd67dc02-b1df-4be3-85fd-3c8a9b15a59d",
   "metadata": {},
   "outputs": [
    {
     "data": {
      "text/plain": [
       "0    737\n",
       "Name: count, dtype: int64"
      ]
     },
     "execution_count": 36,
     "metadata": {},
     "output_type": "execute_result"
    }
   ],
   "source": [
    "job_spread[job_spread['job'] == 'Back-end Developer']['count']"
   ]
  },
  {
   "cell_type": "code",
   "execution_count": null,
   "id": "b4fcb3ad-cbfe-4406-b66b-92ff75efe34a",
   "metadata": {},
   "outputs": [],
   "source": []
  },
  {
   "cell_type": "code",
   "execution_count": 37,
   "id": "5d960f03-34f1-49cf-8eb7-f7dc2ae64e67",
   "metadata": {},
   "outputs": [
    {
     "data": {
      "text/plain": [
       "2692"
      ]
     },
     "execution_count": 37,
     "metadata": {},
     "output_type": "execute_result"
    }
   ],
   "source": [
    "job_spread['count'].sum()"
   ]
  },
  {
   "cell_type": "code",
   "execution_count": 38,
   "id": "6de7aee3-786b-4cf3-b826-a67bfa633f73",
   "metadata": {},
   "outputs": [
    {
     "data": {
      "text/plain": [
       "27.377414561664192"
      ]
     },
     "execution_count": 38,
     "metadata": {},
     "output_type": "execute_result"
    }
   ],
   "source": [
    "(737 / 2692) * 100"
   ]
  },
  {
   "cell_type": "code",
   "execution_count": 39,
   "id": "6f68f061-b69c-417c-bc99-2d7eff77a632",
   "metadata": {},
   "outputs": [
    {
     "data": {
      "text/html": [
       "<div>\n",
       "<style scoped>\n",
       "    .dataframe tbody tr th:only-of-type {\n",
       "        vertical-align: middle;\n",
       "    }\n",
       "\n",
       "    .dataframe tbody tr th {\n",
       "        vertical-align: top;\n",
       "    }\n",
       "\n",
       "    .dataframe thead th {\n",
       "        text-align: right;\n",
       "    }\n",
       "</style>\n",
       "<table border=\"1\" class=\"dataframe\">\n",
       "  <thead>\n",
       "    <tr style=\"text-align: right;\">\n",
       "      <th></th>\n",
       "      <th>questiontext</th>\n",
       "    </tr>\n",
       "  </thead>\n",
       "  <tbody>\n",
       "    <tr>\n",
       "      <th>0</th>\n",
       "      <td>What is your age?</td>\n",
       "    </tr>\n",
       "    <tr>\n",
       "      <th>1</th>\n",
       "      <td>What is your gender?</td>\n",
       "    </tr>\n",
       "    <tr>\n",
       "      <th>2</th>\n",
       "      <td>What country do you live in?</td>\n",
       "    </tr>\n",
       "    <tr>\n",
       "      <th>3</th>\n",
       "      <td>If you live in the United States, which state or territory do you live in?</td>\n",
       "    </tr>\n",
       "    <tr>\n",
       "      <th>4</th>\n",
       "      <td>Are you self-employed?</td>\n",
       "    </tr>\n",
       "    <tr>\n",
       "      <th>...</th>\n",
       "      <td>...</td>\n",
       "    </tr>\n",
       "    <tr>\n",
       "      <th>100</th>\n",
       "      <td>Do you think that team members/co-workers would view you more negatively if they knew you suffered from a mental health issue?</td>\n",
       "    </tr>\n",
       "    <tr>\n",
       "      <th>101</th>\n",
       "      <td>If yes, what condition(s) have you been diagnosed with?</td>\n",
       "    </tr>\n",
       "    <tr>\n",
       "      <th>102</th>\n",
       "      <td>If maybe, what condition(s) do you believe you have?</td>\n",
       "    </tr>\n",
       "    <tr>\n",
       "      <th>103</th>\n",
       "      <td>Which of the following best describes your work position?</td>\n",
       "    </tr>\n",
       "    <tr>\n",
       "      <th>104</th>\n",
       "      <td>Do you work remotely?</td>\n",
       "    </tr>\n",
       "  </tbody>\n",
       "</table>\n",
       "<p>105 rows × 1 columns</p>\n",
       "</div>"
      ],
      "text/plain": [
       "                                                                                                                       questiontext\n",
       "0                                                                                                                 What is your age?\n",
       "1                                                                                                              What is your gender?\n",
       "2                                                                                                      What country do you live in?\n",
       "3                                                        If you live in the United States, which state or territory do you live in?\n",
       "4                                                                                                            Are you self-employed?\n",
       "..                                                                                                                              ...\n",
       "100  Do you think that team members/co-workers would view you more negatively if they knew you suffered from a mental health issue?\n",
       "101                                                                         If yes, what condition(s) have you been diagnosed with?\n",
       "102                                                                            If maybe, what condition(s) do you believe you have?\n",
       "103                                                                       Which of the following best describes your work position?\n",
       "104                                                                                                           Do you work remotely?\n",
       "\n",
       "[105 rows x 1 columns]"
      ]
     },
     "execution_count": 39,
     "metadata": {},
     "output_type": "execute_result"
    }
   ],
   "source": [
    "pd.read_sql('''\n",
    "select questiontext\n",
    "from question as q\n",
    "''',conn)"
   ]
  },
  {
   "cell_type": "code",
   "execution_count": null,
   "id": "f703daae-17f9-43be-9220-86a3bc4637e4",
   "metadata": {},
   "outputs": [],
   "source": []
  }
 ],
 "metadata": {
  "kernelspec": {
   "display_name": "Python 3 (ipykernel)",
   "language": "python",
   "name": "python3"
  },
  "language_info": {
   "codemirror_mode": {
    "name": "ipython",
    "version": 3
   },
   "file_extension": ".py",
   "mimetype": "text/x-python",
   "name": "python",
   "nbconvert_exporter": "python",
   "pygments_lexer": "ipython3",
   "version": "3.12.7"
  }
 },
 "nbformat": 4,
 "nbformat_minor": 5
}
