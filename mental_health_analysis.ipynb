{
 "cells": [
  {
   "cell_type": "markdown",
   "id": "a47d55da-aee1-426f-9c2c-05747400012d",
   "metadata": {},
   "source": [
    "# Mental Health in the Tech Industry Analysis"
   ]
  },
  {
   "cell_type": "markdown",
   "id": "2c56839e-0027-4603-a254-2a295422df62",
   "metadata": {},
   "source": [
    "## Imports"
   ]
  },
  {
   "cell_type": "markdown",
   "id": "4d227507-2964-4592-b2e1-102b577397a5",
   "metadata": {},
   "source": [
    "pd.read_sql('''\n",
    "\n",
    "''', conn)"
   ]
  },
  {
   "cell_type": "markdown",
   "id": "ea82fdcc-b9a5-461e-a360-d0c5e6f4d83d",
   "metadata": {},
   "source": [
    "## Sources and Links\n",
    "Kaggle dataset : [Mental Health in the Tech Industry](https://www.kaggle.com/datasets/anth7310/mental-health-in-the-tech-industry)\n",
    "\n",
    "Website used to create ERD : [dbdiagram.io](https://dbdiagram.io)"
   ]
  },
  {
   "cell_type": "markdown",
   "id": "4a4d022a-a836-404e-af6f-fa58d0bf8551",
   "metadata": {},
   "source": [
    "---\n",
    "# Overview"
   ]
  },
  {
   "cell_type": "markdown",
   "id": "8a8db639-2021-410e-a43a-ff0c603c6cd5",
   "metadata": {},
   "source": [
    "- title\n",
    "\n",
    "- sources and links\n",
    "\n",
    "- overview\n",
    "\n",
    "- imports\n",
    "\n",
    "- business understanding\n",
    "\n",
    "- data understanding\n",
    "\n",
    "- methodoligy\n",
    "\n",
    "- functions\n",
    "\n",
    "- exploritory data analisys"
   ]
  },
  {
   "cell_type": "markdown",
   "id": "7d51a764-d70b-4758-8d1a-c7015c86dc5f",
   "metadata": {},
   "source": [
    "# Imports"
   ]
  },
  {
   "cell_type": "code",
   "execution_count": 38,
   "id": "fe10cad3-5ace-4563-998a-127ab5820854",
   "metadata": {},
   "outputs": [],
   "source": [
    "import pandas as pd\n",
    "import matplotlib.pyplot as plt\n",
    "import sqlite3\n",
    "from pandasql import sqldf"
   ]
  },
  {
   "cell_type": "markdown",
   "id": "3f1a2e5a-96b7-48dd-bc12-a7df671c794e",
   "metadata": {},
   "source": [
    "---\n",
    "# Business understanding"
   ]
  },
  {
   "cell_type": "markdown",
   "id": "d786d8a4-d7c6-4d03-8d5c-d93a2a381d69",
   "metadata": {},
   "source": [
    "---\n",
    "# Data Understanding"
   ]
  },
  {
   "cell_type": "markdown",
   "id": "5707a41c-b174-4f45-b7c6-d4e7aa0aba59",
   "metadata": {},
   "source": [
    "---\n",
    "# Methodoligy"
   ]
  },
  {
   "cell_type": "markdown",
   "id": "131e8a59-6edd-446d-b130-d726140611bc",
   "metadata": {},
   "source": [
    "---\n",
    "# Functions"
   ]
  },
  {
   "cell_type": "code",
   "execution_count": 28,
   "id": "2c6d29c5-875f-4f23-a60b-856d4d80c622",
   "metadata": {},
   "outputs": [],
   "source": [
    "def normalize_gender(gender):\n",
    "    g = gender.lower().strip()\n",
    "    if g in ['male', 'man', 'cis male', 'cis man', 'masculine']:\n",
    "        return 'male'\n",
    "    elif g in ['female', 'f', 'woman', 'cis female', 'cis woman', 'femanine']:\n",
    "        return 'female'\n",
    "    elif 'trans' in g:\n",
    "        return 'trans'\n",
    "    elif 'non-binary' in g or 'genderqueer' in g or 'genderfluid' in g:\n",
    "        return 'non-binary'\n",
    "    elif g in ['na', 'n/a', '', 'none', 'no']:\n",
    "        return 'prefer not to say'\n",
    "    else:\n",
    "        return 'other'"
   ]
  },
  {
   "cell_type": "markdown",
   "id": "08903c29-7c23-414a-a859-c1102403149a",
   "metadata": {},
   "source": [
    "---\n",
    "# Exploritory Data Analisys"
   ]
  },
  {
   "cell_type": "code",
   "execution_count": 2,
   "id": "fe5425ef-7922-4623-8624-2d1385eef25f",
   "metadata": {},
   "outputs": [],
   "source": [
    "conn = sqlite3.connect('mental_health.sqlite')"
   ]
  },
  {
   "cell_type": "code",
   "execution_count": 3,
   "id": "bf8d203f-433b-4c50-b66b-26d11ec97953",
   "metadata": {
    "scrolled": true
   },
   "outputs": [
    {
     "data": {
      "text/html": [
       "<div>\n",
       "<style scoped>\n",
       "    .dataframe tbody tr th:only-of-type {\n",
       "        vertical-align: middle;\n",
       "    }\n",
       "\n",
       "    .dataframe tbody tr th {\n",
       "        vertical-align: top;\n",
       "    }\n",
       "\n",
       "    .dataframe thead th {\n",
       "        text-align: right;\n",
       "    }\n",
       "</style>\n",
       "<table border=\"1\" class=\"dataframe\">\n",
       "  <thead>\n",
       "    <tr style=\"text-align: right;\">\n",
       "      <th></th>\n",
       "      <th>name</th>\n",
       "    </tr>\n",
       "  </thead>\n",
       "  <tbody>\n",
       "    <tr>\n",
       "      <th>0</th>\n",
       "      <td>Answer</td>\n",
       "    </tr>\n",
       "    <tr>\n",
       "      <th>1</th>\n",
       "      <td>Question</td>\n",
       "    </tr>\n",
       "    <tr>\n",
       "      <th>2</th>\n",
       "      <td>Survey</td>\n",
       "    </tr>\n",
       "  </tbody>\n",
       "</table>\n",
       "</div>"
      ],
      "text/plain": [
       "       name\n",
       "0    Answer\n",
       "1  Question\n",
       "2    Survey"
      ]
     },
     "execution_count": 3,
     "metadata": {},
     "output_type": "execute_result"
    }
   ],
   "source": [
    "tables_query = \"select name from sqlite_master where type = 'table';\"\n",
    "tables = pd.read_sql(tables_query, conn)\n",
    "tables"
   ]
  },
  {
   "cell_type": "markdown",
   "id": "d2e6eaf1-9e7e-4387-8a91-ffda754fb1f0",
   "metadata": {},
   "source": [
    "Here we have an `Entity Relationship Diagram` or `ERD` for short. This is a visual representation of how the tables in our SQL file are connected. Link above in the _sources and links_ section."
   ]
  },
  {
   "attachments": {
    "53cb1a69-c30a-4f54-98a4-3359700ba7a4.png": {
     "image/png": "[encoded data removed]"
    }
   },
   "cell_type": "markdown",
   "id": "493a3be4-d841-470a-b2f6-f29643bd1922",
   "metadata": {},
   "source": [
    "![mental health ERD.png](attachment:53cb1a69-c30a-4f54-98a4-3359700ba7a4.png)"
   ]
  },
  {
   "cell_type": "markdown",
   "id": "99de578a-8ec1-4794-8254-44d3f08ad0ad",
   "metadata": {},
   "source": [
    "# Exploritory Data Analysis"
   ]
  },
  {
   "cell_type": "code",
   "execution_count": 4,
   "id": "f6607cb3-f95d-40ff-8d16-82ff514a88ca",
   "metadata": {},
   "outputs": [
    {
     "data": {
      "text/html": [
       "<div>\n",
       "<style scoped>\n",
       "    .dataframe tbody tr th:only-of-type {\n",
       "        vertical-align: middle;\n",
       "    }\n",
       "\n",
       "    .dataframe tbody tr th {\n",
       "        vertical-align: top;\n",
       "    }\n",
       "\n",
       "    .dataframe thead th {\n",
       "        text-align: right;\n",
       "    }\n",
       "</style>\n",
       "<table border=\"1\" class=\"dataframe\">\n",
       "  <thead>\n",
       "    <tr style=\"text-align: right;\">\n",
       "      <th></th>\n",
       "      <th>questiontext</th>\n",
       "      <th>questionid</th>\n",
       "    </tr>\n",
       "  </thead>\n",
       "  <tbody>\n",
       "    <tr>\n",
       "      <th>0</th>\n",
       "      <td>What is your age?</td>\n",
       "      <td>1</td>\n",
       "    </tr>\n",
       "    <tr>\n",
       "      <th>1</th>\n",
       "      <td>What is your gender?</td>\n",
       "      <td>2</td>\n",
       "    </tr>\n",
       "    <tr>\n",
       "      <th>2</th>\n",
       "      <td>What country do you live in?</td>\n",
       "      <td>3</td>\n",
       "    </tr>\n",
       "    <tr>\n",
       "      <th>3</th>\n",
       "      <td>If you live in the United States, which state ...</td>\n",
       "      <td>4</td>\n",
       "    </tr>\n",
       "    <tr>\n",
       "      <th>4</th>\n",
       "      <td>Are you self-employed?</td>\n",
       "      <td>5</td>\n",
       "    </tr>\n",
       "    <tr>\n",
       "      <th>...</th>\n",
       "      <td>...</td>\n",
       "      <td>...</td>\n",
       "    </tr>\n",
       "    <tr>\n",
       "      <th>100</th>\n",
       "      <td>Do you think that team members/co-workers woul...</td>\n",
       "      <td>114</td>\n",
       "    </tr>\n",
       "    <tr>\n",
       "      <th>101</th>\n",
       "      <td>If yes, what condition(s) have you been diagno...</td>\n",
       "      <td>115</td>\n",
       "    </tr>\n",
       "    <tr>\n",
       "      <th>102</th>\n",
       "      <td>If maybe, what condition(s) do you believe you...</td>\n",
       "      <td>116</td>\n",
       "    </tr>\n",
       "    <tr>\n",
       "      <th>103</th>\n",
       "      <td>Which of the following best describes your wor...</td>\n",
       "      <td>117</td>\n",
       "    </tr>\n",
       "    <tr>\n",
       "      <th>104</th>\n",
       "      <td>Do you work remotely?</td>\n",
       "      <td>118</td>\n",
       "    </tr>\n",
       "  </tbody>\n",
       "</table>\n",
       "<p>105 rows × 2 columns</p>\n",
       "</div>"
      ],
      "text/plain": [
       "                                          questiontext  questionid\n",
       "0                                    What is your age?           1\n",
       "1                                 What is your gender?           2\n",
       "2                         What country do you live in?           3\n",
       "3    If you live in the United States, which state ...           4\n",
       "4                               Are you self-employed?           5\n",
       "..                                                 ...         ...\n",
       "100  Do you think that team members/co-workers woul...         114\n",
       "101  If yes, what condition(s) have you been diagno...         115\n",
       "102  If maybe, what condition(s) do you believe you...         116\n",
       "103  Which of the following best describes your wor...         117\n",
       "104                              Do you work remotely?         118\n",
       "\n",
       "[105 rows x 2 columns]"
      ]
     },
     "execution_count": 4,
     "metadata": {},
     "output_type": "execute_result"
    }
   ],
   "source": [
    "pd.read_sql('''\n",
    "select *\n",
    "from Question;\n",
    "''', conn)"
   ]
  },
  {
   "cell_type": "code",
   "execution_count": 5,
   "id": "1380d32f-2110-448e-b4b6-8a25eab74162",
   "metadata": {},
   "outputs": [
    {
     "data": {
      "text/html": [
       "<div>\n",
       "<style scoped>\n",
       "    .dataframe tbody tr th:only-of-type {\n",
       "        vertical-align: middle;\n",
       "    }\n",
       "\n",
       "    .dataframe tbody tr th {\n",
       "        vertical-align: top;\n",
       "    }\n",
       "\n",
       "    .dataframe thead th {\n",
       "        text-align: right;\n",
       "    }\n",
       "</style>\n",
       "<table border=\"1\" class=\"dataframe\">\n",
       "  <thead>\n",
       "    <tr style=\"text-align: right;\">\n",
       "      <th></th>\n",
       "      <th>AnswerText</th>\n",
       "      <th>SurveyID</th>\n",
       "      <th>UserID</th>\n",
       "      <th>QuestionID</th>\n",
       "    </tr>\n",
       "  </thead>\n",
       "  <tbody>\n",
       "    <tr>\n",
       "      <th>0</th>\n",
       "      <td>37</td>\n",
       "      <td>2014</td>\n",
       "      <td>1</td>\n",
       "      <td>1</td>\n",
       "    </tr>\n",
       "    <tr>\n",
       "      <th>1</th>\n",
       "      <td>44</td>\n",
       "      <td>2014</td>\n",
       "      <td>2</td>\n",
       "      <td>1</td>\n",
       "    </tr>\n",
       "    <tr>\n",
       "      <th>2</th>\n",
       "      <td>32</td>\n",
       "      <td>2014</td>\n",
       "      <td>3</td>\n",
       "      <td>1</td>\n",
       "    </tr>\n",
       "    <tr>\n",
       "      <th>3</th>\n",
       "      <td>31</td>\n",
       "      <td>2014</td>\n",
       "      <td>4</td>\n",
       "      <td>1</td>\n",
       "    </tr>\n",
       "    <tr>\n",
       "      <th>4</th>\n",
       "      <td>31</td>\n",
       "      <td>2014</td>\n",
       "      <td>5</td>\n",
       "      <td>1</td>\n",
       "    </tr>\n",
       "    <tr>\n",
       "      <th>...</th>\n",
       "      <td>...</td>\n",
       "      <td>...</td>\n",
       "      <td>...</td>\n",
       "      <td>...</td>\n",
       "    </tr>\n",
       "    <tr>\n",
       "      <th>236893</th>\n",
       "      <td>Other</td>\n",
       "      <td>2016</td>\n",
       "      <td>2689</td>\n",
       "      <td>117</td>\n",
       "    </tr>\n",
       "    <tr>\n",
       "      <th>236894</th>\n",
       "      <td>Support</td>\n",
       "      <td>2016</td>\n",
       "      <td>2690</td>\n",
       "      <td>117</td>\n",
       "    </tr>\n",
       "    <tr>\n",
       "      <th>236895</th>\n",
       "      <td>Back-end Developer</td>\n",
       "      <td>2016</td>\n",
       "      <td>2691</td>\n",
       "      <td>117</td>\n",
       "    </tr>\n",
       "    <tr>\n",
       "      <th>236896</th>\n",
       "      <td>DevOps/SysAdmin</td>\n",
       "      <td>2016</td>\n",
       "      <td>2692</td>\n",
       "      <td>117</td>\n",
       "    </tr>\n",
       "    <tr>\n",
       "      <th>236897</th>\n",
       "      <td>Other</td>\n",
       "      <td>2016</td>\n",
       "      <td>2693</td>\n",
       "      <td>117</td>\n",
       "    </tr>\n",
       "  </tbody>\n",
       "</table>\n",
       "<p>236898 rows × 4 columns</p>\n",
       "</div>"
      ],
      "text/plain": [
       "                AnswerText  SurveyID  UserID  QuestionID\n",
       "0                       37      2014       1           1\n",
       "1                       44      2014       2           1\n",
       "2                       32      2014       3           1\n",
       "3                       31      2014       4           1\n",
       "4                       31      2014       5           1\n",
       "...                    ...       ...     ...         ...\n",
       "236893               Other      2016    2689         117\n",
       "236894             Support      2016    2690         117\n",
       "236895  Back-end Developer      2016    2691         117\n",
       "236896     DevOps/SysAdmin      2016    2692         117\n",
       "236897               Other      2016    2693         117\n",
       "\n",
       "[236898 rows x 4 columns]"
      ]
     },
     "execution_count": 5,
     "metadata": {},
     "output_type": "execute_result"
    }
   ],
   "source": [
    "pd.read_sql('''\n",
    "select *\n",
    "from Answer;\n",
    "''', conn)"
   ]
  },
  {
   "cell_type": "code",
   "execution_count": 6,
   "id": "07377497-4e0c-43cf-aa41-5b96a86df69a",
   "metadata": {},
   "outputs": [
    {
     "data": {
      "text/html": [
       "<div>\n",
       "<style scoped>\n",
       "    .dataframe tbody tr th:only-of-type {\n",
       "        vertical-align: middle;\n",
       "    }\n",
       "\n",
       "    .dataframe tbody tr th {\n",
       "        vertical-align: top;\n",
       "    }\n",
       "\n",
       "    .dataframe thead th {\n",
       "        text-align: right;\n",
       "    }\n",
       "</style>\n",
       "<table border=\"1\" class=\"dataframe\">\n",
       "  <thead>\n",
       "    <tr style=\"text-align: right;\">\n",
       "      <th></th>\n",
       "      <th>SurveyID</th>\n",
       "      <th>Description</th>\n",
       "    </tr>\n",
       "  </thead>\n",
       "  <tbody>\n",
       "    <tr>\n",
       "      <th>0</th>\n",
       "      <td>2014</td>\n",
       "      <td>mental health survey for 2014</td>\n",
       "    </tr>\n",
       "    <tr>\n",
       "      <th>1</th>\n",
       "      <td>2016</td>\n",
       "      <td>mental health survey for 2016</td>\n",
       "    </tr>\n",
       "    <tr>\n",
       "      <th>2</th>\n",
       "      <td>2017</td>\n",
       "      <td>mental health survey for 2017</td>\n",
       "    </tr>\n",
       "    <tr>\n",
       "      <th>3</th>\n",
       "      <td>2018</td>\n",
       "      <td>mental health survey for 2018</td>\n",
       "    </tr>\n",
       "    <tr>\n",
       "      <th>4</th>\n",
       "      <td>2019</td>\n",
       "      <td>mental health survey for 2019</td>\n",
       "    </tr>\n",
       "  </tbody>\n",
       "</table>\n",
       "</div>"
      ],
      "text/plain": [
       "   SurveyID                    Description\n",
       "0      2014  mental health survey for 2014\n",
       "1      2016  mental health survey for 2016\n",
       "2      2017  mental health survey for 2017\n",
       "3      2018  mental health survey for 2018\n",
       "4      2019  mental health survey for 2019"
      ]
     },
     "execution_count": 6,
     "metadata": {},
     "output_type": "execute_result"
    }
   ],
   "source": [
    "pd.read_sql('''\n",
    "select *\n",
    "from Survey;\n",
    "''', conn)"
   ]
  },
  {
   "cell_type": "code",
   "execution_count": 7,
   "id": "86acd00d-cf56-4d8b-9743-826a75d9bcf7",
   "metadata": {},
   "outputs": [
    {
     "data": {
      "text/html": [
       "<div>\n",
       "<style scoped>\n",
       "    .dataframe tbody tr th:only-of-type {\n",
       "        vertical-align: middle;\n",
       "    }\n",
       "\n",
       "    .dataframe tbody tr th {\n",
       "        vertical-align: top;\n",
       "    }\n",
       "\n",
       "    .dataframe thead th {\n",
       "        text-align: right;\n",
       "    }\n",
       "</style>\n",
       "<table border=\"1\" class=\"dataframe\">\n",
       "  <thead>\n",
       "    <tr style=\"text-align: right;\">\n",
       "      <th></th>\n",
       "      <th>answer</th>\n",
       "      <th>count</th>\n",
       "    </tr>\n",
       "  </thead>\n",
       "  <tbody>\n",
       "    <tr>\n",
       "      <th>0</th>\n",
       "      <td>Male</td>\n",
       "      <td>2830</td>\n",
       "    </tr>\n",
       "    <tr>\n",
       "      <th>1</th>\n",
       "      <td>Female</td>\n",
       "      <td>914</td>\n",
       "    </tr>\n",
       "    <tr>\n",
       "      <th>2</th>\n",
       "      <td>male</td>\n",
       "      <td>212</td>\n",
       "    </tr>\n",
       "    <tr>\n",
       "      <th>3</th>\n",
       "      <td>female</td>\n",
       "      <td>110</td>\n",
       "    </tr>\n",
       "    <tr>\n",
       "      <th>4</th>\n",
       "      <td>-1</td>\n",
       "      <td>24</td>\n",
       "    </tr>\n",
       "    <tr>\n",
       "      <th>...</th>\n",
       "      <td>...</td>\n",
       "      <td>...</td>\n",
       "    </tr>\n",
       "    <tr>\n",
       "      <th>96</th>\n",
       "      <td>Agender/genderfluid</td>\n",
       "      <td>1</td>\n",
       "    </tr>\n",
       "    <tr>\n",
       "      <th>97</th>\n",
       "      <td>Agender trans woman</td>\n",
       "      <td>1</td>\n",
       "    </tr>\n",
       "    <tr>\n",
       "      <th>98</th>\n",
       "      <td>AFAB</td>\n",
       "      <td>1</td>\n",
       "    </tr>\n",
       "    <tr>\n",
       "      <th>99</th>\n",
       "      <td>A little about you</td>\n",
       "      <td>1</td>\n",
       "    </tr>\n",
       "    <tr>\n",
       "      <th>100</th>\n",
       "      <td>43</td>\n",
       "      <td>1</td>\n",
       "    </tr>\n",
       "  </tbody>\n",
       "</table>\n",
       "<p>101 rows × 2 columns</p>\n",
       "</div>"
      ],
      "text/plain": [
       "                  answer  count\n",
       "0                   Male   2830\n",
       "1                 Female    914\n",
       "2                   male    212\n",
       "3                 female    110\n",
       "4                     -1     24\n",
       "..                   ...    ...\n",
       "96   Agender/genderfluid      1\n",
       "97   Agender trans woman      1\n",
       "98                  AFAB      1\n",
       "99    A little about you      1\n",
       "100                   43      1\n",
       "\n",
       "[101 rows x 2 columns]"
      ]
     },
     "execution_count": 7,
     "metadata": {},
     "output_type": "execute_result"
    }
   ],
   "source": [
    "pd.read_sql('''\n",
    "select answertext as answer, count(*) as count\n",
    "from answer as a\n",
    "left join question as q\n",
    "on a.questionid = q.questionid\n",
    "where questiontext = 'What is your gender?'\n",
    "group by a.answertext\n",
    "order by count desc\n",
    "''',conn)"
   ]
  },
  {
   "cell_type": "code",
   "execution_count": 8,
   "id": "81325b07-3298-4bb9-846a-3326fef7ccc9",
   "metadata": {},
   "outputs": [
    {
     "data": {
      "text/html": [
       "<div>\n",
       "<style scoped>\n",
       "    .dataframe tbody tr th:only-of-type {\n",
       "        vertical-align: middle;\n",
       "    }\n",
       "\n",
       "    .dataframe tbody tr th {\n",
       "        vertical-align: top;\n",
       "    }\n",
       "\n",
       "    .dataframe thead th {\n",
       "        text-align: right;\n",
       "    }\n",
       "</style>\n",
       "<table border=\"1\" class=\"dataframe\">\n",
       "  <thead>\n",
       "    <tr style=\"text-align: right;\">\n",
       "      <th></th>\n",
       "      <th>Description</th>\n",
       "    </tr>\n",
       "  </thead>\n",
       "  <tbody>\n",
       "    <tr>\n",
       "      <th>0</th>\n",
       "      <td>mental health survey for 2014</td>\n",
       "    </tr>\n",
       "    <tr>\n",
       "      <th>1</th>\n",
       "      <td>mental health survey for 2016</td>\n",
       "    </tr>\n",
       "    <tr>\n",
       "      <th>2</th>\n",
       "      <td>mental health survey for 2017</td>\n",
       "    </tr>\n",
       "    <tr>\n",
       "      <th>3</th>\n",
       "      <td>mental health survey for 2018</td>\n",
       "    </tr>\n",
       "    <tr>\n",
       "      <th>4</th>\n",
       "      <td>mental health survey for 2019</td>\n",
       "    </tr>\n",
       "  </tbody>\n",
       "</table>\n",
       "</div>"
      ],
      "text/plain": [
       "                     Description\n",
       "0  mental health survey for 2014\n",
       "1  mental health survey for 2016\n",
       "2  mental health survey for 2017\n",
       "3  mental health survey for 2018\n",
       "4  mental health survey for 2019"
      ]
     },
     "execution_count": 8,
     "metadata": {},
     "output_type": "execute_result"
    }
   ],
   "source": [
    "pd.read_sql('''\n",
    "select description\n",
    "from survey\n",
    "''',conn)"
   ]
  },
  {
   "cell_type": "markdown",
   "id": "d704952f-c723-455b-bf46-283d58ca86dc",
   "metadata": {},
   "source": [
    "# Data Insight and Analysis"
   ]
  },
  {
   "cell_type": "markdown",
   "id": "bf7f312d-c651-4afa-ae57-aeca228b439c",
   "metadata": {},
   "source": [
    "- Whats the age spread and gender breakdown\n",
    "\n",
    "- what jobs and industries are represented in the data"
   ]
  },
  {
   "cell_type": "markdown",
   "id": "ab621f21-ea89-4cdf-8752-b5d1a2167c04",
   "metadata": {},
   "source": [
    "## Age Spread"
   ]
  },
  {
   "cell_type": "code",
   "execution_count": 9,
   "id": "9a847ef6-9bfa-4a0d-8491-64a0294aaf56",
   "metadata": {},
   "outputs": [
    {
     "data": {
      "text/html": [
       "<div>\n",
       "<style scoped>\n",
       "    .dataframe tbody tr th:only-of-type {\n",
       "        vertical-align: middle;\n",
       "    }\n",
       "\n",
       "    .dataframe tbody tr th {\n",
       "        vertical-align: top;\n",
       "    }\n",
       "\n",
       "    .dataframe thead th {\n",
       "        text-align: right;\n",
       "    }\n",
       "</style>\n",
       "<table border=\"1\" class=\"dataframe\">\n",
       "  <thead>\n",
       "    <tr style=\"text-align: right;\">\n",
       "      <th></th>\n",
       "      <th>AnswerText</th>\n",
       "      <th>count</th>\n",
       "    </tr>\n",
       "  </thead>\n",
       "  <tbody>\n",
       "    <tr>\n",
       "      <th>0</th>\n",
       "      <td>-1</td>\n",
       "      <td>24</td>\n",
       "    </tr>\n",
       "    <tr>\n",
       "      <th>1</th>\n",
       "      <td>43</td>\n",
       "      <td>1</td>\n",
       "    </tr>\n",
       "    <tr>\n",
       "      <th>2</th>\n",
       "      <td>A little about you</td>\n",
       "      <td>1</td>\n",
       "    </tr>\n",
       "    <tr>\n",
       "      <th>3</th>\n",
       "      <td>AFAB</td>\n",
       "      <td>1</td>\n",
       "    </tr>\n",
       "    <tr>\n",
       "      <th>4</th>\n",
       "      <td>Agender</td>\n",
       "      <td>4</td>\n",
       "    </tr>\n",
       "    <tr>\n",
       "      <th>...</th>\n",
       "      <td>...</td>\n",
       "      <td>...</td>\n",
       "    </tr>\n",
       "    <tr>\n",
       "      <th>96</th>\n",
       "      <td>something kinda male?</td>\n",
       "      <td>1</td>\n",
       "    </tr>\n",
       "    <tr>\n",
       "      <th>97</th>\n",
       "      <td>sometimes</td>\n",
       "      <td>1</td>\n",
       "    </tr>\n",
       "    <tr>\n",
       "      <th>98</th>\n",
       "      <td>trans woman</td>\n",
       "      <td>1</td>\n",
       "    </tr>\n",
       "    <tr>\n",
       "      <th>99</th>\n",
       "      <td>transgender</td>\n",
       "      <td>1</td>\n",
       "    </tr>\n",
       "    <tr>\n",
       "      <th>100</th>\n",
       "      <td>uhhhhhhhhh fem genderqueer?</td>\n",
       "      <td>1</td>\n",
       "    </tr>\n",
       "  </tbody>\n",
       "</table>\n",
       "<p>101 rows × 2 columns</p>\n",
       "</div>"
      ],
      "text/plain": [
       "                      AnswerText  count\n",
       "0                             -1     24\n",
       "1                             43      1\n",
       "2             A little about you      1\n",
       "3                           AFAB      1\n",
       "4                        Agender      4\n",
       "..                           ...    ...\n",
       "96         something kinda male?      1\n",
       "97                     sometimes      1\n",
       "98                   trans woman      1\n",
       "99                   transgender      1\n",
       "100  uhhhhhhhhh fem genderqueer?      1\n",
       "\n",
       "[101 rows x 2 columns]"
      ]
     },
     "execution_count": 9,
     "metadata": {},
     "output_type": "execute_result"
    }
   ],
   "source": [
    "pd.read_sql('''\n",
    "select answertext, count(answertext) as count\n",
    "from Question as q\n",
    "left join Answer as a\n",
    "on q.questionid = a.questionid\n",
    "where questiontext = 'What is your gender?'\n",
    "group by answertext\n",
    "''', conn)"
   ]
  },
  {
   "cell_type": "code",
   "execution_count": 10,
   "id": "f5a5f3be-1423-473a-94bf-04a991533aee",
   "metadata": {},
   "outputs": [],
   "source": [
    "df_age_spread = pd.read_sql('''\n",
    "select answertext, count(answertext) as count\n",
    "from Question as q\n",
    "left join Answer as a\n",
    "on q.questionid = a.questionid\n",
    "where questiontext = 'What is your gender?'\n",
    "group by answertext\n",
    "''', conn)"
   ]
  },
  {
   "cell_type": "code",
   "execution_count": 16,
   "id": "de4b8a0f-1629-4ed7-8d4b-857729774e0b",
   "metadata": {},
   "outputs": [
    {
     "name": "stdout",
     "output_type": "stream",
     "text": [
      "AnswerText\n",
      "-1                                                1\n",
      "Transitioned, M2F                                 1\n",
      "gender non-conforming woman                       1\n",
      "fm                                                1\n",
      "fluid                                             1\n",
      "femmina                                           1\n",
      "female-bodied; no feelings about gender           1\n",
      "female                                            1\n",
      "agender                                           1\n",
      "\\-                                                1\n",
      "Woman-identified                                  1\n",
      "Unicorn                                           1\n",
      "Transgender woman                                 1\n",
      "Other                                             1\n",
      "Transfeminine                                     1\n",
      "Trans-female                                      1\n",
      "Trans woman                                       1\n",
      "Trans non-binary/genderfluid                      1\n",
      "Trans man                                         1\n",
      "Trans female                                      1\n",
      "She/her/they/them                                 1\n",
      "SWM                                               1\n",
      "Questioning                                       1\n",
      "Queer                                             1\n",
      "genderfluid                                       1\n",
      "genderqueer                                       1\n",
      "genderqueer woman                                 1\n",
      "human                                             1\n",
      "transgender                                       1\n",
      "trans woman                                       1\n",
      "sometimes                                         1\n",
      "something kinda male?                             1\n",
      "rr                                                1\n",
      "queer/she/they                                    1\n",
      "queer                                             1\n",
      "p                                                 1\n",
      "ostensibly male, unsure what that really means    1\n",
      "none of your business                             1\n",
      "none                                              1\n",
      "nonbinary                                         1\n",
      "non-binary                                        1\n",
      "non binary                                        1\n",
      "nb masculine                                      1\n",
      "mtf                                               1\n",
      "masculino                                         1\n",
      "male/androgynous                                  1\n",
      "male leaning androgynous                          1\n",
      "male 9:1 female, roughly                          1\n",
      "male                                              1\n",
      "Other/Transfeminine                               1\n",
      "Ostensibly Male                                   1\n",
      "43                                                1\n",
      "Demiguy                                           1\n",
      "Genderfluid                                       1\n",
      "Fluid                                             1\n",
      "Female/gender non-binary.                         1\n",
      "Female-ish                                        1\n",
      "Female-identified                                 1\n",
      "Female or Multi-Gender Femme                      1\n",
      "Female assigned at birth                          1\n",
      "Female (trans)                                    1\n",
      "Female                                            1\n",
      "Enby                                              1\n",
      "Contextual                                        1\n",
      "None                                              1\n",
      "Cishet male                                       1\n",
      "Bigender                                          1\n",
      "Androgynous                                       1\n",
      "Androgyne                                         1\n",
      "All                                               1\n",
      "Agender/genderfluid                               1\n",
      "Agender trans woman                               1\n",
      "Agender                                           1\n",
      "AFAB                                              1\n",
      "A little about you                                1\n",
      "Genderfluid (born female)                         1\n",
      "Genderflux demi-girl                              1\n",
      "Genderqueer                                       1\n",
      "Genderqueer demigirl                              1\n",
      "Nonbinary/femme                                   1\n",
      "Nonbinary                                         1\n",
      "Non-binary and gender fluid                       1\n",
      "Non-binary                                        1\n",
      "Non binary                                        1\n",
      "Neuter                                            1\n",
      "Nah                                               1\n",
      "NB                                                1\n",
      "Masculine                                         1\n",
      "Male/genderqueer                                  1\n",
      "Male-ish                                          1\n",
      "Male (trans, FtM)                                 1\n",
      "Male (or female, or both)                         1\n",
      "Male                                              1\n",
      "MALE                                              1\n",
      "I have a penis                                    1\n",
      "I am a Wookie                                     1\n",
      "Human                                             1\n",
      "Guy (-ish) ^_^                                    1\n",
      "God King of the Valajar                           1\n",
      "Genderqueer/non-binary                            1\n",
      "uhhhhhhhhh fem genderqueer?                       1\n",
      "Name: count, dtype: int64\n"
     ]
    }
   ],
   "source": [
    "with pd.option_context('display.max_rows', None):\n",
    "    print(df_age_spread['AnswerText'].value_counts())"
   ]
  },
  {
   "cell_type": "code",
   "execution_count": 29,
   "id": "af368fd2-7571-4b8a-832e-182048011fa8",
   "metadata": {},
   "outputs": [],
   "source": [
    "df_age_spread['gender'] = df_age_spread['AnswerText'].apply(normalize_gender)"
   ]
  },
  {
   "cell_type": "code",
   "execution_count": 30,
   "id": "9aa33089-0a5c-4b36-95be-7c0092553269",
   "metadata": {},
   "outputs": [
    {
     "data": {
      "text/plain": [
       "gender\n",
       "other                64\n",
       "non-binary           15\n",
       "trans                14\n",
       "male                  4\n",
       "female                2\n",
       "prefer not to say     2\n",
       "Name: count, dtype: int64"
      ]
     },
     "execution_count": 30,
     "metadata": {},
     "output_type": "execute_result"
    }
   ],
   "source": [
    "df_age_spread['gender'].value_counts()"
   ]
  },
  {
   "cell_type": "code",
   "execution_count": 39,
   "id": "4c7b3672-a71a-479d-a0de-d7c5d6122a13",
   "metadata": {},
   "outputs": [
    {
     "data": {
      "image/png": "[encoded data removed]",
      "text/plain": [
       "<Figure size 640x480 with 1 Axes>"
      ]
     },
     "metadata": {},
     "output_type": "display_data"
    }
   ],
   "source": [
    "df_age_spread['gender'].value_counts().plot(kind = 'bar')\n",
    "plt.show();"
   ]
  },
  {
   "cell_type": "code",
   "execution_count": null,
   "id": "cc796f97-5fae-475e-8fd9-1d07a45f446c",
   "metadata": {},
   "outputs": [],
   "source": []
  }
 ],
 "metadata": {
  "kernelspec": {
   "display_name": "Python 3 (ipykernel)",
   "language": "python",
   "name": "python3"
  },
  "language_info": {
   "codemirror_mode": {
    "name": "ipython",
    "version": 3
   },
   "file_extension": ".py",
   "mimetype": "text/x-python",
   "name": "python",
   "nbconvert_exporter": "python",
   "pygments_lexer": "ipython3",
   "version": "3.12.7"
  }
 },
 "nbformat": 4,
 "nbformat_minor": 5
}
